{
 "metadata": {
  "language_info": {
   "codemirror_mode": {
    "name": "ipython",
    "version": 3
   },
   "file_extension": ".py",
   "mimetype": "text/x-python",
   "name": "python",
   "nbconvert_exporter": "python",
   "pygments_lexer": "ipython3",
   "version": "3.8.5"
  },
  "orig_nbformat": 4,
  "kernelspec": {
   "name": "python3",
   "display_name": "Python 3.8.5 64-bit ('base': conda)"
  },
  "interpreter": {
   "hash": "c0d5580a4e4b3d156e9f2f74585f52a17152e2e761e06671a15aac4fe32d0ddb"
  }
 },
 "nbformat": 4,
 "nbformat_minor": 2,
 "cells": [
  {
   "source": [
    "# 테스트하기"
   ],
   "cell_type": "markdown",
   "metadata": {}
  },
  {
   "cell_type": "code",
   "execution_count": 1,
   "metadata": {},
   "outputs": [],
   "source": [
    "import requests\n",
    "from urllib import parse\n",
    "import json\n",
    "import pandas as pd\n",
    "from urllib.request import urlopen"
   ]
  },
  {
   "cell_type": "code",
   "execution_count": 2,
   "metadata": {},
   "outputs": [],
   "source": [
    "key_fd = open('../keys/api_key.txt', mode='r')\n",
    "api_key = key_fd.read(100)\n",
    "key_fd.close()"
   ]
  },
  {
   "cell_type": "code",
   "execution_count": 3,
   "metadata": {},
   "outputs": [],
   "source": [
    "request_headers = {\n",
    "    \"User-Agent\": \"Mozilla/5.0 (Windows NT 10.0; Win64; x64) AppleWebKit/537.36 (KHTML, like Gecko) Chrome/91.0.4472.114 Safari/537.36\",\n",
    "    \"Accept-Language\": \"ko-KR,ko;q=0.9,en-US;q=0.8,en;q=0.7\",\n",
    "    \"Accept-Charset\": \"application/x-www-form-urlencoded; charset=UTF-8\",\n",
    "    \"Origin\": \"https://developer.riotgames.com\",\n",
    "    \"X-Riot-Token\": api_key  #Riot API 키   \n",
    "}"
   ]
  },
  {
   "cell_type": "code",
   "execution_count": 4,
   "metadata": {},
   "outputs": [],
   "source": [
    "# 테스트 아이디\n",
    "nickname = 'giyeom'"
   ]
  },
  {
   "cell_type": "code",
   "execution_count": 5,
   "metadata": {},
   "outputs": [],
   "source": [
    "# 암호화 된아이디\n",
    "test_data = requests.get(\"https://kr.api.riotgames.com/lol/summoner/v4/summoners/by-name/\" + parse.quote(nickname), headers=request_headers).json()\n",
    "test_id = test_data['id']\n",
    "test_accountId = test_data['accountId']\n",
    "test_puuid = test_data['puuid'] "
   ]
  },
  {
   "source": [
    "# LOL 데이터 만들기"
   ],
   "cell_type": "markdown",
   "metadata": {}
  },
  {
   "cell_type": "code",
   "execution_count": 6,
   "metadata": {},
   "outputs": [],
   "source": [
    "# 챔피언 데이터\n",
    "response = urlopen(\"http://ddragon.leagueoflegends.com/cdn/11.13.1/data/ko_KR/champion.json\").read().decode('utf-8')\n",
    "champion_data = json.loads(response)"
   ]
  },
  {
   "cell_type": "code",
   "execution_count": 7,
   "metadata": {},
   "outputs": [
    {
     "output_type": "execute_result",
     "data": {
      "text/plain": [
       "['type', 'format', 'version', 'data']"
      ]
     },
     "metadata": {},
     "execution_count": 7
    }
   ],
   "source": [
    "list(champion_data)"
   ]
  },
  {
   "cell_type": "code",
   "execution_count": 8,
   "metadata": {},
   "outputs": [
    {
     "output_type": "execute_result",
     "data": {
      "text/plain": [
       "['Aatrox', 'Ahri', 'Akali', 'Alistar', 'Amumu']"
      ]
     },
     "metadata": {},
     "execution_count": 8
    }
   ],
   "source": [
    "cham_list = list(champion_data['data'])\n",
    "cham_list[:5]"
   ]
  },
  {
   "cell_type": "code",
   "execution_count": 9,
   "metadata": {},
   "outputs": [
    {
     "output_type": "execute_result",
     "data": {
      "text/plain": [
       "['version',\n",
       " 'id',\n",
       " 'key',\n",
       " 'name',\n",
       " 'title',\n",
       " 'blurb',\n",
       " 'info',\n",
       " 'image',\n",
       " 'tags',\n",
       " 'partype',\n",
       " 'stats']"
      ]
     },
     "metadata": {},
     "execution_count": 9
    }
   ],
   "source": [
    "list(champion_data['data']['Aatrox'])"
   ]
  },
  {
   "cell_type": "code",
   "execution_count": 10,
   "metadata": {},
   "outputs": [],
   "source": [
    "name_list = []\n",
    "key_list = []\n",
    "tags_list = []\n",
    "for cham in cham_list:\n",
    "    name = champion_data['data'][cham]['name']\n",
    "    key = champion_data['data'][cham]['key']\n",
    "    tags = champion_data['data'][cham]['tags']\n",
    "    tags = ', '.join(tags)\n",
    "    name_list.append(name)\n",
    "    key_list.append(key)\n",
    "    tags_list.append(tags)"
   ]
  },
  {
   "cell_type": "code",
   "execution_count": 11,
   "metadata": {},
   "outputs": [],
   "source": [
    "champion_df = pd.DataFrame({\n",
    "    'name' : name_list,\n",
    "    'key' : key_list,\n",
    "    'tags' : tags_list,\n",
    "})"
   ]
  },
  {
   "cell_type": "code",
   "execution_count": 12,
   "metadata": {},
   "outputs": [
    {
     "output_type": "execute_result",
     "data": {
      "text/plain": [
       "     name  key            tags\n",
       "0    아트록스  266   Fighter, Tank\n",
       "1      아리  103  Mage, Assassin\n",
       "2     아칼리   84        Assassin\n",
       "3    알리스타   12   Tank, Support\n",
       "4     아무무   32      Tank, Mage\n",
       "..    ...  ...             ...\n",
       "150    제드  238        Assassin\n",
       "151    직스  115            Mage\n",
       "152   질리언   26   Support, Mage\n",
       "153    조이  142   Mage, Support\n",
       "154   자이라  143   Mage, Support\n",
       "\n",
       "[155 rows x 3 columns]"
      ],
      "text/html": "<div>\n<style scoped>\n    .dataframe tbody tr th:only-of-type {\n        vertical-align: middle;\n    }\n\n    .dataframe tbody tr th {\n        vertical-align: top;\n    }\n\n    .dataframe thead th {\n        text-align: right;\n    }\n</style>\n<table border=\"1\" class=\"dataframe\">\n  <thead>\n    <tr style=\"text-align: right;\">\n      <th></th>\n      <th>name</th>\n      <th>key</th>\n      <th>tags</th>\n    </tr>\n  </thead>\n  <tbody>\n    <tr>\n      <th>0</th>\n      <td>아트록스</td>\n      <td>266</td>\n      <td>Fighter, Tank</td>\n    </tr>\n    <tr>\n      <th>1</th>\n      <td>아리</td>\n      <td>103</td>\n      <td>Mage, Assassin</td>\n    </tr>\n    <tr>\n      <th>2</th>\n      <td>아칼리</td>\n      <td>84</td>\n      <td>Assassin</td>\n    </tr>\n    <tr>\n      <th>3</th>\n      <td>알리스타</td>\n      <td>12</td>\n      <td>Tank, Support</td>\n    </tr>\n    <tr>\n      <th>4</th>\n      <td>아무무</td>\n      <td>32</td>\n      <td>Tank, Mage</td>\n    </tr>\n    <tr>\n      <th>...</th>\n      <td>...</td>\n      <td>...</td>\n      <td>...</td>\n    </tr>\n    <tr>\n      <th>150</th>\n      <td>제드</td>\n      <td>238</td>\n      <td>Assassin</td>\n    </tr>\n    <tr>\n      <th>151</th>\n      <td>직스</td>\n      <td>115</td>\n      <td>Mage</td>\n    </tr>\n    <tr>\n      <th>152</th>\n      <td>질리언</td>\n      <td>26</td>\n      <td>Support, Mage</td>\n    </tr>\n    <tr>\n      <th>153</th>\n      <td>조이</td>\n      <td>142</td>\n      <td>Mage, Support</td>\n    </tr>\n    <tr>\n      <th>154</th>\n      <td>자이라</td>\n      <td>143</td>\n      <td>Mage, Support</td>\n    </tr>\n  </tbody>\n</table>\n<p>155 rows × 3 columns</p>\n</div>"
     },
     "metadata": {},
     "execution_count": 12
    }
   ],
   "source": [
    "champion_df"
   ]
  },
  {
   "cell_type": "code",
   "execution_count": 13,
   "metadata": {},
   "outputs": [],
   "source": [
    "# 아이템 데이터\n",
    "response = urlopen(\"http://ddragon.leagueoflegends.com/cdn/11.13.1/data/ko_KR/item.json\").read().decode('utf-8')\n",
    "item_data = json.loads(response)"
   ]
  },
  {
   "cell_type": "code",
   "execution_count": 14,
   "metadata": {},
   "outputs": [
    {
     "output_type": "execute_result",
     "data": {
      "text/plain": [
       "['type', 'version', 'basic', 'data', 'groups', 'tree']"
      ]
     },
     "metadata": {},
     "execution_count": 14
    }
   ],
   "source": [
    "list(item_data) "
   ]
  },
  {
   "cell_type": "code",
   "execution_count": 15,
   "metadata": {},
   "outputs": [
    {
     "output_type": "execute_result",
     "data": {
      "text/plain": [
       "['name',\n",
       " 'rune',\n",
       " 'gold',\n",
       " 'group',\n",
       " 'description',\n",
       " 'colloq',\n",
       " 'plaintext',\n",
       " 'consumed',\n",
       " 'stacks',\n",
       " 'depth',\n",
       " 'consumeOnFull',\n",
       " 'from',\n",
       " 'into',\n",
       " 'specialRecipe',\n",
       " 'inStore',\n",
       " 'hideFromAll',\n",
       " 'requiredChampion',\n",
       " 'requiredAlly',\n",
       " 'stats',\n",
       " 'tags',\n",
       " 'maps']"
      ]
     },
     "metadata": {},
     "execution_count": 15
    }
   ],
   "source": [
    "list(item_data['basic'])"
   ]
  },
  {
   "cell_type": "code",
   "execution_count": 16,
   "metadata": {},
   "outputs": [
    {
     "output_type": "execute_result",
     "data": {
      "text/plain": [
       "['1001', '1004', '1006', '1011', '1018']"
      ]
     },
     "metadata": {},
     "execution_count": 16
    }
   ],
   "source": [
    "itemKey_list = list(item_data['data'])\n",
    "itemKey_list[:5]"
   ]
  },
  {
   "cell_type": "code",
   "execution_count": 17,
   "metadata": {},
   "outputs": [
    {
     "output_type": "execute_result",
     "data": {
      "text/plain": [
       "300"
      ]
     },
     "metadata": {},
     "execution_count": 17
    }
   ],
   "source": [
    "# 골드\n",
    "item_data['data']['1001']['gold']['total']"
   ]
  },
  {
   "cell_type": "code",
   "execution_count": 18,
   "metadata": {},
   "outputs": [
    {
     "output_type": "execute_result",
     "data": {
      "text/plain": [
       "{'name': '핏빛 철갑궁',\n",
       " 'description': '<mainText><stats>공격력 <ornnBonus>70</ornnBonus><br>공격 속도 <ornnBonus>30%</ornnBonus><br>치명타 확률 <attention>20%</attention><br>생명력 흡수 <ornnBonus>12%</ornnBonus></stats><br><li><passive>생명선:</passive> 피해를 받아 체력이 30% 아래로 떨어질 경우 3초 동안 <shield>250~700의 피해를 흡수하는 보호막</shield>을 얻습니다. 또한 8초 동안 <attackDamage>공격력이 15~35</attackDamage> 증가합니다. (90초 )<br><br><rarityMythic>신화급 기본 지속 효과:</rarityMythic> 다른 모든 <rarityLegendary>전설급</rarityLegendary> 아이템에 공격력 <attention>5</attention> 및 체력 <attention>50</attention></mainText><br>',\n",
       " 'colloq': '',\n",
       " 'plaintext': '',\n",
       " 'from': ['6673'],\n",
       " 'requiredAlly': 'Ornn',\n",
       " 'image': {'full': '7008.png',\n",
       "  'sprite': 'item2.png',\n",
       "  'group': 'item',\n",
       "  'x': 288,\n",
       "  'y': 0,\n",
       "  'w': 48,\n",
       "  'h': 48},\n",
       " 'gold': {'base': 0, 'purchasable': True, 'total': 3400, 'sell': 2380},\n",
       " 'tags': ['Health', 'Damage', 'CriticalStrike', 'AttackSpeed', 'LifeSteal'],\n",
       " 'maps': {'11': True, '12': True, '21': True, '22': False},\n",
       " 'stats': {'FlatPhysicalDamageMod': 70,\n",
       "  'FlatCritChanceMod': 0.2,\n",
       "  'PercentAttackSpeedMod': 0.3,\n",
       "  'PercentLifeStealMod': 0.12},\n",
       " 'depth': 4}"
      ]
     },
     "metadata": {},
     "execution_count": 18
    }
   ],
   "source": [
    "item_data['data']['7008']"
   ]
  },
  {
   "cell_type": "code",
   "execution_count": 19,
   "metadata": {},
   "outputs": [],
   "source": [
    "name_list = []\n",
    "gold_list = []\n",
    "tags_list = []\n",
    "for item in itemKey_list:\n",
    "    name = item_data['data'][item]['name']\n",
    "    gold = item_data['data'][item]['gold']['total']\n",
    "    tags = item_data['data'][item]['tags']\n",
    "    tags = ', '.join(tags)\n",
    "    name_list.append(name)\n",
    "    gold_list.append(gold)\n",
    "    tags_list.append(tags)"
   ]
  },
  {
   "cell_type": "code",
   "execution_count": 20,
   "metadata": {},
   "outputs": [],
   "source": [
    "item_df = pd.DataFrame({\n",
    "    'name' : name_list,\n",
    "    'key' : itemKey_list,\n",
    "    'gold' : gold_list,\n",
    "    'tags' : tags_list,\n",
    "})"
   ]
  },
  {
   "cell_type": "code",
   "execution_count": 21,
   "metadata": {},
   "outputs": [
    {
     "output_type": "execute_result",
     "data": {
      "text/plain": [
       "           name   key  gold                                               tags\n",
       "0            장화  1001   300                                              Boots\n",
       "1        요정의 부적  1004   250                                          ManaRegen\n",
       "2     원기 회복의 구슬  1006   150                                        HealthRegen\n",
       "3       거인의 허리띠  1011   900                                             Health\n",
       "4       민첩성의 망토  1018   600                                     CriticalStrike\n",
       "..          ...   ...   ...                                                ...\n",
       "217  황금 새벽의 유물함  7019  2500  Health, SpellBlock, Armor, Aura, Active, Coold...\n",
       "218   슈렐리아의 진혼곡  7020  2500  Health, SpellDamage, ManaRegen, Active, Cooldo...\n",
       "219      성운 투척기  7021  2500             Health, SpellDamage, CooldownReduction\n",
       "220     지휘관의 입지  7022  2500  Health, SpellDamage, ManaRegen, CooldownReduct...\n",
       "221      증오의 사슬  8001  2500    Health, Active, CooldownReduction, AbilityHaste\n",
       "\n",
       "[222 rows x 4 columns]"
      ],
      "text/html": "<div>\n<style scoped>\n    .dataframe tbody tr th:only-of-type {\n        vertical-align: middle;\n    }\n\n    .dataframe tbody tr th {\n        vertical-align: top;\n    }\n\n    .dataframe thead th {\n        text-align: right;\n    }\n</style>\n<table border=\"1\" class=\"dataframe\">\n  <thead>\n    <tr style=\"text-align: right;\">\n      <th></th>\n      <th>name</th>\n      <th>key</th>\n      <th>gold</th>\n      <th>tags</th>\n    </tr>\n  </thead>\n  <tbody>\n    <tr>\n      <th>0</th>\n      <td>장화</td>\n      <td>1001</td>\n      <td>300</td>\n      <td>Boots</td>\n    </tr>\n    <tr>\n      <th>1</th>\n      <td>요정의 부적</td>\n      <td>1004</td>\n      <td>250</td>\n      <td>ManaRegen</td>\n    </tr>\n    <tr>\n      <th>2</th>\n      <td>원기 회복의 구슬</td>\n      <td>1006</td>\n      <td>150</td>\n      <td>HealthRegen</td>\n    </tr>\n    <tr>\n      <th>3</th>\n      <td>거인의 허리띠</td>\n      <td>1011</td>\n      <td>900</td>\n      <td>Health</td>\n    </tr>\n    <tr>\n      <th>4</th>\n      <td>민첩성의 망토</td>\n      <td>1018</td>\n      <td>600</td>\n      <td>CriticalStrike</td>\n    </tr>\n    <tr>\n      <th>...</th>\n      <td>...</td>\n      <td>...</td>\n      <td>...</td>\n      <td>...</td>\n    </tr>\n    <tr>\n      <th>217</th>\n      <td>황금 새벽의 유물함</td>\n      <td>7019</td>\n      <td>2500</td>\n      <td>Health, SpellBlock, Armor, Aura, Active, Coold...</td>\n    </tr>\n    <tr>\n      <th>218</th>\n      <td>슈렐리아의 진혼곡</td>\n      <td>7020</td>\n      <td>2500</td>\n      <td>Health, SpellDamage, ManaRegen, Active, Cooldo...</td>\n    </tr>\n    <tr>\n      <th>219</th>\n      <td>성운 투척기</td>\n      <td>7021</td>\n      <td>2500</td>\n      <td>Health, SpellDamage, CooldownReduction</td>\n    </tr>\n    <tr>\n      <th>220</th>\n      <td>지휘관의 입지</td>\n      <td>7022</td>\n      <td>2500</td>\n      <td>Health, SpellDamage, ManaRegen, CooldownReduct...</td>\n    </tr>\n    <tr>\n      <th>221</th>\n      <td>증오의 사슬</td>\n      <td>8001</td>\n      <td>2500</td>\n      <td>Health, Active, CooldownReduction, AbilityHaste</td>\n    </tr>\n  </tbody>\n</table>\n<p>222 rows × 4 columns</p>\n</div>"
     },
     "metadata": {},
     "execution_count": 21
    }
   ],
   "source": [
    "item_df"
   ]
  },
  {
   "cell_type": "code",
   "execution_count": 22,
   "metadata": {},
   "outputs": [],
   "source": [
    "### 저장 \n",
    "champion_df.to_csv('../00. data/champions.csv')\n",
    "item_df.to_csv('../00. data/items.csv')"
   ]
  },
  {
   "source": [
    "### 룬정보 추가"
   ],
   "cell_type": "markdown",
   "metadata": {}
  },
  {
   "cell_type": "code",
   "execution_count": 23,
   "metadata": {},
   "outputs": [],
   "source": [
    "# 룬 데이터\n",
    "response = urlopen(\"https://ddragon.leagueoflegends.com/cdn/11.13.1/data/ko_KR/runesReforged.json\").read().decode('utf-8')\n",
    "rune_data = json.loads(response)"
   ]
  },
  {
   "cell_type": "code",
   "execution_count": 24,
   "metadata": {},
   "outputs": [
    {
     "output_type": "execute_result",
     "data": {
      "text/plain": [
       "['id', 'key', 'icon', 'name', 'slots']"
      ]
     },
     "metadata": {},
     "execution_count": 24
    }
   ],
   "source": [
    "list(rune_data[4])"
   ]
  },
  {
   "cell_type": "code",
   "execution_count": 25,
   "metadata": {},
   "outputs": [
    {
     "output_type": "execute_result",
     "data": {
      "text/plain": [
       "[{'id': 8112,\n",
       "  'key': 'Electrocute',\n",
       "  'icon': 'perk-images/Styles/Domination/Electrocute/Electrocute.png',\n",
       "  'name': '감전',\n",
       "  'shortDesc': \"3초 동안 같은 챔피언에게 기본 공격 또는 <b>개별</b> 스킬 3회를 적중시키면 추가 <lol-uikit-tooltipped-keyword key='LinkTooltip_Description_AdaptiveDmg'>적응형 피해</lol-uikit-tooltipped-keyword> 적용\",\n",
       "  'longDesc': \"3초 동안 같은 챔피언에게 <b>개별</b> 공격 또는 스킬을 3회 적중시키면 추가 <lol-uikit-tooltipped-keyword key='LinkTooltip_Description_AdaptiveDmg'><font color='#48C4B7'>적응형 피해</font></lol-uikit-tooltipped-keyword>를 입힙니다.<br><br>피해량: 30~180 (+추가 공격력의 0.4, +주문력의 0.25)<br><br>재사용 대기시간: 25~20초<br><br><hr><i>'우리는 그들을 천둥군주라고 부른다. 그들의 번개를 입에 올리는 것은 재앙을 부르는 길이기 때문이다.'</i>\"},\n",
       " {'id': 8124,\n",
       "  'key': 'Predator',\n",
       "  'icon': 'perk-images/Styles/Domination/Predator/Predator.png',\n",
       "  'name': '포식자',\n",
       "  'shortDesc': \"장화에 사용 효과 추가. 사용 시 일시적으로 <lol-uikit-tooltipped-keyword key='LinkTooltip_Description_MS'>이동 속도</lol-uikit-tooltipped-keyword>가 대폭 증가하며 다음 공격 또는 스킬 사용 시 추가 <lol-uikit-tooltipped-keyword key='LinkTooltip_Description_AdaptiveDmg'>적응형 피해</lol-uikit-tooltipped-keyword>\",\n",
       "  'longDesc': \"장화에 '<font color='#c60300'>포식자</font>' 사용 효과를 부여합니다.<br><br>적 챔피언을 쫓을 때 이동 속도가 1.5초 동안 45%까지 서서히 증가합니다. 이후 챔피언에게 공격 또는 스킬 사용 시 이 효과가 종료되며 40~120(+추가 공격력의 <scaleAD>0.2</scaleAD>)(+주문력의 <scaleAP>0.1</scaleAP>)의 추가 <lol-uikit-tooltipped-keyword key='LinkTooltip_Description_AdaptiveDmg'><font color='#48C4B7'>적응형 피해</font></lol-uikit-tooltipped-keyword>를 입힙니다.<br><br>재사용 대기시간: 90~60초\"},\n",
       " {'id': 8128,\n",
       "  'key': 'DarkHarvest',\n",
       "  'icon': 'perk-images/Styles/Domination/DarkHarvest/DarkHarvest.png',\n",
       "  'name': '어둠의 수확',\n",
       "  'shortDesc': \"체력이 낮은 챔피언에게 피해를 입히면 <lol-uikit-tooltipped-keyword key='LinkTooltip_Description_AdaptiveDmg'>적응형 피해</lol-uikit-tooltipped-keyword>를 입히고 해당 챔피언의 영혼을 수확\",\n",
       "  'longDesc': \"체력이 50%보다 낮은 챔피언에게 피해를 입히면 <lol-uikit-tooltipped-keyword key='LinkTooltip_Description_AdaptiveDmg'>적응형 피해</lol-uikit-tooltipped-keyword>를 추가로 입히고 해당 챔피언의 영혼을 수확해 어둠의 수확 효과의 피해량이 영구적으로 5만큼 증가합니다.<br><br>어둠의 수확 피해량: 20~60 (레벨에 비례) (+영혼당 피해량 5) (+추가 공격력의 0.25) (+주문력의 0.15)<br>재사용 대기시간: 45초 (처치 관여 시 1.5초로 초기화)\"},\n",
       " {'id': 9923,\n",
       "  'key': 'HailOfBlades',\n",
       "  'icon': 'perk-images/Styles/Domination/HailOfBlades/HailOfBlades.png',\n",
       "  'name': '칼날비',\n",
       "  'shortDesc': '적 챔피언에 대한 첫 공격 3회 동안 공격 속도 대폭 증가',\n",
       "  'longDesc': '적 챔피언에 대한 3번째 공격까지 공격 속도가 110% 증가합니다.<br><br>3초 안에 다음 공격을 가하지 못하면 효과가 사라집니다.<br><br>재사용 대기시간: 12초<br><br><rules>기본 공격 모션이 취소될 경우 공격 속도 증가 효과가 적용되는 공격 횟수가 1회 늘어납니다.<br>일시적으로 최고 공격 속도 제한을 초과할 수 있습니다.</rules>'}]"
      ]
     },
     "metadata": {},
     "execution_count": 25
    }
   ],
   "source": [
    "rune_data[0]['slots'][0]['runes']"
   ]
  },
  {
   "cell_type": "code",
   "execution_count": 26,
   "metadata": {},
   "outputs": [
    {
     "output_type": "execute_result",
     "data": {
      "text/plain": [
       "'지배'"
      ]
     },
     "metadata": {},
     "execution_count": 26
    }
   ],
   "source": [
    "# 메인 룬\n",
    "rune_data[0]['name']"
   ]
  },
  {
   "cell_type": "code",
   "execution_count": 27,
   "metadata": {},
   "outputs": [
    {
     "output_type": "execute_result",
     "data": {
      "text/plain": [
       "'감전'"
      ]
     },
     "metadata": {},
     "execution_count": 27
    }
   ],
   "source": [
    "# 핵심 룬 \n",
    "rune_data[0]['slots'][0]['runes'][0]['name']"
   ]
  },
  {
   "cell_type": "code",
   "execution_count": 28,
   "metadata": {},
   "outputs": [
    {
     "output_type": "execute_result",
     "data": {
      "text/plain": [
       "'비열한 한 방'"
      ]
     },
     "metadata": {},
     "execution_count": 28
    }
   ],
   "source": [
    "# 서브 룬 \n",
    "rune_data[0]['slots'][1]['runes'][0]['name']"
   ]
  },
  {
   "cell_type": "code",
   "execution_count": 29,
   "metadata": {},
   "outputs": [
    {
     "output_type": "execute_result",
     "data": {
      "text/plain": [
       "8112"
      ]
     },
     "metadata": {},
     "execution_count": 29
    }
   ],
   "source": [
    "# 룬 아이디\n",
    "rune_data[0]['slots'][0]['runes'][0]['id']"
   ]
  },
  {
   "cell_type": "code",
   "execution_count": 99,
   "metadata": {},
   "outputs": [
    {
     "output_type": "stream",
     "name": "stdout",
     "text": [
      "메인룬이름 : 지배\n메인룬keyy : 8100\n핵심룬이름 : 감전\n핵심룬key : 8112\n핵심룬이름 : 포식자\n핵심룬key : 8124\n핵심룬이름 : 어둠의 수확\n핵심룬key : 8128\n핵심룬이름 : 칼날비\n핵심룬key : 9923\n서브룬이름 : 비열한 한 방\n서브룬key : 8126\n서브룬이름 : 피의 맛\n서브룬key : 8139\n서브룬이름 : 돌발 일격\n서브룬key : 8143\n서브룬이름 : 좀비 와드\n서브룬key : 8136\n서브룬이름 : 유령 포로\n서브룬key : 8120\n서브룬이름 : 사냥의 증표\n서브룬key : 8138\n서브룬이름 : 굶주린 사냥꾼\n서브룬key : 8135\n서브룬이름 : 영리한 사냥꾼\n서브룬key : 8134\n서브룬이름 : 끈질긴 사냥꾼\n서브룬key : 8105\n서브룬이름 : 궁극의 사냥꾼\n서브룬key : 8106\n메인룬이름 : 영감\n메인룬keyy : 8300\n핵심룬이름 : 빙결 강화\n핵심룬key : 8351\n핵심룬이름 : 봉인 풀린 주문서\n핵심룬key : 8360\n핵심룬이름 : 프로토타입: 만능의 돌\n핵심룬key : 8358\n서브룬이름 : 마법공학 점멸기\n서브룬key : 8306\n서브룬이름 : 마법의 신발\n서브룬key : 8304\n서브룬이름 : 완벽한 타이밍\n서브룬key : 8313\n서브룬이름 : 외상\n서브룬key : 8321\n서브룬이름 : 미니언 해체분석기\n서브룬key : 8316\n서브룬이름 : 비스킷 배달\n서브룬key : 8345\n서브룬이름 : 우주적 통찰력\n서브룬key : 8347\n서브룬이름 : 쾌속 접근\n서브룬key : 8410\n서브룬이름 : 시간 왜곡 물약\n서브룬key : 8352\n메인룬이름 : 정밀\n메인룬keyy : 8000\n핵심룬이름 : 집중 공격\n핵심룬key : 8005\n핵심룬이름 : 치명적 속도\n핵심룬key : 8008\n핵심룬이름 : 기민한 발놀림\n핵심룬key : 8021\n핵심룬이름 : 정복자\n핵심룬key : 8010\n서브룬이름 : 과다치유\n서브룬key : 9101\n서브룬이름 : 승전보\n서브룬key : 9111\n서브룬이름 : 침착\n서브룬key : 8009\n서브룬이름 : 전설: 민첩함\n서브룬key : 9104\n서브룬이름 : 전설: 강인함\n서브룬key : 9105\n서브룬이름 : 전설: 핏빛 길\n서브룬key : 9103\n서브룬이름 : 최후의 일격\n서브룬key : 8014\n서브룬이름 : 체력차 극복\n서브룬key : 8017\n서브룬이름 : 최후의 저항\n서브룬key : 8299\n메인룬이름 : 결의\n메인룬keyy : 8400\n핵심룬이름 : 착취의 손아귀\n핵심룬key : 8437\n핵심룬이름 : 여진\n핵심룬key : 8439\n핵심룬이름 : 수호자\n핵심룬key : 8465\n서브룬이름 : 철거\n서브룬key : 8446\n서브룬이름 : 생명의 샘\n서브룬key : 8463\n서브룬이름 : 보호막 강타\n서브룬key : 8401\n서브룬이름 : 사전 준비\n서브룬key : 8429\n서브룬이름 : 재생의 바람\n서브룬key : 8444\n서브룬이름 : 뼈 방패\n서브룬key : 8473\n서브룬이름 : 과잉성장\n서브룬key : 8451\n서브룬이름 : 소생\n서브룬key : 8453\n서브룬이름 : 불굴의 의지\n서브룬key : 8242\n메인룬이름 : 마법\n메인룬keyy : 8200\n핵심룬이름 : 콩콩이 소환\n핵심룬key : 8214\n핵심룬이름 : 신비로운 유성\n핵심룬key : 8229\n핵심룬이름 : 난입\n핵심룬key : 8230\n서브룬이름 : 무효화 구체\n서브룬key : 8224\n서브룬이름 : 마나순환 팔찌\n서브룬key : 8226\n서브룬이름 : 빛의 망토\n서브룬key : 8275\n서브룬이름 : 깨달음\n서브룬key : 8210\n서브룬이름 : 기민함\n서브룬key : 8234\n서브룬이름 : 절대 집중\n서브룬key : 8233\n서브룬이름 : 주문 작열\n서브룬key : 8237\n서브룬이름 : 물 위를 걷는 자\n서브룬key : 8232\n서브룬이름 : 폭풍의 결집\n서브룬key : 8236\n"
     ]
    }
   ],
   "source": [
    "name_list, key_list =[], []\n",
    "for i in range(5):\n",
    "    rune_name = rune_data[i]['name']\n",
    "    rune_key = rune_data[i]['id']\n",
    "    name_list.append(rune_name)\n",
    "    key_list.append(rune_key)\n",
    "    print('메인룬이름 :',rune_name)\n",
    "    print('메인룬keyy :',rune_key)\n",
    "    for k in range(4):\n",
    "        rune_len = len(rune_data[i]['slots'][k]['runes'])\n",
    "        for l in range(rune_len):\n",
    "            rune_name = rune_data[i]['slots'][k]['runes'][l]['name']\n",
    "            rune_key = rune_data[i]['slots'][k]['runes'][l]['id']\n",
    "            name_list.append(rune_name)\n",
    "            key_list.append(rune_key)\n",
    "            if k == 0 :\n",
    "                print('핵심룬이름 :',rune_name)\n",
    "                print('핵심룬key :',rune_key)\n",
    "            else:\n",
    "                print('서브룬이름 :',rune_name)\n",
    "                print('서브룬key :',rune_key)"
   ]
  },
  {
   "cell_type": "code",
   "execution_count": 100,
   "metadata": {},
   "outputs": [
    {
     "output_type": "execute_result",
     "data": {
      "text/plain": [
       "         name   key\n",
       "0          지배  8100\n",
       "1          감전  8112\n",
       "2         포식자  8124\n",
       "3      어둠의 수확  8128\n",
       "4         칼날비  9923\n",
       "..        ...   ...\n",
       "63        기민함  8234\n",
       "64      절대 집중  8233\n",
       "65      주문 작열  8237\n",
       "66  물 위를 걷는 자  8232\n",
       "67     폭풍의 결집  8236\n",
       "\n",
       "[68 rows x 2 columns]"
      ],
      "text/html": "<div>\n<style scoped>\n    .dataframe tbody tr th:only-of-type {\n        vertical-align: middle;\n    }\n\n    .dataframe tbody tr th {\n        vertical-align: top;\n    }\n\n    .dataframe thead th {\n        text-align: right;\n    }\n</style>\n<table border=\"1\" class=\"dataframe\">\n  <thead>\n    <tr style=\"text-align: right;\">\n      <th></th>\n      <th>name</th>\n      <th>key</th>\n    </tr>\n  </thead>\n  <tbody>\n    <tr>\n      <th>0</th>\n      <td>지배</td>\n      <td>8100</td>\n    </tr>\n    <tr>\n      <th>1</th>\n      <td>감전</td>\n      <td>8112</td>\n    </tr>\n    <tr>\n      <th>2</th>\n      <td>포식자</td>\n      <td>8124</td>\n    </tr>\n    <tr>\n      <th>3</th>\n      <td>어둠의 수확</td>\n      <td>8128</td>\n    </tr>\n    <tr>\n      <th>4</th>\n      <td>칼날비</td>\n      <td>9923</td>\n    </tr>\n    <tr>\n      <th>...</th>\n      <td>...</td>\n      <td>...</td>\n    </tr>\n    <tr>\n      <th>63</th>\n      <td>기민함</td>\n      <td>8234</td>\n    </tr>\n    <tr>\n      <th>64</th>\n      <td>절대 집중</td>\n      <td>8233</td>\n    </tr>\n    <tr>\n      <th>65</th>\n      <td>주문 작열</td>\n      <td>8237</td>\n    </tr>\n    <tr>\n      <th>66</th>\n      <td>물 위를 걷는 자</td>\n      <td>8232</td>\n    </tr>\n    <tr>\n      <th>67</th>\n      <td>폭풍의 결집</td>\n      <td>8236</td>\n    </tr>\n  </tbody>\n</table>\n<p>68 rows × 2 columns</p>\n</div>"
     },
     "metadata": {},
     "execution_count": 100
    }
   ],
   "source": [
    "# 키 값을 받아서 무슨 룬인지 아는게 목적이니 메인룬 별로 나누진 않았음\n",
    "rune_df = pd.DataFrame({\n",
    "    'name' : name_list,\n",
    "    'key' : key_list,\n",
    "})\n",
    "rune_df"
   ]
  },
  {
   "cell_type": "code",
   "execution_count": 101,
   "metadata": {},
   "outputs": [],
   "source": [
    "# 저장\n",
    "rune_df.to_csv('../00. data/runes.csv')"
   ]
  }
 ]
}