{
 "metadata": {
  "language_info": {
   "codemirror_mode": {
    "name": "ipython",
    "version": 3
   },
   "file_extension": ".py",
   "mimetype": "text/x-python",
   "name": "python",
   "nbconvert_exporter": "python",
   "pygments_lexer": "ipython3",
   "version": "3.8.5"
  },
  "orig_nbformat": 4,
  "kernelspec": {
   "name": "python3",
   "display_name": "Python 3.8.5 64-bit ('base': conda)"
  },
  "interpreter": {
   "hash": "c0d5580a4e4b3d156e9f2f74585f52a17152e2e761e06671a15aac4fe32d0ddb"
  }
 },
 "nbformat": 4,
 "nbformat_minor": 2,
 "cells": [
  {
   "source": [
    "# 테스트하기"
   ],
   "cell_type": "markdown",
   "metadata": {}
  },
  {
   "cell_type": "code",
   "execution_count": 121,
   "metadata": {},
   "outputs": [],
   "source": [
    "import requests\n",
    "from urllib import parse\n",
    "import time\n",
    "import json\n",
    "import pandas as pd\n",
    "from urllib.request import urlopen"
   ]
  },
  {
   "cell_type": "code",
   "execution_count": 122,
   "metadata": {},
   "outputs": [],
   "source": [
    "key_fd = open('../keys/api_key.txt', mode='r')\n",
    "api_key = key_fd.read(100)\n",
    "key_fd.close()"
   ]
  },
  {
   "cell_type": "code",
   "execution_count": 123,
   "metadata": {},
   "outputs": [],
   "source": [
    "request_headers = {\n",
    "    \"User-Agent\": \"Mozilla/5.0 (Windows NT 10.0; Win64; x64) AppleWebKit/537.36 (KHTML, like Gecko) Chrome/91.0.4472.114 Safari/537.36\",\n",
    "    \"Accept-Language\": \"ko-KR,ko;q=0.9,en-US;q=0.8,en;q=0.7\",\n",
    "    \"Accept-Charset\": \"application/x-www-form-urlencoded; charset=UTF-8\",\n",
    "    \"Origin\": \"https://developer.riotgames.com\",\n",
    "    \"X-Riot-Token\": api_key  #Riot API 키   \n",
    "}"
   ]
  },
  {
   "cell_type": "code",
   "execution_count": 124,
   "metadata": {},
   "outputs": [],
   "source": [
    "# 테스트 아이디\n",
    "nickname = 'giyeom'"
   ]
  },
  {
   "cell_type": "code",
   "execution_count": 125,
   "metadata": {},
   "outputs": [],
   "source": [
    "# 암호화 된아이디\n",
    "test_data = requests.get(\"https://kr.api.riotgames.com/lol/summoner/v4/summoners/by-name/\" + parse.quote(nickname), headers=request_headers).json()\n",
    "test_id = test_data['id']\n",
    "test_accountId = test_data['accountId']\n",
    "test_puuid = test_data['puuid'] "
   ]
  },
  {
   "source": [
    "# LOL 데이터 만들기"
   ],
   "cell_type": "markdown",
   "metadata": {}
  },
  {
   "cell_type": "code",
   "execution_count": 126,
   "metadata": {},
   "outputs": [],
   "source": [
    "# 챔피언 데이터\n",
    "response = urlopen(\"http://ddragon.leagueoflegends.com/cdn/11.13.1/data/ko_KR/champion.json\").read().decode('utf-8')\n",
    "champion_data = json.loads(response)"
   ]
  },
  {
   "cell_type": "code",
   "execution_count": 127,
   "metadata": {},
   "outputs": [
    {
     "output_type": "execute_result",
     "data": {
      "text/plain": [
       "['type', 'format', 'version', 'data']"
      ]
     },
     "metadata": {},
     "execution_count": 127
    }
   ],
   "source": [
    "list(champion_data)"
   ]
  },
  {
   "cell_type": "code",
   "execution_count": 128,
   "metadata": {},
   "outputs": [
    {
     "output_type": "execute_result",
     "data": {
      "text/plain": [
       "['Aatrox', 'Ahri', 'Akali', 'Alistar', 'Amumu']"
      ]
     },
     "metadata": {},
     "execution_count": 128
    }
   ],
   "source": [
    "cham_list = list(champion_data['data'])\n",
    "cham_list[:5]"
   ]
  },
  {
   "cell_type": "code",
   "execution_count": 129,
   "metadata": {},
   "outputs": [
    {
     "output_type": "execute_result",
     "data": {
      "text/plain": [
       "['version',\n",
       " 'id',\n",
       " 'key',\n",
       " 'name',\n",
       " 'title',\n",
       " 'blurb',\n",
       " 'info',\n",
       " 'image',\n",
       " 'tags',\n",
       " 'partype',\n",
       " 'stats']"
      ]
     },
     "metadata": {},
     "execution_count": 129
    }
   ],
   "source": [
    "list(champion_data['data']['Aatrox'])"
   ]
  },
  {
   "cell_type": "code",
   "execution_count": 130,
   "metadata": {},
   "outputs": [],
   "source": [
    "name_list = []\n",
    "key_list = []\n",
    "tags_list = []\n",
    "for cham in cham_list:\n",
    "    name = champion_data['data'][cham]['name']\n",
    "    key = champion_data['data'][cham]['key']\n",
    "    tags = champion_data['data'][cham]['tags']\n",
    "    tags = ', '.join(tags)\n",
    "    name_list.append(name)\n",
    "    key_list.append(key)\n",
    "    tags_list.append(tags)"
   ]
  },
  {
   "cell_type": "code",
   "execution_count": 131,
   "metadata": {},
   "outputs": [],
   "source": [
    "champion_df = pd.DataFrame({\n",
    "    'name' : name_list,\n",
    "    'key' : key_list,\n",
    "    'tags' : tags_list,\n",
    "})"
   ]
  },
  {
   "cell_type": "code",
   "execution_count": 132,
   "metadata": {},
   "outputs": [
    {
     "output_type": "execute_result",
     "data": {
      "text/plain": [
       "     name  key            tags\n",
       "0    아트록스  266   Fighter, Tank\n",
       "1      아리  103  Mage, Assassin\n",
       "2     아칼리   84        Assassin\n",
       "3    알리스타   12   Tank, Support\n",
       "4     아무무   32      Tank, Mage\n",
       "..    ...  ...             ...\n",
       "150    제드  238        Assassin\n",
       "151    직스  115            Mage\n",
       "152   질리언   26   Support, Mage\n",
       "153    조이  142   Mage, Support\n",
       "154   자이라  143   Mage, Support\n",
       "\n",
       "[155 rows x 3 columns]"
      ],
      "text/html": "<div>\n<style scoped>\n    .dataframe tbody tr th:only-of-type {\n        vertical-align: middle;\n    }\n\n    .dataframe tbody tr th {\n        vertical-align: top;\n    }\n\n    .dataframe thead th {\n        text-align: right;\n    }\n</style>\n<table border=\"1\" class=\"dataframe\">\n  <thead>\n    <tr style=\"text-align: right;\">\n      <th></th>\n      <th>name</th>\n      <th>key</th>\n      <th>tags</th>\n    </tr>\n  </thead>\n  <tbody>\n    <tr>\n      <th>0</th>\n      <td>아트록스</td>\n      <td>266</td>\n      <td>Fighter, Tank</td>\n    </tr>\n    <tr>\n      <th>1</th>\n      <td>아리</td>\n      <td>103</td>\n      <td>Mage, Assassin</td>\n    </tr>\n    <tr>\n      <th>2</th>\n      <td>아칼리</td>\n      <td>84</td>\n      <td>Assassin</td>\n    </tr>\n    <tr>\n      <th>3</th>\n      <td>알리스타</td>\n      <td>12</td>\n      <td>Tank, Support</td>\n    </tr>\n    <tr>\n      <th>4</th>\n      <td>아무무</td>\n      <td>32</td>\n      <td>Tank, Mage</td>\n    </tr>\n    <tr>\n      <th>...</th>\n      <td>...</td>\n      <td>...</td>\n      <td>...</td>\n    </tr>\n    <tr>\n      <th>150</th>\n      <td>제드</td>\n      <td>238</td>\n      <td>Assassin</td>\n    </tr>\n    <tr>\n      <th>151</th>\n      <td>직스</td>\n      <td>115</td>\n      <td>Mage</td>\n    </tr>\n    <tr>\n      <th>152</th>\n      <td>질리언</td>\n      <td>26</td>\n      <td>Support, Mage</td>\n    </tr>\n    <tr>\n      <th>153</th>\n      <td>조이</td>\n      <td>142</td>\n      <td>Mage, Support</td>\n    </tr>\n    <tr>\n      <th>154</th>\n      <td>자이라</td>\n      <td>143</td>\n      <td>Mage, Support</td>\n    </tr>\n  </tbody>\n</table>\n<p>155 rows × 3 columns</p>\n</div>"
     },
     "metadata": {},
     "execution_count": 132
    }
   ],
   "source": [
    "champion_df"
   ]
  },
  {
   "cell_type": "code",
   "execution_count": 133,
   "metadata": {},
   "outputs": [],
   "source": [
    "# 아이템 데이터\n",
    "response = urlopen(\"http://ddragon.leagueoflegends.com/cdn/11.13.1/data/ko_KR/item.json\").read().decode('utf-8')\n",
    "item_data = json.loads(response)"
   ]
  },
  {
   "cell_type": "code",
   "execution_count": 134,
   "metadata": {},
   "outputs": [
    {
     "output_type": "execute_result",
     "data": {
      "text/plain": [
       "['type', 'version', 'basic', 'data', 'groups', 'tree']"
      ]
     },
     "metadata": {},
     "execution_count": 134
    }
   ],
   "source": [
    "list(item_data) "
   ]
  },
  {
   "cell_type": "code",
   "execution_count": 135,
   "metadata": {},
   "outputs": [
    {
     "output_type": "execute_result",
     "data": {
      "text/plain": [
       "['name',\n",
       " 'rune',\n",
       " 'gold',\n",
       " 'group',\n",
       " 'description',\n",
       " 'colloq',\n",
       " 'plaintext',\n",
       " 'consumed',\n",
       " 'stacks',\n",
       " 'depth',\n",
       " 'consumeOnFull',\n",
       " 'from',\n",
       " 'into',\n",
       " 'specialRecipe',\n",
       " 'inStore',\n",
       " 'hideFromAll',\n",
       " 'requiredChampion',\n",
       " 'requiredAlly',\n",
       " 'stats',\n",
       " 'tags',\n",
       " 'maps']"
      ]
     },
     "metadata": {},
     "execution_count": 135
    }
   ],
   "source": [
    "list(item_data['basic'])"
   ]
  },
  {
   "cell_type": "code",
   "execution_count": 136,
   "metadata": {},
   "outputs": [
    {
     "output_type": "execute_result",
     "data": {
      "text/plain": [
       "['1001', '1004', '1006', '1011', '1018']"
      ]
     },
     "metadata": {},
     "execution_count": 136
    }
   ],
   "source": [
    "itemKey_list = list(item_data['data'])\n",
    "itemKey_list[:5]"
   ]
  },
  {
   "cell_type": "code",
   "execution_count": 137,
   "metadata": {},
   "outputs": [
    {
     "output_type": "execute_result",
     "data": {
      "text/plain": [
       "300"
      ]
     },
     "metadata": {},
     "execution_count": 137
    }
   ],
   "source": [
    "# 골드\n",
    "item_data['data']['1001']['gold']['total']"
   ]
  },
  {
   "cell_type": "code",
   "execution_count": 138,
   "metadata": {},
   "outputs": [
    {
     "output_type": "execute_result",
     "data": {
      "text/plain": [
       "{'name': '핏빛 철갑궁',\n",
       " 'description': '<mainText><stats>공격력 <ornnBonus>70</ornnBonus><br>공격 속도 <ornnBonus>30%</ornnBonus><br>치명타 확률 <attention>20%</attention><br>생명력 흡수 <ornnBonus>12%</ornnBonus></stats><br><li><passive>생명선:</passive> 피해를 받아 체력이 30% 아래로 떨어질 경우 3초 동안 <shield>250~700의 피해를 흡수하는 보호막</shield>을 얻습니다. 또한 8초 동안 <attackDamage>공격력이 15~35</attackDamage> 증가합니다. (90초 )<br><br><rarityMythic>신화급 기본 지속 효과:</rarityMythic> 다른 모든 <rarityLegendary>전설급</rarityLegendary> 아이템에 공격력 <attention>5</attention> 및 체력 <attention>50</attention></mainText><br>',\n",
       " 'colloq': '',\n",
       " 'plaintext': '',\n",
       " 'from': ['6673'],\n",
       " 'requiredAlly': 'Ornn',\n",
       " 'image': {'full': '7008.png',\n",
       "  'sprite': 'item2.png',\n",
       "  'group': 'item',\n",
       "  'x': 288,\n",
       "  'y': 0,\n",
       "  'w': 48,\n",
       "  'h': 48},\n",
       " 'gold': {'base': 0, 'purchasable': True, 'total': 3400, 'sell': 2380},\n",
       " 'tags': ['Health', 'Damage', 'CriticalStrike', 'AttackSpeed', 'LifeSteal'],\n",
       " 'maps': {'11': True, '12': True, '21': True, '22': False},\n",
       " 'stats': {'FlatPhysicalDamageMod': 70,\n",
       "  'FlatCritChanceMod': 0.2,\n",
       "  'PercentAttackSpeedMod': 0.3,\n",
       "  'PercentLifeStealMod': 0.12},\n",
       " 'depth': 4}"
      ]
     },
     "metadata": {},
     "execution_count": 138
    }
   ],
   "source": [
    "item_data['data']['7008']"
   ]
  },
  {
   "cell_type": "code",
   "execution_count": 139,
   "metadata": {},
   "outputs": [],
   "source": [
    "name_list = []\n",
    "gold_list = []\n",
    "tags_list = []\n",
    "for item in itemKey_list:\n",
    "    name = item_data['data'][item]['name']\n",
    "    gold = item_data['data'][item]['gold']['total']\n",
    "    tags = item_data['data'][item]['tags']\n",
    "    tags = ', '.join(tags)\n",
    "    name_list.append(name)\n",
    "    gold_list.append(gold)\n",
    "    tags_list.append(tags)"
   ]
  },
  {
   "cell_type": "code",
   "execution_count": 140,
   "metadata": {},
   "outputs": [],
   "source": [
    "item_df = pd.DataFrame({\n",
    "    'name' : name_list,\n",
    "    'key' : itemKey_list,\n",
    "    'gold' : gold_list,\n",
    "    'tags' : tags_list,\n",
    "})"
   ]
  },
  {
   "cell_type": "code",
   "execution_count": 141,
   "metadata": {},
   "outputs": [
    {
     "output_type": "execute_result",
     "data": {
      "text/plain": [
       "           name   key  gold                                               tags\n",
       "0            장화  1001   300                                              Boots\n",
       "1        요정의 부적  1004   250                                          ManaRegen\n",
       "2     원기 회복의 구슬  1006   150                                        HealthRegen\n",
       "3       거인의 허리띠  1011   900                                             Health\n",
       "4       민첩성의 망토  1018   600                                     CriticalStrike\n",
       "..          ...   ...   ...                                                ...\n",
       "217  황금 새벽의 유물함  7019  2500  Health, SpellBlock, Armor, Aura, Active, Coold...\n",
       "218   슈렐리아의 진혼곡  7020  2500  Health, SpellDamage, ManaRegen, Active, Cooldo...\n",
       "219      성운 투척기  7021  2500             Health, SpellDamage, CooldownReduction\n",
       "220     지휘관의 입지  7022  2500  Health, SpellDamage, ManaRegen, CooldownReduct...\n",
       "221      증오의 사슬  8001  2500    Health, Active, CooldownReduction, AbilityHaste\n",
       "\n",
       "[222 rows x 4 columns]"
      ],
      "text/html": "<div>\n<style scoped>\n    .dataframe tbody tr th:only-of-type {\n        vertical-align: middle;\n    }\n\n    .dataframe tbody tr th {\n        vertical-align: top;\n    }\n\n    .dataframe thead th {\n        text-align: right;\n    }\n</style>\n<table border=\"1\" class=\"dataframe\">\n  <thead>\n    <tr style=\"text-align: right;\">\n      <th></th>\n      <th>name</th>\n      <th>key</th>\n      <th>gold</th>\n      <th>tags</th>\n    </tr>\n  </thead>\n  <tbody>\n    <tr>\n      <th>0</th>\n      <td>장화</td>\n      <td>1001</td>\n      <td>300</td>\n      <td>Boots</td>\n    </tr>\n    <tr>\n      <th>1</th>\n      <td>요정의 부적</td>\n      <td>1004</td>\n      <td>250</td>\n      <td>ManaRegen</td>\n    </tr>\n    <tr>\n      <th>2</th>\n      <td>원기 회복의 구슬</td>\n      <td>1006</td>\n      <td>150</td>\n      <td>HealthRegen</td>\n    </tr>\n    <tr>\n      <th>3</th>\n      <td>거인의 허리띠</td>\n      <td>1011</td>\n      <td>900</td>\n      <td>Health</td>\n    </tr>\n    <tr>\n      <th>4</th>\n      <td>민첩성의 망토</td>\n      <td>1018</td>\n      <td>600</td>\n      <td>CriticalStrike</td>\n    </tr>\n    <tr>\n      <th>...</th>\n      <td>...</td>\n      <td>...</td>\n      <td>...</td>\n      <td>...</td>\n    </tr>\n    <tr>\n      <th>217</th>\n      <td>황금 새벽의 유물함</td>\n      <td>7019</td>\n      <td>2500</td>\n      <td>Health, SpellBlock, Armor, Aura, Active, Coold...</td>\n    </tr>\n    <tr>\n      <th>218</th>\n      <td>슈렐리아의 진혼곡</td>\n      <td>7020</td>\n      <td>2500</td>\n      <td>Health, SpellDamage, ManaRegen, Active, Cooldo...</td>\n    </tr>\n    <tr>\n      <th>219</th>\n      <td>성운 투척기</td>\n      <td>7021</td>\n      <td>2500</td>\n      <td>Health, SpellDamage, CooldownReduction</td>\n    </tr>\n    <tr>\n      <th>220</th>\n      <td>지휘관의 입지</td>\n      <td>7022</td>\n      <td>2500</td>\n      <td>Health, SpellDamage, ManaRegen, CooldownReduct...</td>\n    </tr>\n    <tr>\n      <th>221</th>\n      <td>증오의 사슬</td>\n      <td>8001</td>\n      <td>2500</td>\n      <td>Health, Active, CooldownReduction, AbilityHaste</td>\n    </tr>\n  </tbody>\n</table>\n<p>222 rows × 4 columns</p>\n</div>"
     },
     "metadata": {},
     "execution_count": 141
    }
   ],
   "source": [
    "item_df"
   ]
  },
  {
   "cell_type": "code",
   "execution_count": 142,
   "metadata": {},
   "outputs": [],
   "source": [
    "### 저장 \n",
    "champion_df.to_csv('../00. data/champions.csv')\n",
    "item_df.to_csv('../00. data/items.csv')"
   ]
  },
  {
   "source": [
    "### 룬정보 추가"
   ],
   "cell_type": "markdown",
   "metadata": {}
  },
  {
   "cell_type": "code",
   "execution_count": 143,
   "metadata": {},
   "outputs": [],
   "source": [
    "# 룬 데이터\n",
    "response = urlopen(\"https://ddragon.leagueoflegends.com/cdn/11.13.1/data/ko_KR/runesReforged.json\").read().decode('utf-8')\n",
    "rune_data = json.loads(response)"
   ]
  },
  {
   "cell_type": "code",
   "execution_count": 144,
   "metadata": {},
   "outputs": [
    {
     "output_type": "execute_result",
     "data": {
      "text/plain": [
       "['id', 'key', 'icon', 'name', 'slots']"
      ]
     },
     "metadata": {},
     "execution_count": 144
    }
   ],
   "source": [
    "list(rune_data[4])"
   ]
  },
  {
   "cell_type": "code",
   "execution_count": 145,
   "metadata": {},
   "outputs": [
    {
     "output_type": "execute_result",
     "data": {
      "text/plain": [
       "[{'id': 8112,\n",
       "  'key': 'Electrocute',\n",
       "  'icon': 'perk-images/Styles/Domination/Electrocute/Electrocute.png',\n",
       "  'name': '감전',\n",
       "  'shortDesc': \"3초 동안 같은 챔피언에게 기본 공격 또는 <b>개별</b> 스킬 3회를 적중시키면 추가 <lol-uikit-tooltipped-keyword key='LinkTooltip_Description_AdaptiveDmg'>적응형 피해</lol-uikit-tooltipped-keyword> 적용\",\n",
       "  'longDesc': \"3초 동안 같은 챔피언에게 <b>개별</b> 공격 또는 스킬을 3회 적중시키면 추가 <lol-uikit-tooltipped-keyword key='LinkTooltip_Description_AdaptiveDmg'><font color='#48C4B7'>적응형 피해</font></lol-uikit-tooltipped-keyword>를 입힙니다.<br><br>피해량: 30~180 (+추가 공격력의 0.4, +주문력의 0.25)<br><br>재사용 대기시간: 25~20초<br><br><hr><i>'우리는 그들을 천둥군주라고 부른다. 그들의 번개를 입에 올리는 것은 재앙을 부르는 길이기 때문이다.'</i>\"},\n",
       " {'id': 8124,\n",
       "  'key': 'Predator',\n",
       "  'icon': 'perk-images/Styles/Domination/Predator/Predator.png',\n",
       "  'name': '포식자',\n",
       "  'shortDesc': \"장화에 사용 효과 추가. 사용 시 일시적으로 <lol-uikit-tooltipped-keyword key='LinkTooltip_Description_MS'>이동 속도</lol-uikit-tooltipped-keyword>가 대폭 증가하며 다음 공격 또는 스킬 사용 시 추가 <lol-uikit-tooltipped-keyword key='LinkTooltip_Description_AdaptiveDmg'>적응형 피해</lol-uikit-tooltipped-keyword>\",\n",
       "  'longDesc': \"장화에 '<font color='#c60300'>포식자</font>' 사용 효과를 부여합니다.<br><br>적 챔피언을 쫓을 때 이동 속도가 1.5초 동안 45%까지 서서히 증가합니다. 이후 챔피언에게 공격 또는 스킬 사용 시 이 효과가 종료되며 40~120(+추가 공격력의 <scaleAD>0.2</scaleAD>)(+주문력의 <scaleAP>0.1</scaleAP>)의 추가 <lol-uikit-tooltipped-keyword key='LinkTooltip_Description_AdaptiveDmg'><font color='#48C4B7'>적응형 피해</font></lol-uikit-tooltipped-keyword>를 입힙니다.<br><br>재사용 대기시간: 90~60초\"},\n",
       " {'id': 8128,\n",
       "  'key': 'DarkHarvest',\n",
       "  'icon': 'perk-images/Styles/Domination/DarkHarvest/DarkHarvest.png',\n",
       "  'name': '어둠의 수확',\n",
       "  'shortDesc': \"체력이 낮은 챔피언에게 피해를 입히면 <lol-uikit-tooltipped-keyword key='LinkTooltip_Description_AdaptiveDmg'>적응형 피해</lol-uikit-tooltipped-keyword>를 입히고 해당 챔피언의 영혼을 수확\",\n",
       "  'longDesc': \"체력이 50%보다 낮은 챔피언에게 피해를 입히면 <lol-uikit-tooltipped-keyword key='LinkTooltip_Description_AdaptiveDmg'>적응형 피해</lol-uikit-tooltipped-keyword>를 추가로 입히고 해당 챔피언의 영혼을 수확해 어둠의 수확 효과의 피해량이 영구적으로 5만큼 증가합니다.<br><br>어둠의 수확 피해량: 20~60 (레벨에 비례) (+영혼당 피해량 5) (+추가 공격력의 0.25) (+주문력의 0.15)<br>재사용 대기시간: 45초 (처치 관여 시 1.5초로 초기화)\"},\n",
       " {'id': 9923,\n",
       "  'key': 'HailOfBlades',\n",
       "  'icon': 'perk-images/Styles/Domination/HailOfBlades/HailOfBlades.png',\n",
       "  'name': '칼날비',\n",
       "  'shortDesc': '적 챔피언에 대한 첫 공격 3회 동안 공격 속도 대폭 증가',\n",
       "  'longDesc': '적 챔피언에 대한 3번째 공격까지 공격 속도가 110% 증가합니다.<br><br>3초 안에 다음 공격을 가하지 못하면 효과가 사라집니다.<br><br>재사용 대기시간: 12초<br><br><rules>기본 공격 모션이 취소될 경우 공격 속도 증가 효과가 적용되는 공격 횟수가 1회 늘어납니다.<br>일시적으로 최고 공격 속도 제한을 초과할 수 있습니다.</rules>'}]"
      ]
     },
     "metadata": {},
     "execution_count": 145
    }
   ],
   "source": [
    "rune_data[0]['slots'][0]['runes']"
   ]
  },
  {
   "cell_type": "code",
   "execution_count": 146,
   "metadata": {},
   "outputs": [
    {
     "output_type": "execute_result",
     "data": {
      "text/plain": [
       "'지배'"
      ]
     },
     "metadata": {},
     "execution_count": 146
    }
   ],
   "source": [
    "# 메인 룬\n",
    "rune_data[0]['name']"
   ]
  },
  {
   "cell_type": "code",
   "execution_count": 147,
   "metadata": {},
   "outputs": [
    {
     "output_type": "execute_result",
     "data": {
      "text/plain": [
       "'감전'"
      ]
     },
     "metadata": {},
     "execution_count": 147
    }
   ],
   "source": [
    "# 핵심 룬 \n",
    "rune_data[0]['slots'][0]['runes'][0]['name']"
   ]
  },
  {
   "cell_type": "code",
   "execution_count": 148,
   "metadata": {},
   "outputs": [
    {
     "output_type": "execute_result",
     "data": {
      "text/plain": [
       "'비열한 한 방'"
      ]
     },
     "metadata": {},
     "execution_count": 148
    }
   ],
   "source": [
    "# 서브 룬 \n",
    "rune_data[0]['slots'][1]['runes'][0]['name']"
   ]
  },
  {
   "cell_type": "code",
   "execution_count": 149,
   "metadata": {},
   "outputs": [
    {
     "output_type": "execute_result",
     "data": {
      "text/plain": [
       "8112"
      ]
     },
     "metadata": {},
     "execution_count": 149
    }
   ],
   "source": [
    "# 룬 아이디\n",
    "rune_data[0]['slots'][0]['runes'][0]['id']"
   ]
  }
 ]
}