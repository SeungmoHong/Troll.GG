{
 "metadata": {
  "language_info": {
   "codemirror_mode": {
    "name": "ipython",
    "version": 3
   },
   "file_extension": ".py",
   "mimetype": "text/x-python",
   "name": "python",
   "nbconvert_exporter": "python",
   "pygments_lexer": "ipython3",
   "version": "3.8.5"
  },
  "orig_nbformat": 4,
  "kernelspec": {
   "name": "python3",
   "display_name": "Python 3.8.5 64-bit ('base': conda)"
  },
  "interpreter": {
   "hash": "c0d5580a4e4b3d156e9f2f74585f52a17152e2e761e06671a15aac4fe32d0ddb"
  }
 },
 "nbformat": 4,
 "nbformat_minor": 2,
 "cells": [
  {
   "cell_type": "code",
   "execution_count": 4,
   "metadata": {},
   "outputs": [],
   "source": [
    "import requests\n",
    "from urllib import parse\n",
    "import time\n",
    " \n",
    "api_key = \"RGAPI-e5cc5507-e99b-4e1e-b6ce-0d8c05669b9e\"\n",
    "request_headers = {\n",
    "    \"User-Agent\": \"Mozilla/5.0 (Windows NT 10.0; Win64; x64) AppleWebKit/537.36 (KHTML, like Gecko) Chrome/91.0.4472.114 Safari/537.36\",\n",
    "    \"Accept-Language\": \"ko-KR,ko;q=0.9,en-US;q=0.8,en;q=0.7\",\n",
    "    \"Accept-Charset\": \"application/x-www-form-urlencoded; charset=UTF-8\",\n",
    "    \"Origin\": \"https://developer.riotgames.com\",\n",
    "    \"X-Riot-Token\": \"RGAPI-e5cc5507-e99b-4e1e-b6ce-0d8c05669b9e\"\n",
    "}\n",
    " "
   ]
  },
  {
   "cell_type": "code",
   "execution_count": 5,
   "metadata": {},
   "outputs": [],
   "source": [
    "def check_my_team(*args):\n",
    "    current_players = []\n",
    "    for n in range(0, 4):\n",
    "        name = args[n]\n",
    "        print(name)\n",
    "        encoded_name = parse.quote(name)\n",
    "        current_players.append(encoded_name)\n",
    "        summoner_account_id = requests.get(\"https://kr.api.riotgames.com/lol/summoner/v4/summoners/by-name/\" + encoded_name, headers=request_headers).json()[\"accountId\"]\n",
    "        win = 0\n",
    "        for n in range(0, 10):\n",
    "            get_latest_match_id = requests.get(\"https://kr.api.riotgames.com/lol/match/v4/matchlists/by-account/\" + summoner_account_id, headers=request_headers).json()[\"matches\"][n][\"gameId\"]\n",
    "            get_match_info = requests.get(\"https://kr.api.riotgames.com/lol/match/v4/matches/\" + str(get_latest_match_id), headers=request_headers).json()\n",
    "            for i in range(0, 10):\n",
    "                if get_match_info[\"participantIdentities\"][i][\"player\"][\"summonerName\"] == name:\n",
    "                    if get_match_info[\"participants\"][i][\"stats\"][\"win\"] == True:\n",
    "                        win += 1\n",
    "            time.sleep(1)\n",
    "        print(win)\n",
    "        time.sleep(2)\n",
    "            \n",
    "        latest_players = []\n",
    "        for n in range(0, 10):\n",
    "            get_latest_match_id = requests.get(\"https://kr.api.riotgames.com/lol/match/v4/matchlists/by-account/\" + summoner_account_id, headers=request_headers).json()[\"matches\"][0][\"gameId\"]\n",
    "            get_match_info = requests.get(\"https://kr.api.riotgames.com/lol/match/v4/matches/\" + str(get_latest_match_id), headers=request_headers).json()\n",
    "            latest_players.append(get_match_info[\"participantIdentities\"][n][\"player\"][\"summonerName\"])\n",
    "            time.sleep(1)\n",
    "        print(latest_players)\n",
    "        if len(set(current_players) & set(latest_players)) > 1:\n",
    "            print(set(current_players) & set(latest_players))\n",
    "        else:\n",
    "            print(\"듀오가 없습니다\")\n",
    "        time.sleep(2)"
   ]
  },
  {
   "cell_type": "code",
   "execution_count": 6,
   "metadata": {},
   "outputs": [
    {
     "output_type": "stream",
     "name": "stdout",
     "text": [
      "Giyeom\n",
      "5\n",
      "['또보트대장', '로보트대장', 'Giyeom', '챔원삐뽀', '갑분싸', '탑서로노플', '아련화', '주재욱', '석기영정풀어줘', 'Rief']\n",
      "듀오가 없습니다\n",
      "lol일좀잘해\n",
      "4\n",
      "['참외껍데기', '돌거북 사우루스', '김치네조각', '우리 정글 미아요', '팬토끼', '감자깎이', 'lol일좀잘해', '조호정', '와이식', '워오워']\n",
      "듀오가 없습니다\n",
      "조호정\n",
      "6\n",
      "['참외껍데기', '돌거북 사우루스', '김치네조각', '우리 정글 미아요', '팬토끼', '감자깎이', 'lol일좀잘해', '조호정', '와이식', '워오워']\n",
      "듀오가 없습니다\n",
      "D5D5\n",
      "6\n"
     ]
    },
    {
     "output_type": "error",
     "ename": "KeyError",
     "evalue": "'matches'",
     "traceback": [
      "\u001b[1;31m---------------------------------------------------------------------------\u001b[0m",
      "\u001b[1;31mKeyError\u001b[0m                                  Traceback (most recent call last)",
      "\u001b[1;32m<ipython-input-6-1b40cdd7507e>\u001b[0m in \u001b[0;36m<module>\u001b[1;34m\u001b[0m\n\u001b[1;32m----> 1\u001b[1;33m \u001b[0mcheck_my_team\u001b[0m\u001b[1;33m(\u001b[0m\u001b[1;34m\"Giyeom\"\u001b[0m\u001b[1;33m,\u001b[0m\u001b[1;34m\"lol일좀잘해\"\u001b[0m\u001b[1;33m,\u001b[0m\u001b[1;34m\"조호정\"\u001b[0m\u001b[1;33m,\u001b[0m \u001b[1;34m\"D5D5\"\u001b[0m\u001b[1;33m)\u001b[0m\u001b[1;33m\u001b[0m\u001b[1;33m\u001b[0m\u001b[0m\n\u001b[0m",
      "\u001b[1;32m<ipython-input-5-da43d12d8131>\u001b[0m in \u001b[0;36mcheck_my_team\u001b[1;34m(*args)\u001b[0m\n\u001b[0;32m     21\u001b[0m         \u001b[0mlatest_players\u001b[0m \u001b[1;33m=\u001b[0m \u001b[1;33m[\u001b[0m\u001b[1;33m]\u001b[0m\u001b[1;33m\u001b[0m\u001b[1;33m\u001b[0m\u001b[0m\n\u001b[0;32m     22\u001b[0m         \u001b[1;32mfor\u001b[0m \u001b[0mn\u001b[0m \u001b[1;32min\u001b[0m \u001b[0mrange\u001b[0m\u001b[1;33m(\u001b[0m\u001b[1;36m0\u001b[0m\u001b[1;33m,\u001b[0m \u001b[1;36m10\u001b[0m\u001b[1;33m)\u001b[0m\u001b[1;33m:\u001b[0m\u001b[1;33m\u001b[0m\u001b[1;33m\u001b[0m\u001b[0m\n\u001b[1;32m---> 23\u001b[1;33m             \u001b[0mget_latest_match_id\u001b[0m \u001b[1;33m=\u001b[0m \u001b[0mrequests\u001b[0m\u001b[1;33m.\u001b[0m\u001b[0mget\u001b[0m\u001b[1;33m(\u001b[0m\u001b[1;34m\"https://kr.api.riotgames.com/lol/match/v4/matchlists/by-account/\"\u001b[0m \u001b[1;33m+\u001b[0m \u001b[0msummoner_account_id\u001b[0m\u001b[1;33m,\u001b[0m \u001b[0mheaders\u001b[0m\u001b[1;33m=\u001b[0m\u001b[0mrequest_headers\u001b[0m\u001b[1;33m)\u001b[0m\u001b[1;33m.\u001b[0m\u001b[0mjson\u001b[0m\u001b[1;33m(\u001b[0m\u001b[1;33m)\u001b[0m\u001b[1;33m[\u001b[0m\u001b[1;34m\"matches\"\u001b[0m\u001b[1;33m]\u001b[0m\u001b[1;33m[\u001b[0m\u001b[1;36m0\u001b[0m\u001b[1;33m]\u001b[0m\u001b[1;33m[\u001b[0m\u001b[1;34m\"gameId\"\u001b[0m\u001b[1;33m]\u001b[0m\u001b[1;33m\u001b[0m\u001b[1;33m\u001b[0m\u001b[0m\n\u001b[0m\u001b[0;32m     24\u001b[0m             \u001b[0mget_match_info\u001b[0m \u001b[1;33m=\u001b[0m \u001b[0mrequests\u001b[0m\u001b[1;33m.\u001b[0m\u001b[0mget\u001b[0m\u001b[1;33m(\u001b[0m\u001b[1;34m\"https://kr.api.riotgames.com/lol/match/v4/matches/\"\u001b[0m \u001b[1;33m+\u001b[0m \u001b[0mstr\u001b[0m\u001b[1;33m(\u001b[0m\u001b[0mget_latest_match_id\u001b[0m\u001b[1;33m)\u001b[0m\u001b[1;33m,\u001b[0m \u001b[0mheaders\u001b[0m\u001b[1;33m=\u001b[0m\u001b[0mrequest_headers\u001b[0m\u001b[1;33m)\u001b[0m\u001b[1;33m.\u001b[0m\u001b[0mjson\u001b[0m\u001b[1;33m(\u001b[0m\u001b[1;33m)\u001b[0m\u001b[1;33m\u001b[0m\u001b[1;33m\u001b[0m\u001b[0m\n\u001b[0;32m     25\u001b[0m             \u001b[0mlatest_players\u001b[0m\u001b[1;33m.\u001b[0m\u001b[0mappend\u001b[0m\u001b[1;33m(\u001b[0m\u001b[0mget_match_info\u001b[0m\u001b[1;33m[\u001b[0m\u001b[1;34m\"participantIdentities\"\u001b[0m\u001b[1;33m]\u001b[0m\u001b[1;33m[\u001b[0m\u001b[0mn\u001b[0m\u001b[1;33m]\u001b[0m\u001b[1;33m[\u001b[0m\u001b[1;34m\"player\"\u001b[0m\u001b[1;33m]\u001b[0m\u001b[1;33m[\u001b[0m\u001b[1;34m\"summonerName\"\u001b[0m\u001b[1;33m]\u001b[0m\u001b[1;33m)\u001b[0m\u001b[1;33m\u001b[0m\u001b[1;33m\u001b[0m\u001b[0m\n",
      "\u001b[1;31mKeyError\u001b[0m: 'matches'"
     ]
    }
   ],
   "source": [
    "check_my_team(\"Giyeom\",\"lol일좀잘해\",\"조호정\", \"D5D5\")"
   ]
  },
  {
   "cell_type": "code",
   "execution_count": null,
   "metadata": {},
   "outputs": [],
   "source": [
    "def check_members():\n",
    "    print(\"시작\")\n",
    "    live_game = requests.get(\"https://kr.api.riotgames.com/lol/spectator/v4/active-games/by-summoner/E1AfcxGWK9MaVl7tn6uMcdFNLEFKh3gx3cAEhrm4Wq0iDQ\", headers=request_headers)\n",
    "    live_game = live_game.json()\n",
    "    current_players = []\n",
    "    print(\"진행중\")\n",
    "    print(live_game)\n",
    "    for n in range(0, 10):\n",
    "        print(\"??\")\n",
    "        name = parse.quote(live_game[\"participants\"][n][\"summonerName\"])\n",
    "        print(name)\n",
    "        current_players.append(name)\n",
    "        summoner_account_id = requests.get(\"https://kr.api.riotgames.com/lol/summoner/v4/summoners/by-name/\" + name, headers=request_headers).json()[\"accountId\"]\n",
    "        get_latest_match_id = requests.get(\"https://kr.api.riotgames.com/lol/match/v4/matchlists/by-account/\" + summoner_account_id, headers=request_headers).json()[\"matches\"][0][\"gameId\"]\n",
    "        get_match_info = requests.get(\"https://kr.api.riotgames.com/lol/match/v4/matches/\" + str(get_latest_match_id), headers=request_headers).json()\n",
    "        latest_players = []\n",
    "        for n in range(0, 10):\n",
    "            latest_players.append(get_match_info[\"participantIdentities\"][n][\"player\"][\"summonerName\"])\n",
    "            if len(set(current_players) & set(latest_players)) > 1:\n",
    "                print(set(current_players) & set(latest_players))\n",
    "        time.sleep(2)"
   ]
  },
  {
   "cell_type": "code",
   "execution_count": null,
   "metadata": {},
   "outputs": [],
   "source": [
    "check_members()"
   ]
  },
  {
   "cell_type": "code",
   "execution_count": null,
   "metadata": {},
   "outputs": [],
   "source": []
  }
 ]
}