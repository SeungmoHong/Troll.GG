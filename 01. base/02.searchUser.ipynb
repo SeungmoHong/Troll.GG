{
 "metadata": {
  "language_info": {
   "codemirror_mode": {
    "name": "ipython",
    "version": 3
   },
   "file_extension": ".py",
   "mimetype": "text/x-python",
   "name": "python",
   "nbconvert_exporter": "python",
   "pygments_lexer": "ipython3",
   "version": "3.8.5"
  },
  "orig_nbformat": 4,
  "kernelspec": {
   "name": "python3",
   "display_name": "Python 3.8.5 64-bit ('base': conda)"
  },
  "interpreter": {
   "hash": "c0d5580a4e4b3d156e9f2f74585f52a17152e2e761e06671a15aac4fe32d0ddb"
  }
 },
 "nbformat": 4,
 "nbformat_minor": 2,
 "cells": [
  {
   "source": [
    "# 한 유저의 특정 챔피언 기록보기"
   ],
   "cell_type": "markdown",
   "metadata": {}
  },
  {
   "cell_type": "code",
   "execution_count": 1,
   "metadata": {},
   "outputs": [],
   "source": [
    "import requests\n",
    "from urllib import parse\n",
    "import time\n",
    "import json\n",
    "import pandas as pd\n",
    "from urllib.request import urlopen\n",
    "api_key = \"RGAPI-0d624286-d5a9-484b-8bdc-44b52c8572ae\"\n",
    "request_headers = {\n",
    "    \"User-Agent\": \"Mozilla/5.0 (Windows NT 10.0; Win64; x64) AppleWebKit/537.36 (KHTML, like Gecko) Chrome/91.0.4472.114 Safari/537.36\",\n",
    "    \"Accept-Language\": \"ko-KR,ko;q=0.9,en-US;q=0.8,en;q=0.7\",\n",
    "    \"Accept-Charset\": \"application/x-www-form-urlencoded; charset=UTF-8\",\n",
    "    \"Origin\": \"https://developer.riotgames.com\",\n",
    "    \"X-Riot-Token\": api_key  #Riot API 키   \n",
    "}"
   ]
  },
  {
   "cell_type": "code",
   "execution_count": 32,
   "metadata": {},
   "outputs": [
    {
     "output_type": "execute_result",
     "data": {
      "text/plain": [
       "   name  key            tags\n",
       "0  아트록스  266   Fighter, Tank\n",
       "1    아리  103  Mage, Assassin\n",
       "2   아칼리   84        Assassin\n",
       "3  알리스타   12   Tank, Support\n",
       "4   아무무   32      Tank, Mage"
      ],
      "text/html": "<div>\n<style scoped>\n    .dataframe tbody tr th:only-of-type {\n        vertical-align: middle;\n    }\n\n    .dataframe tbody tr th {\n        vertical-align: top;\n    }\n\n    .dataframe thead th {\n        text-align: right;\n    }\n</style>\n<table border=\"1\" class=\"dataframe\">\n  <thead>\n    <tr style=\"text-align: right;\">\n      <th></th>\n      <th>name</th>\n      <th>key</th>\n      <th>tags</th>\n    </tr>\n  </thead>\n  <tbody>\n    <tr>\n      <th>0</th>\n      <td>아트록스</td>\n      <td>266</td>\n      <td>Fighter, Tank</td>\n    </tr>\n    <tr>\n      <th>1</th>\n      <td>아리</td>\n      <td>103</td>\n      <td>Mage, Assassin</td>\n    </tr>\n    <tr>\n      <th>2</th>\n      <td>아칼리</td>\n      <td>84</td>\n      <td>Assassin</td>\n    </tr>\n    <tr>\n      <th>3</th>\n      <td>알리스타</td>\n      <td>12</td>\n      <td>Tank, Support</td>\n    </tr>\n    <tr>\n      <th>4</th>\n      <td>아무무</td>\n      <td>32</td>\n      <td>Tank, Mage</td>\n    </tr>\n  </tbody>\n</table>\n</div>"
     },
     "metadata": {},
     "execution_count": 32
    }
   ],
   "source": [
    "champion_df = pd.read_csv('../00. data/champions.csv', index_col = 0)\n",
    "champion_df.head()"
   ]
  },
  {
   "cell_type": "code",
   "execution_count": 109,
   "metadata": {},
   "outputs": [],
   "source": [
    "# 유저의 암호화된 아이디를 불러오는 함수 유저의 암호화된 아이디를 불러오는 함수\n",
    "def searchUserId(nickname):\n",
    "    user_data = requests.get(\"https://kr.api.riotgames.com/lol/summoner/v4/summoners/by-name/\" + parse.quote(nickname), headers=request_headers).json()\n",
    "    userId = user_data['id']\n",
    "    userAccountId = user_data['accountId']\n",
    "    userPuuid = user_data['puuid'] \n",
    "    return userId, userAccountId, userPuuid\n",
    "# 한유저의 특정 챔피언 매치ID들을 불러오는 함수\n",
    "def searchMatchId(accountId, champion):\n",
    "    championKey = champion_df['key'][champion_df['key'][champion_df['name'] == champion].index[0]] # 챔피언 키구하기\n",
    "    match_data = requests.get(\"https://kr.api.riotgames.com/lol/match/v4/matchlists/by-account/\" + accountId + \"?champion=\" + str(championKey),headers=request_headers).json()['matches']\n",
    "    match_list = []\n",
    "    for i in range(len(match_data)):\n",
    "        match = match_data[i]['gameId']\n",
    "        match_list.append(match)\n",
    "    return match_list"
   ]
  },
  {
   "cell_type": "code",
   "execution_count": 110,
   "metadata": {},
   "outputs": [
    {
     "output_type": "execute_result",
     "data": {
      "text/plain": [
       "100"
      ]
     },
     "metadata": {},
     "execution_count": 110
    }
   ],
   "source": [
    "userId, userAccountId, userPuuid = searchUserId('Giyeom') # 유저의 닉네임 Giyeom\n",
    "match_list = searchMatchId(userAccountId, '나르') # 유저의 챔피언 나르로 설정\n",
    "len(match_list) # 최대가 100개"
   ]
  },
  {
   "cell_type": "code",
   "execution_count": 111,
   "metadata": {},
   "outputs": [
    {
     "output_type": "execute_result",
     "data": {
      "text/plain": [
       "5267358938"
      ]
     },
     "metadata": {},
     "execution_count": 111
    }
   ],
   "source": [
    "match_list[0]"
   ]
  },
  {
   "cell_type": "code",
   "execution_count": 118,
   "metadata": {},
   "outputs": [],
   "source": [
    "a = requests.get('https://kr.api.riotgames.com/lol/match/v4/matches/' + str(match_list[0]), headers=request_headers).json()"
   ]
  },
  {
   "cell_type": "code",
   "execution_count": 119,
   "metadata": {},
   "outputs": [
    {
     "output_type": "execute_result",
     "data": {
      "text/plain": [
       "['gameId',\n",
       " 'platformId',\n",
       " 'gameCreation',\n",
       " 'gameDuration',\n",
       " 'queueId',\n",
       " 'mapId',\n",
       " 'seasonId',\n",
       " 'gameVersion',\n",
       " 'gameMode',\n",
       " 'gameType',\n",
       " 'teams',\n",
       " 'participants',\n",
       " 'participantIdentities']"
      ]
     },
     "metadata": {},
     "execution_count": 119
    }
   ],
   "source": [
    "list(a)"
   ]
  },
  {
   "cell_type": "code",
   "execution_count": 120,
   "metadata": {},
   "outputs": [
    {
     "output_type": "execute_result",
     "data": {
      "text/plain": [
       "[{'teamId': 100,\n",
       "  'win': 'Fail',\n",
       "  'firstBlood': True,\n",
       "  'firstTower': False,\n",
       "  'firstInhibitor': False,\n",
       "  'firstBaron': False,\n",
       "  'firstDragon': True,\n",
       "  'firstRiftHerald': False,\n",
       "  'towerKills': 0,\n",
       "  'inhibitorKills': 0,\n",
       "  'baronKills': 0,\n",
       "  'dragonKills': 1,\n",
       "  'vilemawKills': 0,\n",
       "  'riftHeraldKills': 0,\n",
       "  'dominionVictoryScore': 0,\n",
       "  'bans': [{'championId': 235, 'pickTurn': 1},\n",
       "   {'championId': 887, 'pickTurn': 2},\n",
       "   {'championId': 238, 'pickTurn': 3},\n",
       "   {'championId': 117, 'pickTurn': 4},\n",
       "   {'championId': 60, 'pickTurn': 5}]},\n",
       " {'teamId': 200,\n",
       "  'win': 'Win',\n",
       "  'firstBlood': False,\n",
       "  'firstTower': True,\n",
       "  'firstInhibitor': True,\n",
       "  'firstBaron': True,\n",
       "  'firstDragon': False,\n",
       "  'firstRiftHerald': True,\n",
       "  'towerKills': 9,\n",
       "  'inhibitorKills': 1,\n",
       "  'baronKills': 1,\n",
       "  'dragonKills': 3,\n",
       "  'vilemawKills': 0,\n",
       "  'riftHeraldKills': 1,\n",
       "  'dominionVictoryScore': 0,\n",
       "  'bans': [{'championId': 84, 'pickTurn': 6},\n",
       "   {'championId': 412, 'pickTurn': 7},\n",
       "   {'championId': 81, 'pickTurn': 8},\n",
       "   {'championId': 64, 'pickTurn': 9},\n",
       "   {'championId': 266, 'pickTurn': 10}]}]"
      ]
     },
     "metadata": {},
     "execution_count": 120
    }
   ],
   "source": [
    "a['teams']"
   ]
  },
  {
   "cell_type": "code",
   "execution_count": 122,
   "metadata": {},
   "outputs": [
    {
     "output_type": "execute_result",
     "data": {
      "text/plain": [
       "{'participantId': 1,\n",
       " 'teamId': 100,\n",
       " 'championId': 57,\n",
       " 'spell1Id': 14,\n",
       " 'spell2Id': 4,\n",
       " 'stats': {'participantId': 1,\n",
       "  'win': False,\n",
       "  'item0': 3853,\n",
       "  'item1': 4005,\n",
       "  'item2': 1029,\n",
       "  'item3': 3047,\n",
       "  'item4': 0,\n",
       "  'item5': 0,\n",
       "  'item6': 3364,\n",
       "  'kills': 0,\n",
       "  'deaths': 12,\n",
       "  'assists': 4,\n",
       "  'largestKillingSpree': 0,\n",
       "  'largestMultiKill': 0,\n",
       "  'killingSprees': 0,\n",
       "  'longestTimeSpentLiving': 234,\n",
       "  'doubleKills': 0,\n",
       "  'tripleKills': 0,\n",
       "  'quadraKills': 0,\n",
       "  'pentaKills': 0,\n",
       "  'unrealKills': 0,\n",
       "  'totalDamageDealt': 24672,\n",
       "  'magicDamageDealt': 21199,\n",
       "  'physicalDamageDealt': 2982,\n",
       "  'trueDamageDealt': 490,\n",
       "  'largestCriticalStrike': 0,\n",
       "  'totalDamageDealtToChampions': 12947,\n",
       "  'magicDamageDealtToChampions': 11836,\n",
       "  'physicalDamageDealtToChampions': 620,\n",
       "  'trueDamageDealtToChampions': 490,\n",
       "  'totalHeal': 1762,\n",
       "  'totalUnitsHealed': 1,\n",
       "  'damageSelfMitigated': 11104,\n",
       "  'damageDealtToObjectives': 523,\n",
       "  'damageDealtToTurrets': 0,\n",
       "  'visionScore': 50,\n",
       "  'timeCCingOthers': 49,\n",
       "  'totalDamageTaken': 18039,\n",
       "  'magicalDamageTaken': 5417,\n",
       "  'physicalDamageTaken': 12078,\n",
       "  'trueDamageTaken': 543,\n",
       "  'goldEarned': 5036,\n",
       "  'goldSpent': 4880,\n",
       "  'turretKills': 0,\n",
       "  'inhibitorKills': 0,\n",
       "  'totalMinionsKilled': 13,\n",
       "  'neutralMinionsKilled': 0,\n",
       "  'neutralMinionsKilledTeamJungle': 0,\n",
       "  'neutralMinionsKilledEnemyJungle': 0,\n",
       "  'totalTimeCrowdControlDealt': 233,\n",
       "  'champLevel': 10,\n",
       "  'visionWardsBoughtInGame': 6,\n",
       "  'sightWardsBoughtInGame': 0,\n",
       "  'wardsPlaced': 22,\n",
       "  'wardsKilled': 8,\n",
       "  'firstBloodKill': False,\n",
       "  'firstBloodAssist': False,\n",
       "  'firstTowerKill': False,\n",
       "  'firstTowerAssist': False,\n",
       "  'firstInhibitorKill': False,\n",
       "  'firstInhibitorAssist': False,\n",
       "  'combatPlayerScore': 0,\n",
       "  'objectivePlayerScore': 0,\n",
       "  'totalPlayerScore': 0,\n",
       "  'totalScoreRank': 0,\n",
       "  'playerScore0': 0,\n",
       "  'playerScore1': 0,\n",
       "  'playerScore2': 0,\n",
       "  'playerScore3': 0,\n",
       "  'playerScore4': 0,\n",
       "  'playerScore5': 0,\n",
       "  'playerScore6': 0,\n",
       "  'playerScore7': 0,\n",
       "  'playerScore8': 0,\n",
       "  'playerScore9': 0,\n",
       "  'perk0': 8214,\n",
       "  'perk0Var1': 777,\n",
       "  'perk0Var2': 0,\n",
       "  'perk0Var3': 0,\n",
       "  'perk1': 8226,\n",
       "  'perk1Var1': 250,\n",
       "  'perk1Var2': 363,\n",
       "  'perk1Var3': 0,\n",
       "  'perk2': 8210,\n",
       "  'perk2Var1': 0,\n",
       "  'perk2Var2': 0,\n",
       "  'perk2Var3': 0,\n",
       "  'perk3': 8237,\n",
       "  'perk3Var1': 484,\n",
       "  'perk3Var2': 0,\n",
       "  'perk3Var3': 0,\n",
       "  'perk4': 8345,\n",
       "  'perk4Var1': 3,\n",
       "  'perk4Var2': 0,\n",
       "  'perk4Var3': 0,\n",
       "  'perk5': 8347,\n",
       "  'perk5Var1': 0,\n",
       "  'perk5Var2': 0,\n",
       "  'perk5Var3': 0,\n",
       "  'perkPrimaryStyle': 8200,\n",
       "  'perkSubStyle': 8300,\n",
       "  'statPerk0': 5008,\n",
       "  'statPerk1': 5008,\n",
       "  'statPerk2': 5002},\n",
       " 'timeline': {'participantId': 1,\n",
       "  'creepsPerMinDeltas': {'10-20': 0.6000000000000001, '0-10': 0.2},\n",
       "  'xpPerMinDeltas': {'10-20': 193.8, '0-10': 230.8},\n",
       "  'goldPerMinDeltas': {'10-20': 192.3, '0-10': 158.4},\n",
       "  'csDiffPerMinDeltas': {'10-20': -6, '0-10': -6.4},\n",
       "  'xpDiffPerMinDeltas': {'10-20': -335.2, '0-10': -229.89999999999998},\n",
       "  'damageTakenPerMinDeltas': {'10-20': 690.1, '0-10': 344},\n",
       "  'damageTakenDiffPerMinDeltas': {'10-20': -363.40000000000003,\n",
       "   '0-10': -166.8},\n",
       "  'role': 'SOLO',\n",
       "  'lane': 'MIDDLE'}}"
      ]
     },
     "metadata": {},
     "execution_count": 122
    }
   ],
   "source": [
    "a['participants'][0]"
   ]
  },
  {
   "cell_type": "code",
   "execution_count": null,
   "metadata": {},
   "outputs": [],
   "source": []
  }
 ]
}