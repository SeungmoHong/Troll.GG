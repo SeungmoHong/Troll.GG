{
 "metadata": {
  "language_info": {
   "codemirror_mode": {
    "name": "ipython",
    "version": 3
   },
   "file_extension": ".py",
   "mimetype": "text/x-python",
   "name": "python",
   "nbconvert_exporter": "python",
   "pygments_lexer": "ipython3",
   "version": "3.8.5"
  },
  "orig_nbformat": 4,
  "kernelspec": {
   "name": "python3",
   "display_name": "Python 3.8.5 64-bit ('base': conda)"
  },
  "interpreter": {
   "hash": "c0d5580a4e4b3d156e9f2f74585f52a17152e2e761e06671a15aac4fe32d0ddb"
  }
 },
 "nbformat": 4,
 "nbformat_minor": 2,
 "cells": [
  {
   "source": [
    "# Riot APi로 유저정보 받기"
   ],
   "cell_type": "markdown",
   "metadata": {}
  },
  {
   "cell_type": "code",
   "execution_count": 1,
   "metadata": {},
   "outputs": [],
   "source": [
    "import requests\n",
    "from urllib import parse\n",
    "import time\n",
    "import json\n",
    "import pandas as pd\n",
    "from urllib.request import urlopen"
   ]
  },
  {
   "cell_type": "code",
   "execution_count": 2,
   "metadata": {},
   "outputs": [],
   "source": [
    "key_fd = open('../keys/api_key.txt', mode='r')\n",
    "api_key = key_fd.read(100)\n",
    "key_fd.close()"
   ]
  },
  {
   "cell_type": "code",
   "execution_count": 3,
   "metadata": {},
   "outputs": [],
   "source": [
    "request_headers = {\n",
    "    \"User-Agent\": \"Mozilla/5.0 (Windows NT 10.0; Win64; x64) AppleWebKit/537.36 (KHTML, like Gecko) Chrome/91.0.4472.114 Safari/537.36\",\n",
    "    \"Accept-Language\": \"ko-KR,ko;q=0.9,en-US;q=0.8,en;q=0.7\",\n",
    "    \"Accept-Charset\": \"application/x-www-form-urlencoded; charset=UTF-8\",\n",
    "    \"Origin\": \"https://developer.riotgames.com\",\n",
    "    \"X-Riot-Token\": api_key  #Riot API 키   \n",
    "}"
   ]
  },
  {
   "cell_type": "code",
   "execution_count": 4,
   "metadata": {},
   "outputs": [
    {
     "output_type": "execute_result",
     "data": {
      "text/plain": [
       "   name  key            tags\n",
       "0  아트록스  266   Fighter, Tank\n",
       "1    아리  103  Mage, Assassin\n",
       "2   아칼리   84        Assassin\n",
       "3  알리스타   12   Tank, Support\n",
       "4   아무무   32      Tank, Mage"
      ],
      "text/html": "<div>\n<style scoped>\n    .dataframe tbody tr th:only-of-type {\n        vertical-align: middle;\n    }\n\n    .dataframe tbody tr th {\n        vertical-align: top;\n    }\n\n    .dataframe thead th {\n        text-align: right;\n    }\n</style>\n<table border=\"1\" class=\"dataframe\">\n  <thead>\n    <tr style=\"text-align: right;\">\n      <th></th>\n      <th>name</th>\n      <th>key</th>\n      <th>tags</th>\n    </tr>\n  </thead>\n  <tbody>\n    <tr>\n      <th>0</th>\n      <td>아트록스</td>\n      <td>266</td>\n      <td>Fighter, Tank</td>\n    </tr>\n    <tr>\n      <th>1</th>\n      <td>아리</td>\n      <td>103</td>\n      <td>Mage, Assassin</td>\n    </tr>\n    <tr>\n      <th>2</th>\n      <td>아칼리</td>\n      <td>84</td>\n      <td>Assassin</td>\n    </tr>\n    <tr>\n      <th>3</th>\n      <td>알리스타</td>\n      <td>12</td>\n      <td>Tank, Support</td>\n    </tr>\n    <tr>\n      <th>4</th>\n      <td>아무무</td>\n      <td>32</td>\n      <td>Tank, Mage</td>\n    </tr>\n  </tbody>\n</table>\n</div>"
     },
     "metadata": {},
     "execution_count": 4
    }
   ],
   "source": [
    "champion_df = pd.read_csv('../00. data/champions.csv', index_col = 0)\n",
    "champion_df.head()"
   ]
  },
  {
   "cell_type": "code",
   "execution_count": 5,
   "metadata": {},
   "outputs": [
    {
     "output_type": "execute_result",
     "data": {
      "text/plain": [
       "        name   key  gold            tags\n",
       "0         장화  1001   300           Boots\n",
       "1     요정의 부적  1004   250       ManaRegen\n",
       "2  원기 회복의 구슬  1006   150     HealthRegen\n",
       "3    거인의 허리띠  1011   900          Health\n",
       "4    민첩성의 망토  1018   600  CriticalStrike"
      ],
      "text/html": "<div>\n<style scoped>\n    .dataframe tbody tr th:only-of-type {\n        vertical-align: middle;\n    }\n\n    .dataframe tbody tr th {\n        vertical-align: top;\n    }\n\n    .dataframe thead th {\n        text-align: right;\n    }\n</style>\n<table border=\"1\" class=\"dataframe\">\n  <thead>\n    <tr style=\"text-align: right;\">\n      <th></th>\n      <th>name</th>\n      <th>key</th>\n      <th>gold</th>\n      <th>tags</th>\n    </tr>\n  </thead>\n  <tbody>\n    <tr>\n      <th>0</th>\n      <td>장화</td>\n      <td>1001</td>\n      <td>300</td>\n      <td>Boots</td>\n    </tr>\n    <tr>\n      <th>1</th>\n      <td>요정의 부적</td>\n      <td>1004</td>\n      <td>250</td>\n      <td>ManaRegen</td>\n    </tr>\n    <tr>\n      <th>2</th>\n      <td>원기 회복의 구슬</td>\n      <td>1006</td>\n      <td>150</td>\n      <td>HealthRegen</td>\n    </tr>\n    <tr>\n      <th>3</th>\n      <td>거인의 허리띠</td>\n      <td>1011</td>\n      <td>900</td>\n      <td>Health</td>\n    </tr>\n    <tr>\n      <th>4</th>\n      <td>민첩성의 망토</td>\n      <td>1018</td>\n      <td>600</td>\n      <td>CriticalStrike</td>\n    </tr>\n  </tbody>\n</table>\n</div>"
     },
     "metadata": {},
     "execution_count": 5
    }
   ],
   "source": [
    "item_df = pd.read_csv('../00. data/items.csv', index_col = 0)\n",
    "item_df.head()"
   ]
  },
  {
   "cell_type": "code",
   "execution_count": 6,
   "metadata": {},
   "outputs": [],
   "source": [
    "# 유저의 암호화된 아이디를 불러오는 함수 유저의 암호화된 아이디를 불러오는 함수\n",
    "def searchUserId(nickname):\n",
    "    user_data = requests.get(\"https://kr.api.riotgames.com/lol/summoner/v4/summoners/by-name/\" + parse.quote(nickname), headers=request_headers).json()\n",
    "    userId = user_data['id']\n",
    "    userAccountId = user_data['accountId']\n",
    "    userPuuid = user_data['puuid'] \n",
    "    return userId, userAccountId, userPuuid\n",
    "# 한유저의 특정 챔피언 매치ID들을 불러오는 함수\n",
    "def searchChampMatchId(accountId, champion):\n",
    "    championKey = champion_df['key'][champion_df['key'][champion_df['name'] == champion].index[0]] # 챔피언 키구하기\n",
    "    match_data = requests.get(\"https://kr.api.riotgames.com/lol/match/v4/matchlists/by-account/\" + accountId + \"?champion=\" + str(championKey),headers=request_headers).json()['matches']\n",
    "    match_list = []\n",
    "    for i in range(len(match_data)):\n",
    "        match = match_data[i]['gameId']\n",
    "        match_list.append(match)\n",
    "    return match_list\n",
    "# 한유저의 매치 ID들을 불러오는 함수\n",
    "def searchMatchId(accountId):\n",
    "    match_data = requests.get(\"https://kr.api.riotgames.com/lol/match/v4/matchlists/by-account/\" + accountId,headers=request_headers).json()['matches']\n",
    "    match_list = []\n",
    "    for i in range(len(match_data)):\n",
    "        match = match_data[i]['gameId']\n",
    "        match_list.append(match)\n",
    "    return match_list\n",
    "# 챔피언키로 챔피언 이름 불러오는 함수\n",
    "def searchChampion(championKey):\n",
    "    champ = champion_df['name'][champion_df['name'][champion_df['key'] == championKey].index[0]]\n",
    "    return champ  \n",
    "# 아이템키로 아이템 이름 불러오는 함수\n",
    "def searchItem(itemKey):\n",
    "    item = item_df['name'][item_df['name'][item_df['key'] == itemKey].index[0]]\n",
    "    return item  "
   ]
  },
  {
   "cell_type": "code",
   "execution_count": 7,
   "metadata": {},
   "outputs": [
    {
     "output_type": "execute_result",
     "data": {
      "text/plain": [
       "100"
      ]
     },
     "metadata": {},
     "execution_count": 7
    }
   ],
   "source": [
    "userId, userAccountId, userPuuid = searchUserId('Giyeom') # 유저의 닉네임 Giyeom\n",
    "match_list = searchChampMatchId(userAccountId, '나르') # 유저의 챔피언 나르로 설정\n",
    "len(match_list) # 최대가 100개"
   ]
  },
  {
   "cell_type": "code",
   "execution_count": 8,
   "metadata": {},
   "outputs": [],
   "source": [
    "match_list2 = searchMatchId(userAccountId)"
   ]
  },
  {
   "cell_type": "code",
   "execution_count": 9,
   "metadata": {},
   "outputs": [
    {
     "output_type": "execute_result",
     "data": {
      "text/plain": [
       "5291438564"
      ]
     },
     "metadata": {},
     "execution_count": 9
    }
   ],
   "source": [
    "match_list[0]"
   ]
  },
  {
   "cell_type": "code",
   "execution_count": 10,
   "metadata": {},
   "outputs": [],
   "source": [
    "# sample_a\n",
    "a = requests.get('https://kr.api.riotgames.com/lol/match/v4/matches/' + str(match_list[0]), headers=request_headers).json()"
   ]
  },
  {
   "cell_type": "code",
   "execution_count": 11,
   "metadata": {},
   "outputs": [
    {
     "output_type": "execute_result",
     "data": {
      "text/plain": [
       "['gameId',\n",
       " 'platformId',\n",
       " 'gameCreation',\n",
       " 'gameDuration',\n",
       " 'queueId',\n",
       " 'mapId',\n",
       " 'seasonId',\n",
       " 'gameVersion',\n",
       " 'gameMode',\n",
       " 'gameType',\n",
       " 'teams',\n",
       " 'participants',\n",
       " 'participantIdentities']"
      ]
     },
     "metadata": {},
     "execution_count": 11
    }
   ],
   "source": [
    "list(a)"
   ]
  },
  {
   "cell_type": "code",
   "execution_count": 12,
   "metadata": {},
   "outputs": [
    {
     "output_type": "execute_result",
     "data": {
      "text/plain": [
       "[{'teamId': 100,\n",
       "  'win': 'Win',\n",
       "  'firstBlood': False,\n",
       "  'firstTower': True,\n",
       "  'firstInhibitor': True,\n",
       "  'firstBaron': True,\n",
       "  'firstDragon': True,\n",
       "  'firstRiftHerald': True,\n",
       "  'towerKills': 9,\n",
       "  'inhibitorKills': 2,\n",
       "  'baronKills': 1,\n",
       "  'dragonKills': 2,\n",
       "  'vilemawKills': 0,\n",
       "  'riftHeraldKills': 2,\n",
       "  'dominionVictoryScore': 0,\n",
       "  'bans': [{'championId': 526, 'pickTurn': 1},\n",
       "   {'championId': 64, 'pickTurn': 2},\n",
       "   {'championId': 517, 'pickTurn': 3},\n",
       "   {'championId': 120, 'pickTurn': 4},\n",
       "   {'championId': 12, 'pickTurn': 5}]},\n",
       " {'teamId': 200,\n",
       "  'win': 'Fail',\n",
       "  'firstBlood': True,\n",
       "  'firstTower': False,\n",
       "  'firstInhibitor': False,\n",
       "  'firstBaron': False,\n",
       "  'firstDragon': False,\n",
       "  'firstRiftHerald': False,\n",
       "  'towerKills': 3,\n",
       "  'inhibitorKills': 0,\n",
       "  'baronKills': 0,\n",
       "  'dragonKills': 1,\n",
       "  'vilemawKills': 0,\n",
       "  'riftHeraldKills': 0,\n",
       "  'dominionVictoryScore': 0,\n",
       "  'bans': [{'championId': 360, 'pickTurn': 6},\n",
       "   {'championId': 56, 'pickTurn': 7},\n",
       "   {'championId': 81, 'pickTurn': 8},\n",
       "   {'championId': 246, 'pickTurn': 9},\n",
       "   {'championId': 117, 'pickTurn': 10}]}]"
      ]
     },
     "metadata": {},
     "execution_count": 12
    }
   ],
   "source": [
    "a['teams']"
   ]
  },
  {
   "cell_type": "code",
   "execution_count": 13,
   "metadata": {},
   "outputs": [
    {
     "output_type": "execute_result",
     "data": {
      "text/plain": [
       "{'participantId': 1,\n",
       " 'teamId': 100,\n",
       " 'championId': 82,\n",
       " 'spell1Id': 11,\n",
       " 'spell2Id': 4,\n",
       " 'stats': {'participantId': 1,\n",
       "  'win': True,\n",
       "  'item0': 4633,\n",
       "  'item1': 4637,\n",
       "  'item2': 2420,\n",
       "  'item3': 3111,\n",
       "  'item4': 3108,\n",
       "  'item5': 0,\n",
       "  'item6': 3364,\n",
       "  'kills': 6,\n",
       "  'deaths': 2,\n",
       "  'assists': 6,\n",
       "  'largestKillingSpree': 4,\n",
       "  'largestMultiKill': 1,\n",
       "  'killingSprees': 2,\n",
       "  'longestTimeSpentLiving': 556,\n",
       "  'doubleKills': 0,\n",
       "  'tripleKills': 0,\n",
       "  'quadraKills': 0,\n",
       "  'pentaKills': 0,\n",
       "  'unrealKills': 0,\n",
       "  'totalDamageDealt': 175204,\n",
       "  'magicDamageDealt': 141033,\n",
       "  'physicalDamageDealt': 21541,\n",
       "  'trueDamageDealt': 12631,\n",
       "  'largestCriticalStrike': 0,\n",
       "  'totalDamageDealtToChampions': 11435,\n",
       "  'magicDamageDealtToChampions': 8678,\n",
       "  'physicalDamageDealtToChampions': 1081,\n",
       "  'trueDamageDealtToChampions': 1676,\n",
       "  'totalHeal': 10449,\n",
       "  'totalUnitsHealed': 1,\n",
       "  'damageSelfMitigated': 16925,\n",
       "  'damageDealtToObjectives': 41836,\n",
       "  'damageDealtToTurrets': 5523,\n",
       "  'visionScore': 11,\n",
       "  'timeCCingOthers': 7,\n",
       "  'totalDamageTaken': 20340,\n",
       "  'magicalDamageTaken': 3680,\n",
       "  'physicalDamageTaken': 16328,\n",
       "  'trueDamageTaken': 331,\n",
       "  'goldEarned': 11945,\n",
       "  'goldSpent': 9275,\n",
       "  'turretKills': 4,\n",
       "  'inhibitorKills': 0,\n",
       "  'totalMinionsKilled': 48,\n",
       "  'neutralMinionsKilled': 136,\n",
       "  'neutralMinionsKilledTeamJungle': 82,\n",
       "  'neutralMinionsKilledEnemyJungle': 13,\n",
       "  'totalTimeCrowdControlDealt': 213,\n",
       "  'champLevel': 15,\n",
       "  'visionWardsBoughtInGame': 1,\n",
       "  'sightWardsBoughtInGame': 0,\n",
       "  'wardsPlaced': 5,\n",
       "  'wardsKilled': 1,\n",
       "  'firstBloodKill': False,\n",
       "  'firstBloodAssist': False,\n",
       "  'firstTowerKill': False,\n",
       "  'firstTowerAssist': False,\n",
       "  'firstInhibitorKill': False,\n",
       "  'firstInhibitorAssist': False,\n",
       "  'combatPlayerScore': 0,\n",
       "  'objectivePlayerScore': 0,\n",
       "  'totalPlayerScore': 0,\n",
       "  'totalScoreRank': 0,\n",
       "  'playerScore0': 0,\n",
       "  'playerScore1': 0,\n",
       "  'playerScore2': 0,\n",
       "  'playerScore3': 0,\n",
       "  'playerScore4': 0,\n",
       "  'playerScore5': 0,\n",
       "  'playerScore6': 0,\n",
       "  'playerScore7': 0,\n",
       "  'playerScore8': 0,\n",
       "  'playerScore9': 0,\n",
       "  'perk0': 8010,\n",
       "  'perk0Var1': 135,\n",
       "  'perk0Var2': 0,\n",
       "  'perk0Var3': 0,\n",
       "  'perk1': 9111,\n",
       "  'perk1Var1': 742,\n",
       "  'perk1Var2': 240,\n",
       "  'perk1Var3': 0,\n",
       "  'perk2': 9104,\n",
       "  'perk2Var1': 13,\n",
       "  'perk2Var2': 20,\n",
       "  'perk2Var3': 0,\n",
       "  'perk3': 8299,\n",
       "  'perk3Var1': 410,\n",
       "  'perk3Var2': 0,\n",
       "  'perk3Var3': 0,\n",
       "  'perk4': 8429,\n",
       "  'perk4Var1': 48,\n",
       "  'perk4Var2': 14,\n",
       "  'perk4Var3': 13,\n",
       "  'perk5': 8453,\n",
       "  'perk5Var1': 1218,\n",
       "  'perk5Var2': 434,\n",
       "  'perk5Var3': 0,\n",
       "  'perkPrimaryStyle': 8000,\n",
       "  'perkSubStyle': 8400,\n",
       "  'statPerk0': 5008,\n",
       "  'statPerk1': 5008,\n",
       "  'statPerk2': 5002},\n",
       " 'timeline': {'participantId': 1,\n",
       "  'creepsPerMinDeltas': {'10-20': 2.5999999999999996, '0-10': 0.1},\n",
       "  'xpPerMinDeltas': {'10-20': 657, '0-10': 341.9},\n",
       "  'goldPerMinDeltas': {'10-20': 558.8, '0-10': 282.1},\n",
       "  'csDiffPerMinDeltas': {'10-20': 2.2, '0-10': -1.3},\n",
       "  'xpDiffPerMinDeltas': {'10-20': 270.3, '0-10': 26.69999999999999},\n",
       "  'damageTakenPerMinDeltas': {'10-20': 1051.7, '0-10': 694},\n",
       "  'damageTakenDiffPerMinDeltas': {'10-20': 177.20000000000005, '0-10': 300.7},\n",
       "  'role': 'NONE',\n",
       "  'lane': 'JUNGLE'}}"
      ]
     },
     "metadata": {},
     "execution_count": 13
    }
   ],
   "source": [
    "a['participants'][0]"
   ]
  },
  {
   "cell_type": "code",
   "execution_count": 14,
   "metadata": {},
   "outputs": [
    {
     "output_type": "execute_result",
     "data": {
      "text/plain": [
       "{'participantId': 1,\n",
       " 'player': {'platformId': 'KR',\n",
       "  'accountId': 'Iv7fd-IJoCf76_psTEiLMYpmgNT2b-M6PwOtszP93mG_',\n",
       "  'summonerName': 'KUBO SAYANO',\n",
       "  'summonerId': 'iwaS4NM218w8pmuZMhJX23IaHDQPq3YO4Cgsfv9ze1GRpQ',\n",
       "  'currentPlatformId': 'KR',\n",
       "  'currentAccountId': 'Iv7fd-IJoCf76_psTEiLMYpmgNT2b-M6PwOtszP93mG_',\n",
       "  'matchHistoryUri': '/v1/stats/player_history/KR/1794063',\n",
       "  'profileIcon': 4379}}"
      ]
     },
     "metadata": {},
     "execution_count": 14
    }
   ],
   "source": [
    "a['participantIdentities'][0]"
   ]
  },
  {
   "cell_type": "code",
   "execution_count": 15,
   "metadata": {},
   "outputs": [],
   "source": [
    "# sample_a의 유저 닉네임 구하기 \n",
    "users_info = a['participantIdentities']\n",
    "user_list = []\n",
    "for user_info in users_info:\n",
    "    user_name = user_info['player']['summonerName']\n",
    "    user_list.append(user_name)"
   ]
  },
  {
   "cell_type": "code",
   "execution_count": 16,
   "metadata": {},
   "outputs": [
    {
     "output_type": "execute_result",
     "data": {
      "text/plain": [
       "['KUBO SAYANO',\n",
       " '도전전문유튜버',\n",
       " '킹매이커',\n",
       " '탱 푸',\n",
       " '깽판 전문가',\n",
       " 'Giyeom',\n",
       " '다이아개돼지련들',\n",
       " '미아치면오픈',\n",
       " 'starfired',\n",
       " 'qweljkfsdv']"
      ]
     },
     "metadata": {},
     "execution_count": 16
    }
   ],
   "source": [
    "user_list"
   ]
  },
  {
   "cell_type": "code",
   "execution_count": 17,
   "metadata": {},
   "outputs": [
    {
     "output_type": "execute_result",
     "data": {
      "text/plain": [
       "'JUNGLE'"
      ]
     },
     "metadata": {},
     "execution_count": 17
    }
   ],
   "source": [
    "a['participants'][0]['timeline']['lane']"
   ]
  },
  {
   "cell_type": "code",
   "execution_count": 18,
   "metadata": {},
   "outputs": [],
   "source": [
    "def match_record(matchId):\n",
    "    match_record = requests.get('https://kr.api.riotgames.com/lol/match/v4/matches/' + str(matchId), headers=request_headers).json()\n",
    "    users_record = match_record['participants']\n",
    "    users_info = match_record['participantIdentities']\n",
    "    user_list = []\n",
    "    for user_info in users_info:\n",
    "        user_name = user_info['player']['summonerName']\n",
    "        user_list.append(user_name)\n",
    "    users_champion = []\n",
    "    users_kda = []\n",
    "    users_items = []\n",
    "    users_lane = []\n",
    "    for user_record in users_record:\n",
    "        user_champion = searchChampion(user_record['championId'])\n",
    "        user_kda = str(user_record['stats']['kills']) + '/' + str(user_record['stats']['deaths']) + '/' + str(user_record['stats']['assists'])\n",
    "        user_items = []\n",
    "        for i in range(6):\n",
    "            itemKey = user_record['stats']['item'+str(i)]\n",
    "            if itemKey == 0:\n",
    "                pass\n",
    "            else:\n",
    "                user_items.append(searchItem(user_record['stats']['item'+str(i)]))\n",
    "        user_items = ', '.join(user_items)\n",
    "        user_lane = user_record['timeline']['lane']\n",
    "        users_champion.append(user_champion)\n",
    "        users_kda.append(user_kda)\n",
    "        users_items.append(user_items)\n",
    "        users_lane.append(user_lane)\n",
    "    df = pd.DataFrame({\n",
    "    'Nickname' : user_list,\n",
    "    'Champion' : users_champion,\n",
    "    'Lane' : users_lane,\n",
    "    'KDA' : users_kda,\n",
    "    'Items' : users_items\n",
    "    })\n",
    "    return df"
   ]
  },
  {
   "cell_type": "code",
   "execution_count": 19,
   "metadata": {},
   "outputs": [
    {
     "output_type": "execute_result",
     "data": {
      "text/plain": [
       "         Nickname Champion    Lane    KDA  \\\n",
       "0  Yogg Saron Box      우디르  JUNGLE  6/3/5   \n",
       "1        삐용삐용이멀젼씨      루시안  MIDDLE  5/4/3   \n",
       "2           믿 거 빵      벨코즈  BOTTOM  4/4/9   \n",
       "3    황족 MID LINER      스웨인  BOTTOM  6/0/7   \n",
       "4          Giyeom       나르     TOP  4/2/6   \n",
       "5          Manila       베인     TOP  2/6/0   \n",
       "6         04년생 치타      렉사이  JUNGLE  2/7/3   \n",
       "7          강 철 산i    트리스타나  BOTTOM  2/1/1   \n",
       "8             영탈자      판테온  BOTTOM  6/7/0   \n",
       "9         삐리링버스기사       요네  MIDDLE  0/4/3   \n",
       "\n",
       "                                               Items  \n",
       "0  터보 화공 탱크, 제어 와드, 망자의 갑옷, 파수꾼의 갑옷, 루비 수정, 명석함의 ...  \n",
       "1               돌풍, 광전사의 군화, 정수 약탈자, 롱소드, 도란의 검, 롱소드  \n",
       "2                        만년서리, 얼음 정수의 파편, 증폭의 고서, 장화  \n",
       "3            충전형 물약, 만년서리, 존야의 모래시계, 마법사의 신발, 도란의 반지  \n",
       "4               발걸음 분쇄기, 판금 장화, 도란의 방패, 점화석, 파수꾼의 갑옷  \n",
       "5           충전형 물약, 도란의 검, 절정의 화살, 광전사의 군화, 몰락한 왕의 검  \n",
       "6                                             여신의 눈물  \n",
       "7             도란의 검, 충전형 물약, 크라켄 학살자, 광전사의 군화, 유령 무희  \n",
       "8         룬 강철 어깨 갑옷, 월식, 기동력의 장화, 제어 와드, 톱날 단검, 롱소드  \n",
       "9                           도란의 방패, 불멸의 철갑궁, 광전사의 군화  "
      ],
      "text/html": "<div>\n<style scoped>\n    .dataframe tbody tr th:only-of-type {\n        vertical-align: middle;\n    }\n\n    .dataframe tbody tr th {\n        vertical-align: top;\n    }\n\n    .dataframe thead th {\n        text-align: right;\n    }\n</style>\n<table border=\"1\" class=\"dataframe\">\n  <thead>\n    <tr style=\"text-align: right;\">\n      <th></th>\n      <th>Nickname</th>\n      <th>Champion</th>\n      <th>Lane</th>\n      <th>KDA</th>\n      <th>Items</th>\n    </tr>\n  </thead>\n  <tbody>\n    <tr>\n      <th>0</th>\n      <td>Yogg Saron Box</td>\n      <td>우디르</td>\n      <td>JUNGLE</td>\n      <td>6/3/5</td>\n      <td>터보 화공 탱크, 제어 와드, 망자의 갑옷, 파수꾼의 갑옷, 루비 수정, 명석함의 ...</td>\n    </tr>\n    <tr>\n      <th>1</th>\n      <td>삐용삐용이멀젼씨</td>\n      <td>루시안</td>\n      <td>MIDDLE</td>\n      <td>5/4/3</td>\n      <td>돌풍, 광전사의 군화, 정수 약탈자, 롱소드, 도란의 검, 롱소드</td>\n    </tr>\n    <tr>\n      <th>2</th>\n      <td>믿 거 빵</td>\n      <td>벨코즈</td>\n      <td>BOTTOM</td>\n      <td>4/4/9</td>\n      <td>만년서리, 얼음 정수의 파편, 증폭의 고서, 장화</td>\n    </tr>\n    <tr>\n      <th>3</th>\n      <td>황족 MID LINER</td>\n      <td>스웨인</td>\n      <td>BOTTOM</td>\n      <td>6/0/7</td>\n      <td>충전형 물약, 만년서리, 존야의 모래시계, 마법사의 신발, 도란의 반지</td>\n    </tr>\n    <tr>\n      <th>4</th>\n      <td>Giyeom</td>\n      <td>나르</td>\n      <td>TOP</td>\n      <td>4/2/6</td>\n      <td>발걸음 분쇄기, 판금 장화, 도란의 방패, 점화석, 파수꾼의 갑옷</td>\n    </tr>\n    <tr>\n      <th>5</th>\n      <td>Manila</td>\n      <td>베인</td>\n      <td>TOP</td>\n      <td>2/6/0</td>\n      <td>충전형 물약, 도란의 검, 절정의 화살, 광전사의 군화, 몰락한 왕의 검</td>\n    </tr>\n    <tr>\n      <th>6</th>\n      <td>04년생 치타</td>\n      <td>렉사이</td>\n      <td>JUNGLE</td>\n      <td>2/7/3</td>\n      <td>여신의 눈물</td>\n    </tr>\n    <tr>\n      <th>7</th>\n      <td>강 철 산i</td>\n      <td>트리스타나</td>\n      <td>BOTTOM</td>\n      <td>2/1/1</td>\n      <td>도란의 검, 충전형 물약, 크라켄 학살자, 광전사의 군화, 유령 무희</td>\n    </tr>\n    <tr>\n      <th>8</th>\n      <td>영탈자</td>\n      <td>판테온</td>\n      <td>BOTTOM</td>\n      <td>6/7/0</td>\n      <td>룬 강철 어깨 갑옷, 월식, 기동력의 장화, 제어 와드, 톱날 단검, 롱소드</td>\n    </tr>\n    <tr>\n      <th>9</th>\n      <td>삐리링버스기사</td>\n      <td>요네</td>\n      <td>MIDDLE</td>\n      <td>0/4/3</td>\n      <td>도란의 방패, 불멸의 철갑궁, 광전사의 군화</td>\n    </tr>\n  </tbody>\n</table>\n</div>"
     },
     "metadata": {},
     "execution_count": 19
    }
   ],
   "source": [
    "# 전적 test 1\n",
    "match_record(match_list[25])"
   ]
  },
  {
   "cell_type": "code",
   "execution_count": 20,
   "metadata": {},
   "outputs": [
    {
     "output_type": "execute_result",
     "data": {
      "text/plain": [
       "           Nickname Champion    Lane     KDA  \\\n",
       "0  GreendayGreenday       피즈  MIDDLE   8/7/7   \n",
       "1           핑으로대화바람       렝가  JUNGLE  16/7/6   \n",
       "2             국산망둥어    아펠리오스  BOTTOM  9/3/14   \n",
       "3            ganttz      쓰레쉬  BOTTOM  0/7/18   \n",
       "4              자유생성     볼리베어     TOP   6/6/5   \n",
       "5              헌하짱짱       세트  BOTTOM  2/8/16   \n",
       "6     Animal Beaver     피들스틱  JUNGLE  5/8/14   \n",
       "7            Giyeom      레넥톤     TOP  2/8/10   \n",
       "8             칼챔못해요       제드  MIDDLE  7/7/10   \n",
       "9         마음이 모두 닳아      카이사  BOTTOM  14/8/4   \n",
       "\n",
       "                                               Items  \n",
       "0  루덴의 폭풍, 망가진 초시계, 존야의 모래시계, 명석함의 아이오니아 장화, 리치베인...  \n",
       "1  드락사르의 황혼검, 정수 약탈자, 징수의 총, 밤의 끝자락, 기동력의 장화, 독사의...  \n",
       "2  루난의 허리케인, 무한의 대검, 크라켄 학살자, 광전사의 군화, 피바라기, B.F. 대검  \n",
       "3  화이트록의 갑옷, 강철의 솔라리 펜던트, 제어 와드, 덤불 조끼, 망자의 갑옷, 기...  \n",
       "4  존야의 모래시계, 초시계, 신성한 파괴자, 파수꾼의 갑옷, 명석함의 아이오니아 장화...  \n",
       "5           터보 화공 탱크, 판금 장화, 제어 와드, 화이트록의 갑옷, 망자의 갑옷  \n",
       "6  존야의 모래시계, 리안드리의 고뇌, 마법사의 신발, 제어 와드, 쓸데없이 큰 지팡이...  \n",
       "7    선혈포식자, 처형인의 대검, 쇠사슬 조끼, 망가진 초시계, 판금 장화, 스테락의 도전  \n",
       "8  독사의 송곳니, 충전형 물약, 드락사르의 황혼검, 명석함의 아이오니아 장화, 밤의 ...  \n",
       "9          무한의 대검, 루난의 허리케인, 징수의 총, 크라켄 학살자, 광전사의 군화  "
      ],
      "text/html": "<div>\n<style scoped>\n    .dataframe tbody tr th:only-of-type {\n        vertical-align: middle;\n    }\n\n    .dataframe tbody tr th {\n        vertical-align: top;\n    }\n\n    .dataframe thead th {\n        text-align: right;\n    }\n</style>\n<table border=\"1\" class=\"dataframe\">\n  <thead>\n    <tr style=\"text-align: right;\">\n      <th></th>\n      <th>Nickname</th>\n      <th>Champion</th>\n      <th>Lane</th>\n      <th>KDA</th>\n      <th>Items</th>\n    </tr>\n  </thead>\n  <tbody>\n    <tr>\n      <th>0</th>\n      <td>GreendayGreenday</td>\n      <td>피즈</td>\n      <td>MIDDLE</td>\n      <td>8/7/7</td>\n      <td>루덴의 폭풍, 망가진 초시계, 존야의 모래시계, 명석함의 아이오니아 장화, 리치베인...</td>\n    </tr>\n    <tr>\n      <th>1</th>\n      <td>핑으로대화바람</td>\n      <td>렝가</td>\n      <td>JUNGLE</td>\n      <td>16/7/6</td>\n      <td>드락사르의 황혼검, 정수 약탈자, 징수의 총, 밤의 끝자락, 기동력의 장화, 독사의...</td>\n    </tr>\n    <tr>\n      <th>2</th>\n      <td>국산망둥어</td>\n      <td>아펠리오스</td>\n      <td>BOTTOM</td>\n      <td>9/3/14</td>\n      <td>루난의 허리케인, 무한의 대검, 크라켄 학살자, 광전사의 군화, 피바라기, B.F. 대검</td>\n    </tr>\n    <tr>\n      <th>3</th>\n      <td>ganttz</td>\n      <td>쓰레쉬</td>\n      <td>BOTTOM</td>\n      <td>0/7/18</td>\n      <td>화이트록의 갑옷, 강철의 솔라리 펜던트, 제어 와드, 덤불 조끼, 망자의 갑옷, 기...</td>\n    </tr>\n    <tr>\n      <th>4</th>\n      <td>자유생성</td>\n      <td>볼리베어</td>\n      <td>TOP</td>\n      <td>6/6/5</td>\n      <td>존야의 모래시계, 초시계, 신성한 파괴자, 파수꾼의 갑옷, 명석함의 아이오니아 장화...</td>\n    </tr>\n    <tr>\n      <th>5</th>\n      <td>헌하짱짱</td>\n      <td>세트</td>\n      <td>BOTTOM</td>\n      <td>2/8/16</td>\n      <td>터보 화공 탱크, 판금 장화, 제어 와드, 화이트록의 갑옷, 망자의 갑옷</td>\n    </tr>\n    <tr>\n      <th>6</th>\n      <td>Animal Beaver</td>\n      <td>피들스틱</td>\n      <td>JUNGLE</td>\n      <td>5/8/14</td>\n      <td>존야의 모래시계, 리안드리의 고뇌, 마법사의 신발, 제어 와드, 쓸데없이 큰 지팡이...</td>\n    </tr>\n    <tr>\n      <th>7</th>\n      <td>Giyeom</td>\n      <td>레넥톤</td>\n      <td>TOP</td>\n      <td>2/8/10</td>\n      <td>선혈포식자, 처형인의 대검, 쇠사슬 조끼, 망가진 초시계, 판금 장화, 스테락의 도전</td>\n    </tr>\n    <tr>\n      <th>8</th>\n      <td>칼챔못해요</td>\n      <td>제드</td>\n      <td>MIDDLE</td>\n      <td>7/7/10</td>\n      <td>독사의 송곳니, 충전형 물약, 드락사르의 황혼검, 명석함의 아이오니아 장화, 밤의 ...</td>\n    </tr>\n    <tr>\n      <th>9</th>\n      <td>마음이 모두 닳아</td>\n      <td>카이사</td>\n      <td>BOTTOM</td>\n      <td>14/8/4</td>\n      <td>무한의 대검, 루난의 허리케인, 징수의 총, 크라켄 학살자, 광전사의 군화</td>\n    </tr>\n  </tbody>\n</table>\n</div>"
     },
     "metadata": {},
     "execution_count": 20
    }
   ],
   "source": [
    "# 전적 test 2\n",
    "match_record(match_list2[5])"
   ]
  },
  {
   "source": [
    "### 트롤러 잡아내기"
   ],
   "cell_type": "markdown",
   "metadata": {}
  },
  {
   "cell_type": "code",
   "execution_count": 21,
   "metadata": {},
   "outputs": [],
   "source": [
    "userId, userAccountId, userPuuid = searchUserId('아이번이니까렝가해주시면안될까요') # 유저의 닉네임 Giyeom\n",
    "match_list = searchChampMatchId(userAccountId, '아이번') # 유저의 챔피언 나르로 설정"
   ]
  },
  {
   "cell_type": "code",
   "execution_count": 24,
   "metadata": {},
   "outputs": [
    {
     "output_type": "execute_result",
     "data": {
      "text/plain": [
       "           Nickname Champion    Lane      KDA  \\\n",
       "0            얼룩덜룩한말       그웬     TOP   9/2/11   \n",
       "1               토리5      리 신  JUNGLE  11/3/12   \n",
       "2            불구경 장인      비에고  MIDDLE    6/2/9   \n",
       "3             은정곤듀님      징크스  BOTTOM   7/2/10   \n",
       "4           내 인생은 고      쓰레쉬  BOTTOM    0/5/7   \n",
       "5    IlllIIIIllIlII     칼리스타  BOTTOM    1/5/8   \n",
       "6  아이번이니까렝가해주시면안될까요      아이번  JUNGLE    0/6/9   \n",
       "7              비타명재       제드  MIDDLE    6/8/2   \n",
       "8    LongStrongWard     노틸러스  BOTTOM    6/6/3   \n",
       "9           메우메우귀여움      스웨인     TOP    1/8/3   \n",
       "\n",
       "                                               Items  \n",
       "0  존야의 모래시계, 망각의 구, 균열 생성기, 명석함의 아이오니아 장화, 내셔의 이빨...  \n",
       "1              곡괭이, 선혈포식자, 칠흑의 양날 도끼, 헤르메스의 발걸음, 롱소드  \n",
       "2                  신성한 파괴자, 곡궁, 판금 장화, 도란의 방패, 흡혈의 낫  \n",
       "3         도란의 검, 크라켄 학살자, 루난의 허리케인, B.F. 대검, 광전사의 군화  \n",
       "4                강철의 솔라리 펜던트, 화이트록의 갑옷, 점화석, 기동력의 장화  \n",
       "5              루난의 허리케인, 불멸의 철갑궁, 도란의 검, 광전사의 군화, 단검  \n",
       "6                                                     \n",
       "7   드락사르의 황혼검, 징수의 총, 제어 와드, 명석함의 아이오니아 장화, 롱소드, 롱소드  \n",
       "8        타곤 산의 방벽, 강철의 솔라리 펜던트, 충전형 물약, 가시 갑옷, 판금 장화  \n",
       "9                 도란의 반지, 리안드리의 고뇌, 장화, 망각의 구, 제어 와드  "
      ],
      "text/html": "<div>\n<style scoped>\n    .dataframe tbody tr th:only-of-type {\n        vertical-align: middle;\n    }\n\n    .dataframe tbody tr th {\n        vertical-align: top;\n    }\n\n    .dataframe thead th {\n        text-align: right;\n    }\n</style>\n<table border=\"1\" class=\"dataframe\">\n  <thead>\n    <tr style=\"text-align: right;\">\n      <th></th>\n      <th>Nickname</th>\n      <th>Champion</th>\n      <th>Lane</th>\n      <th>KDA</th>\n      <th>Items</th>\n    </tr>\n  </thead>\n  <tbody>\n    <tr>\n      <th>0</th>\n      <td>얼룩덜룩한말</td>\n      <td>그웬</td>\n      <td>TOP</td>\n      <td>9/2/11</td>\n      <td>존야의 모래시계, 망각의 구, 균열 생성기, 명석함의 아이오니아 장화, 내셔의 이빨...</td>\n    </tr>\n    <tr>\n      <th>1</th>\n      <td>토리5</td>\n      <td>리 신</td>\n      <td>JUNGLE</td>\n      <td>11/3/12</td>\n      <td>곡괭이, 선혈포식자, 칠흑의 양날 도끼, 헤르메스의 발걸음, 롱소드</td>\n    </tr>\n    <tr>\n      <th>2</th>\n      <td>불구경 장인</td>\n      <td>비에고</td>\n      <td>MIDDLE</td>\n      <td>6/2/9</td>\n      <td>신성한 파괴자, 곡궁, 판금 장화, 도란의 방패, 흡혈의 낫</td>\n    </tr>\n    <tr>\n      <th>3</th>\n      <td>은정곤듀님</td>\n      <td>징크스</td>\n      <td>BOTTOM</td>\n      <td>7/2/10</td>\n      <td>도란의 검, 크라켄 학살자, 루난의 허리케인, B.F. 대검, 광전사의 군화</td>\n    </tr>\n    <tr>\n      <th>4</th>\n      <td>내 인생은 고</td>\n      <td>쓰레쉬</td>\n      <td>BOTTOM</td>\n      <td>0/5/7</td>\n      <td>강철의 솔라리 펜던트, 화이트록의 갑옷, 점화석, 기동력의 장화</td>\n    </tr>\n    <tr>\n      <th>5</th>\n      <td>IlllIIIIllIlII</td>\n      <td>칼리스타</td>\n      <td>BOTTOM</td>\n      <td>1/5/8</td>\n      <td>루난의 허리케인, 불멸의 철갑궁, 도란의 검, 광전사의 군화, 단검</td>\n    </tr>\n    <tr>\n      <th>6</th>\n      <td>아이번이니까렝가해주시면안될까요</td>\n      <td>아이번</td>\n      <td>JUNGLE</td>\n      <td>0/6/9</td>\n      <td></td>\n    </tr>\n    <tr>\n      <th>7</th>\n      <td>비타명재</td>\n      <td>제드</td>\n      <td>MIDDLE</td>\n      <td>6/8/2</td>\n      <td>드락사르의 황혼검, 징수의 총, 제어 와드, 명석함의 아이오니아 장화, 롱소드, 롱소드</td>\n    </tr>\n    <tr>\n      <th>8</th>\n      <td>LongStrongWard</td>\n      <td>노틸러스</td>\n      <td>BOTTOM</td>\n      <td>6/6/3</td>\n      <td>타곤 산의 방벽, 강철의 솔라리 펜던트, 충전형 물약, 가시 갑옷, 판금 장화</td>\n    </tr>\n    <tr>\n      <th>9</th>\n      <td>메우메우귀여움</td>\n      <td>스웨인</td>\n      <td>TOP</td>\n      <td>1/8/3</td>\n      <td>도란의 반지, 리안드리의 고뇌, 장화, 망각의 구, 제어 와드</td>\n    </tr>\n  </tbody>\n</table>\n</div>"
     },
     "metadata": {},
     "execution_count": 24
    }
   ],
   "source": [
    "match_record(match_list[0])"
   ]
  },
  {
   "cell_type": "code",
   "execution_count": 27,
   "metadata": {},
   "outputs": [],
   "source": [
    "a = requests.get('https://kr.api.riotgames.com/lol/match/v4/matches/' + str(match_list[0]), headers=request_headers).json()"
   ]
  },
  {
   "cell_type": "code",
   "execution_count": 33,
   "metadata": {},
   "outputs": [
    {
     "output_type": "execute_result",
     "data": {
      "text/plain": [
       "{'participantId': 7,\n",
       " 'teamId': 200,\n",
       " 'championId': 427,\n",
       " 'spell1Id': 11,\n",
       " 'spell2Id': 4,\n",
       " 'stats': {'participantId': 7,\n",
       "  'win': False,\n",
       "  'item0': 0,\n",
       "  'item1': 0,\n",
       "  'item2': 0,\n",
       "  'item3': 0,\n",
       "  'item4': 0,\n",
       "  'item5': 0,\n",
       "  'item6': 0,\n",
       "  'kills': 0,\n",
       "  'deaths': 6,\n",
       "  'assists': 9,\n",
       "  'largestKillingSpree': 0,\n",
       "  'largestMultiKill': 0,\n",
       "  'killingSprees': 0,\n",
       "  'longestTimeSpentLiving': 462,\n",
       "  'doubleKills': 0,\n",
       "  'tripleKills': 0,\n",
       "  'quadraKills': 0,\n",
       "  'pentaKills': 0,\n",
       "  'unrealKills': 0,\n",
       "  'totalDamageDealt': 312560,\n",
       "  'magicDamageDealt': 11653,\n",
       "  'physicalDamageDealt': 7063,\n",
       "  'trueDamageDealt': 293843,\n",
       "  'largestCriticalStrike': 0,\n",
       "  'totalDamageDealtToChampions': 8830,\n",
       "  'magicDamageDealtToChampions': 5046,\n",
       "  'physicalDamageDealtToChampions': 3129,\n",
       "  'trueDamageDealtToChampions': 655,\n",
       "  'totalHeal': 4179,\n",
       "  'totalUnitsHealed': 4,\n",
       "  'damageSelfMitigated': 8020,\n",
       "  'damageDealtToObjectives': 13182,\n",
       "  'damageDealtToTurrets': 0,\n",
       "  'visionScore': 39,\n",
       "  'timeCCingOthers': 42,\n",
       "  'totalDamageTaken': 10091,\n",
       "  'magicalDamageTaken': 2055,\n",
       "  'physicalDamageTaken': 7887,\n",
       "  'trueDamageTaken': 147,\n",
       "  'goldEarned': 6359,\n",
       "  'goldSpent': 6210,\n",
       "  'turretKills': 0,\n",
       "  'inhibitorKills': 0,\n",
       "  'totalMinionsKilled': 9,\n",
       "  'neutralMinionsKilled': 97,\n",
       "  'neutralMinionsKilledTeamJungle': 69,\n",
       "  'neutralMinionsKilledEnemyJungle': 8,\n",
       "  'totalTimeCrowdControlDealt': 222,\n",
       "  'champLevel': 11,\n",
       "  'visionWardsBoughtInGame': 10,\n",
       "  'sightWardsBoughtInGame': 0,\n",
       "  'wardsPlaced': 19,\n",
       "  'wardsKilled': 5,\n",
       "  'firstBloodKill': False,\n",
       "  'firstBloodAssist': False,\n",
       "  'firstTowerKill': False,\n",
       "  'firstTowerAssist': False,\n",
       "  'firstInhibitorKill': False,\n",
       "  'firstInhibitorAssist': False,\n",
       "  'combatPlayerScore': 0,\n",
       "  'objectivePlayerScore': 0,\n",
       "  'totalPlayerScore': 0,\n",
       "  'totalScoreRank': 0,\n",
       "  'playerScore0': 0,\n",
       "  'playerScore1': 0,\n",
       "  'playerScore2': 0,\n",
       "  'playerScore3': 1,\n",
       "  'playerScore4': 0,\n",
       "  'playerScore5': 0,\n",
       "  'playerScore6': 0,\n",
       "  'playerScore7': 0,\n",
       "  'playerScore8': 0,\n",
       "  'playerScore9': 0,\n",
       "  'perk0': 9923,\n",
       "  'perk0Var1': 19,\n",
       "  'perk0Var2': 70,\n",
       "  'perk0Var3': 0,\n",
       "  'perk1': 8126,\n",
       "  'perk1Var1': 372,\n",
       "  'perk1Var2': 0,\n",
       "  'perk1Var3': 0,\n",
       "  'perk2': 8136,\n",
       "  'perk2Var1': 10,\n",
       "  'perk2Var2': 30,\n",
       "  'perk2Var3': 0,\n",
       "  'perk3': 8106,\n",
       "  'perk3Var1': 5,\n",
       "  'perk3Var2': 0,\n",
       "  'perk3Var3': 0,\n",
       "  'perk4': 8313,\n",
       "  'perk4Var1': 0,\n",
       "  'perk4Var2': 0,\n",
       "  'perk4Var3': 0,\n",
       "  'perk5': 8347,\n",
       "  'perk5Var1': 0,\n",
       "  'perk5Var2': 0,\n",
       "  'perk5Var3': 0,\n",
       "  'perkPrimaryStyle': 8100,\n",
       "  'perkSubStyle': 8300,\n",
       "  'statPerk0': 5007,\n",
       "  'statPerk1': 5002,\n",
       "  'statPerk2': 5003},\n",
       " 'timeline': {'participantId': 7,\n",
       "  'creepsPerMinDeltas': {'10-20': 0.4, '0-10': 0.3},\n",
       "  'xpPerMinDeltas': {'10-20': 412.4, '0-10': 325.8},\n",
       "  'goldPerMinDeltas': {'10-20': 285.7, '0-10': 249.8},\n",
       "  'csDiffPerMinDeltas': {'10-20': -1.1, '0-10': -0.10000000000000003},\n",
       "  'xpDiffPerMinDeltas': {'10-20': -134.10000000000002,\n",
       "   '0-10': -38.599999999999994},\n",
       "  'damageTakenPerMinDeltas': {'10-20': 570.7, '0-10': 101},\n",
       "  'damageTakenDiffPerMinDeltas': {'10-20': -854.2, '0-10': -583.3},\n",
       "  'role': 'NONE',\n",
       "  'lane': 'JUNGLE'}}"
      ]
     },
     "metadata": {},
     "execution_count": 33
    }
   ],
   "source": [
    "a['participants'][6]"
   ]
  },
  {
   "cell_type": "code",
   "execution_count": null,
   "metadata": {},
   "outputs": [],
   "source": []
  }
 ]
}