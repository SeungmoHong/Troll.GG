{
 "metadata": {
  "language_info": {
   "codemirror_mode": {
    "name": "ipython",
    "version": 3
   },
   "file_extension": ".py",
   "mimetype": "text/x-python",
   "name": "python",
   "nbconvert_exporter": "python",
   "pygments_lexer": "ipython3",
   "version": "3.8.5"
  },
  "orig_nbformat": 4,
  "kernelspec": {
   "name": "python3",
   "display_name": "Python 3.8.5 64-bit ('base': conda)"
  },
  "interpreter": {
   "hash": "c0d5580a4e4b3d156e9f2f74585f52a17152e2e761e06671a15aac4fe32d0ddb"
  }
 },
 "nbformat": 4,
 "nbformat_minor": 2,
 "cells": [
  {
   "source": [
    "# Riot APi로 유저정보 받기"
   ],
   "cell_type": "markdown",
   "metadata": {}
  },
  {
   "cell_type": "code",
   "execution_count": 1,
   "metadata": {},
   "outputs": [],
   "source": [
    "import requests\n",
    "from urllib import parse\n",
    "import json\n",
    "import pandas as pd\n",
    "from urllib.request import urlopen"
   ]
  },
  {
   "cell_type": "code",
   "execution_count": 2,
   "metadata": {},
   "outputs": [],
   "source": [
    "key_fd = open('../keys/api_key.txt', mode='r')\n",
    "api_key = key_fd.read(100)\n",
    "key_fd.close()"
   ]
  },
  {
   "cell_type": "code",
   "execution_count": 3,
   "metadata": {},
   "outputs": [],
   "source": [
    "request_headers = {\n",
    "    \"User-Agent\": \"Mozilla/5.0 (Windows NT 10.0; Win64; x64) AppleWebKit/537.36 (KHTML, like Gecko) Chrome/91.0.4472.114 Safari/537.36\",\n",
    "    \"Accept-Language\": \"ko-KR,ko;q=0.9,en-US;q=0.8,en;q=0.7\",\n",
    "    \"Accept-Charset\": \"application/x-www-form-urlencoded; charset=UTF-8\",\n",
    "    \"Origin\": \"https://developer.riotgames.com\",\n",
    "    \"X-Riot-Token\": api_key  #Riot API 키   \n",
    "}"
   ]
  },
  {
   "cell_type": "code",
   "execution_count": 4,
   "metadata": {},
   "outputs": [
    {
     "output_type": "execute_result",
     "data": {
      "text/plain": [
       "   name  key            tags\n",
       "0  아트록스  266   Fighter, Tank\n",
       "1    아리  103  Mage, Assassin\n",
       "2   아칼리   84        Assassin\n",
       "3  알리스타   12   Tank, Support\n",
       "4   아무무   32      Tank, Mage"
      ],
      "text/html": "<div>\n<style scoped>\n    .dataframe tbody tr th:only-of-type {\n        vertical-align: middle;\n    }\n\n    .dataframe tbody tr th {\n        vertical-align: top;\n    }\n\n    .dataframe thead th {\n        text-align: right;\n    }\n</style>\n<table border=\"1\" class=\"dataframe\">\n  <thead>\n    <tr style=\"text-align: right;\">\n      <th></th>\n      <th>name</th>\n      <th>key</th>\n      <th>tags</th>\n    </tr>\n  </thead>\n  <tbody>\n    <tr>\n      <th>0</th>\n      <td>아트록스</td>\n      <td>266</td>\n      <td>Fighter, Tank</td>\n    </tr>\n    <tr>\n      <th>1</th>\n      <td>아리</td>\n      <td>103</td>\n      <td>Mage, Assassin</td>\n    </tr>\n    <tr>\n      <th>2</th>\n      <td>아칼리</td>\n      <td>84</td>\n      <td>Assassin</td>\n    </tr>\n    <tr>\n      <th>3</th>\n      <td>알리스타</td>\n      <td>12</td>\n      <td>Tank, Support</td>\n    </tr>\n    <tr>\n      <th>4</th>\n      <td>아무무</td>\n      <td>32</td>\n      <td>Tank, Mage</td>\n    </tr>\n  </tbody>\n</table>\n</div>"
     },
     "metadata": {},
     "execution_count": 4
    }
   ],
   "source": [
    "champion_df = pd.read_csv('../00. data/champions.csv', index_col = 0)\n",
    "champion_df.head()"
   ]
  },
  {
   "cell_type": "code",
   "execution_count": 5,
   "metadata": {},
   "outputs": [
    {
     "output_type": "execute_result",
     "data": {
      "text/plain": [
       "        name   key  gold            tags\n",
       "0         장화  1001   300           Boots\n",
       "1     요정의 부적  1004   250       ManaRegen\n",
       "2  원기 회복의 구슬  1006   150     HealthRegen\n",
       "3    거인의 허리띠  1011   900          Health\n",
       "4    민첩성의 망토  1018   600  CriticalStrike"
      ],
      "text/html": "<div>\n<style scoped>\n    .dataframe tbody tr th:only-of-type {\n        vertical-align: middle;\n    }\n\n    .dataframe tbody tr th {\n        vertical-align: top;\n    }\n\n    .dataframe thead th {\n        text-align: right;\n    }\n</style>\n<table border=\"1\" class=\"dataframe\">\n  <thead>\n    <tr style=\"text-align: right;\">\n      <th></th>\n      <th>name</th>\n      <th>key</th>\n      <th>gold</th>\n      <th>tags</th>\n    </tr>\n  </thead>\n  <tbody>\n    <tr>\n      <th>0</th>\n      <td>장화</td>\n      <td>1001</td>\n      <td>300</td>\n      <td>Boots</td>\n    </tr>\n    <tr>\n      <th>1</th>\n      <td>요정의 부적</td>\n      <td>1004</td>\n      <td>250</td>\n      <td>ManaRegen</td>\n    </tr>\n    <tr>\n      <th>2</th>\n      <td>원기 회복의 구슬</td>\n      <td>1006</td>\n      <td>150</td>\n      <td>HealthRegen</td>\n    </tr>\n    <tr>\n      <th>3</th>\n      <td>거인의 허리띠</td>\n      <td>1011</td>\n      <td>900</td>\n      <td>Health</td>\n    </tr>\n    <tr>\n      <th>4</th>\n      <td>민첩성의 망토</td>\n      <td>1018</td>\n      <td>600</td>\n      <td>CriticalStrike</td>\n    </tr>\n  </tbody>\n</table>\n</div>"
     },
     "metadata": {},
     "execution_count": 5
    }
   ],
   "source": [
    "item_df = pd.read_csv('../00. data/items.csv', index_col = 0)\n",
    "item_df.head()"
   ]
  },
  {
   "cell_type": "code",
   "execution_count": 6,
   "metadata": {},
   "outputs": [],
   "source": [
    "# 유저의 암호화된 아이디를 불러오는 함수 유저의 암호화된 아이디를 불러오는 함수\n",
    "def searchUserId(nickname):\n",
    "    user_data = requests.get(\"https://kr.api.riotgames.com/lol/summoner/v4/summoners/by-name/\" + parse.quote(nickname), headers=request_headers).json()\n",
    "    userId = user_data['id']\n",
    "    userAccountId = user_data['accountId']\n",
    "    userPuuid = user_data['puuid'] \n",
    "    return userId, userAccountId, userPuuid\n",
    "# 한유저의 특정 챔피언 매치ID들을 불러오는 함수\n",
    "def searchChampMatchId(accountId, champion):\n",
    "    championKey = champion_df['key'][champion_df['key'][champion_df['name'] == champion].index[0]] # 챔피언 키구하기\n",
    "    match_data = requests.get(\"https://kr.api.riotgames.com/lol/match/v4/matchlists/by-account/\" + accountId + \"?champion=\" + str(championKey) + '&queue=420',headers=request_headers).json()['matches']\n",
    "    match_list = []\n",
    "    for i in range(len(match_data)):\n",
    "        match = match_data[i]['gameId']\n",
    "        match_list.append(match)\n",
    "    return match_list\n",
    "# 한유저의 매치 ID들을 불러오는 함수\n",
    "def searchMatchId(accountId):\n",
    "    match_data = requests.get(\"https://kr.api.riotgames.com/lol/match/v4/matchlists/by-account/\" + accountId + '?queue=420',headers=request_headers).json()['matches']\n",
    "    match_list = []\n",
    "    for i in range(len(match_data)):\n",
    "        match = match_data[i]['gameId']\n",
    "        match_list.append(match)\n",
    "    return match_list\n",
    "# 챔피언키로 챔피언 이름 불러오는 함수\n",
    "def searchChampion(championKey):\n",
    "    champ = champion_df['name'][champion_df['name'][champion_df['key'] == championKey].index[0]]\n",
    "    return champ  \n",
    "# 아이템키로 아이템 이름 불러오는 함수\n",
    "def searchItem(itemKey):\n",
    "    item = item_df['name'][item_df['name'][item_df['key'] == itemKey].index[0]]\n",
    "    return item  "
   ]
  },
  {
   "cell_type": "code",
   "execution_count": 7,
   "metadata": {},
   "outputs": [
    {
     "output_type": "execute_result",
     "data": {
      "text/plain": [
       "100"
      ]
     },
     "metadata": {},
     "execution_count": 7
    }
   ],
   "source": [
    "userId, userAccountId, userPuuid = searchUserId('Giyeom') # 유저의 닉네임 Giyeom\n",
    "match_list = searchChampMatchId(userAccountId, '나르') # 유저의 챔피언 나르로 설정\n",
    "len(match_list) # 최대가 100개"
   ]
  },
  {
   "cell_type": "code",
   "execution_count": 8,
   "metadata": {},
   "outputs": [],
   "source": [
    "match_list2 = searchMatchId(userAccountId)"
   ]
  },
  {
   "cell_type": "code",
   "execution_count": 9,
   "metadata": {},
   "outputs": [
    {
     "output_type": "execute_result",
     "data": {
      "text/plain": [
       "5297081745"
      ]
     },
     "metadata": {},
     "execution_count": 9
    }
   ],
   "source": [
    "match_list[0]"
   ]
  },
  {
   "cell_type": "code",
   "execution_count": 10,
   "metadata": {},
   "outputs": [],
   "source": [
    "# sample_a\n",
    "a = requests.get('https://kr.api.riotgames.com/lol/match/v4/matches/' + str(match_list[0]), headers=request_headers).json()"
   ]
  },
  {
   "cell_type": "code",
   "execution_count": 11,
   "metadata": {},
   "outputs": [
    {
     "output_type": "execute_result",
     "data": {
      "text/plain": [
       "['gameId',\n",
       " 'platformId',\n",
       " 'gameCreation',\n",
       " 'gameDuration',\n",
       " 'queueId',\n",
       " 'mapId',\n",
       " 'seasonId',\n",
       " 'gameVersion',\n",
       " 'gameMode',\n",
       " 'gameType',\n",
       " 'teams',\n",
       " 'participants',\n",
       " 'participantIdentities']"
      ]
     },
     "metadata": {},
     "execution_count": 11
    }
   ],
   "source": [
    "list(a)"
   ]
  },
  {
   "cell_type": "code",
   "execution_count": 12,
   "metadata": {},
   "outputs": [
    {
     "output_type": "execute_result",
     "data": {
      "text/plain": [
       "[{'teamId': 100,\n",
       "  'win': 'Win',\n",
       "  'firstBlood': True,\n",
       "  'firstTower': True,\n",
       "  'firstInhibitor': False,\n",
       "  'firstBaron': False,\n",
       "  'firstDragon': True,\n",
       "  'firstRiftHerald': True,\n",
       "  'towerKills': 5,\n",
       "  'inhibitorKills': 0,\n",
       "  'baronKills': 0,\n",
       "  'dragonKills': 2,\n",
       "  'vilemawKills': 0,\n",
       "  'riftHeraldKills': 2,\n",
       "  'dominionVictoryScore': 0,\n",
       "  'bans': [{'championId': 25, 'pickTurn': 1},\n",
       "   {'championId': 141, 'pickTurn': 2},\n",
       "   {'championId': 133, 'pickTurn': 3},\n",
       "   {'championId': 35, 'pickTurn': 4},\n",
       "   {'championId': 56, 'pickTurn': 5}]},\n",
       " {'teamId': 200,\n",
       "  'win': 'Fail',\n",
       "  'firstBlood': False,\n",
       "  'firstTower': False,\n",
       "  'firstInhibitor': False,\n",
       "  'firstBaron': False,\n",
       "  'firstDragon': False,\n",
       "  'firstRiftHerald': False,\n",
       "  'towerKills': 0,\n",
       "  'inhibitorKills': 0,\n",
       "  'baronKills': 0,\n",
       "  'dragonKills': 0,\n",
       "  'vilemawKills': 0,\n",
       "  'riftHeraldKills': 0,\n",
       "  'dominionVictoryScore': 0,\n",
       "  'bans': [{'championId': 89, 'pickTurn': 6},\n",
       "   {'championId': 56, 'pickTurn': 7},\n",
       "   {'championId': 91, 'pickTurn': 8},\n",
       "   {'championId': 238, 'pickTurn': 9},\n",
       "   {'championId': 117, 'pickTurn': 10}]}]"
      ]
     },
     "metadata": {},
     "execution_count": 12
    }
   ],
   "source": [
    "a['teams']"
   ]
  },
  {
   "cell_type": "code",
   "execution_count": 13,
   "metadata": {},
   "outputs": [
    {
     "output_type": "execute_result",
     "data": {
      "text/plain": [
       "{'participantId': 1,\n",
       " 'teamId': 100,\n",
       " 'championId': 55,\n",
       " 'spell1Id': 14,\n",
       " 'spell2Id': 12,\n",
       " 'stats': {'participantId': 1,\n",
       "  'win': True,\n",
       "  'item0': 4633,\n",
       "  'item1': 2420,\n",
       "  'item2': 0,\n",
       "  'item3': 3020,\n",
       "  'item4': 1082,\n",
       "  'item5': 3115,\n",
       "  'item6': 3364,\n",
       "  'kills': 10,\n",
       "  'deaths': 5,\n",
       "  'assists': 8,\n",
       "  'largestKillingSpree': 4,\n",
       "  'largestMultiKill': 2,\n",
       "  'killingSprees': 2,\n",
       "  'longestTimeSpentLiving': 363,\n",
       "  'doubleKills': 1,\n",
       "  'tripleKills': 0,\n",
       "  'quadraKills': 0,\n",
       "  'pentaKills': 0,\n",
       "  'unrealKills': 0,\n",
       "  'totalDamageDealt': 76934,\n",
       "  'magicDamageDealt': 66078,\n",
       "  'physicalDamageDealt': 9756,\n",
       "  'trueDamageDealt': 1099,\n",
       "  'largestCriticalStrike': 0,\n",
       "  'totalDamageDealtToChampions': 17018,\n",
       "  'magicDamageDealtToChampions': 14705,\n",
       "  'physicalDamageDealtToChampions': 1530,\n",
       "  'trueDamageDealtToChampions': 781,\n",
       "  'totalHeal': 3294,\n",
       "  'totalUnitsHealed': 1,\n",
       "  'damageSelfMitigated': 6903,\n",
       "  'damageDealtToObjectives': 448,\n",
       "  'damageDealtToTurrets': 448,\n",
       "  'visionScore': 15,\n",
       "  'timeCCingOthers': 1,\n",
       "  'totalDamageTaken': 14623,\n",
       "  'magicalDamageTaken': 5531,\n",
       "  'physicalDamageTaken': 8587,\n",
       "  'trueDamageTaken': 504,\n",
       "  'goldEarned': 10195,\n",
       "  'goldSpent': 9420,\n",
       "  'turretKills': 0,\n",
       "  'inhibitorKills': 0,\n",
       "  'totalMinionsKilled': 135,\n",
       "  'neutralMinionsKilled': 0,\n",
       "  'neutralMinionsKilledTeamJungle': 0,\n",
       "  'neutralMinionsKilledEnemyJungle': 0,\n",
       "  'totalTimeCrowdControlDealt': 43,\n",
       "  'champLevel': 13,\n",
       "  'visionWardsBoughtInGame': 5,\n",
       "  'sightWardsBoughtInGame': 0,\n",
       "  'wardsPlaced': 6,\n",
       "  'wardsKilled': 2,\n",
       "  'firstBloodKill': True,\n",
       "  'firstBloodAssist': False,\n",
       "  'firstTowerKill': False,\n",
       "  'firstTowerAssist': False,\n",
       "  'combatPlayerScore': 0,\n",
       "  'objectivePlayerScore': 0,\n",
       "  'totalPlayerScore': 0,\n",
       "  'totalScoreRank': 0,\n",
       "  'playerScore0': 0,\n",
       "  'playerScore1': 0,\n",
       "  'playerScore2': 0,\n",
       "  'playerScore3': 0,\n",
       "  'playerScore4': 0,\n",
       "  'playerScore5': 0,\n",
       "  'playerScore6': 0,\n",
       "  'playerScore7': 0,\n",
       "  'playerScore8': 0,\n",
       "  'playerScore9': 0,\n",
       "  'perk0': 8010,\n",
       "  'perk0Var1': 554,\n",
       "  'perk0Var2': 0,\n",
       "  'perk0Var3': 0,\n",
       "  'perk1': 9111,\n",
       "  'perk1Var1': 958,\n",
       "  'perk1Var2': 360,\n",
       "  'perk1Var3': 0,\n",
       "  'perk2': 9105,\n",
       "  'perk2Var1': 12,\n",
       "  'perk2Var2': 40,\n",
       "  'perk2Var3': 0,\n",
       "  'perk3': 8014,\n",
       "  'perk3Var1': 611,\n",
       "  'perk3Var2': 0,\n",
       "  'perk3Var3': 0,\n",
       "  'perk4': 8143,\n",
       "  'perk4Var1': 516,\n",
       "  'perk4Var2': 0,\n",
       "  'perk4Var3': 0,\n",
       "  'perk5': 8135,\n",
       "  'perk5Var1': 1515,\n",
       "  'perk5Var2': 5,\n",
       "  'perk5Var3': 0,\n",
       "  'perkPrimaryStyle': 8000,\n",
       "  'perkSubStyle': 8100,\n",
       "  'statPerk0': 5008,\n",
       "  'statPerk1': 5008,\n",
       "  'statPerk2': 5003},\n",
       " 'timeline': {'participantId': 1,\n",
       "  'creepsPerMinDeltas': {'10-20': 7.4, '0-10': 5.9},\n",
       "  'xpPerMinDeltas': {'10-20': 643.9000000000001, '0-10': 350},\n",
       "  'goldPerMinDeltas': {'10-20': 619.2, '0-10': 275.6},\n",
       "  'csDiffPerMinDeltas': {'10-20': 4.199999999999999,\n",
       "   '0-10': 0.5999999999999996},\n",
       "  'xpDiffPerMinDeltas': {'10-20': 314.5, '0-10': -20.30000000000001},\n",
       "  'damageTakenPerMinDeltas': {'10-20': 965.9, '0-10': 399.1},\n",
       "  'damageTakenDiffPerMinDeltas': {'10-20': -675.4000000000001, '0-10': -189.6},\n",
       "  'role': 'SOLO',\n",
       "  'lane': 'MIDDLE'}}"
      ]
     },
     "metadata": {},
     "execution_count": 13
    }
   ],
   "source": [
    "a['participants'][0]"
   ]
  },
  {
   "cell_type": "code",
   "execution_count": 14,
   "metadata": {},
   "outputs": [
    {
     "output_type": "execute_result",
     "data": {
      "text/plain": [
       "{'participantId': 1,\n",
       " 'player': {'platformId': 'KR',\n",
       "  'accountId': 'WjzKtNil9QrMCzNZmg1RmrGSGnb5N-7pGWdTLZkKUX24kW4',\n",
       "  'summonerName': '게임승패는미드',\n",
       "  'summonerId': 'Zxn4RuXh6-BBAQYR1Xu05iQ4EGoNg6hlQHvUrjG-gBAbq0g',\n",
       "  'currentPlatformId': 'KR',\n",
       "  'currentAccountId': 'WjzKtNil9QrMCzNZmg1RmrGSGnb5N-7pGWdTLZkKUX24kW4',\n",
       "  'matchHistoryUri': '/v1/stats/player_history/KR/210068988',\n",
       "  'profileIcon': 4903}}"
      ]
     },
     "metadata": {},
     "execution_count": 14
    }
   ],
   "source": [
    "a['participantIdentities'][0]"
   ]
  },
  {
   "cell_type": "code",
   "execution_count": 15,
   "metadata": {},
   "outputs": [],
   "source": [
    "# sample_a의 유저 닉네임 구하기 \n",
    "users_info = a['participantIdentities']\n",
    "user_list = []\n",
    "for user_info in users_info:\n",
    "    user_name = user_info['player']['summonerName']\n",
    "    user_list.append(user_name)"
   ]
  },
  {
   "cell_type": "code",
   "execution_count": 16,
   "metadata": {},
   "outputs": [
    {
     "output_type": "execute_result",
     "data": {
      "text/plain": [
       "['게임승패는미드',\n",
       " 'VC하리',\n",
       " '아리장인 고내봉',\n",
       " '부산사는송하나',\n",
       " '제발나잇값하자좀',\n",
       " '프로해보고싶어요',\n",
       " '소년장남원딜',\n",
       " '감정적인 원숭이',\n",
       " '한타천재',\n",
       " 'Giyeom']"
      ]
     },
     "metadata": {},
     "execution_count": 16
    }
   ],
   "source": [
    "user_list"
   ]
  },
  {
   "cell_type": "code",
   "execution_count": 17,
   "metadata": {},
   "outputs": [
    {
     "output_type": "execute_result",
     "data": {
      "text/plain": [
       "'MIDDLE'"
      ]
     },
     "metadata": {},
     "execution_count": 17
    }
   ],
   "source": [
    "a['participants'][0]['timeline']['lane']"
   ]
  },
  {
   "cell_type": "code",
   "execution_count": 18,
   "metadata": {},
   "outputs": [],
   "source": [
    "def match_record(matchId):\n",
    "    match_record = requests.get('https://kr.api.riotgames.com/lol/match/v4/matches/' + str(matchId), headers=request_headers).json()\n",
    "    users_record = match_record['participants']\n",
    "    users_info = match_record['participantIdentities']\n",
    "    user_list = []\n",
    "    for user_info in users_info:\n",
    "        user_name = user_info['player']['summonerName']\n",
    "        user_list.append(user_name)\n",
    "    users_champion = []\n",
    "    users_kda = []\n",
    "    users_items = []\n",
    "    users_lane = []\n",
    "    users_win =[]\n",
    "    for user_record in users_record:\n",
    "        user_champion = searchChampion(user_record['championId'])\n",
    "        user_kda = str(user_record['stats']['kills']) + '/' + str(user_record['stats']['deaths']) + '/' + str(user_record['stats']['assists'])\n",
    "        user_items = []\n",
    "        for i in range(6):\n",
    "            itemKey = user_record['stats']['item'+str(i)]\n",
    "            if itemKey == 0:\n",
    "                pass\n",
    "            else:\n",
    "                user_items.append(searchItem(user_record['stats']['item'+str(i)]))\n",
    "        user_items = ', '.join(user_items)\n",
    "        user_lane = user_record['timeline']['lane']\n",
    "        user_win = user_record['stats']['win']\n",
    "        if user_win == True:\n",
    "            user_win = '승리'\n",
    "        else :\n",
    "            user_win = '패배'\n",
    "        users_champion.append(user_champion)\n",
    "        users_kda.append(user_kda)\n",
    "        users_items.append(user_items)\n",
    "        users_lane.append(user_lane)\n",
    "        users_win.append(user_win)\n",
    "    df = pd.DataFrame({\n",
    "    'nickname' : user_list,\n",
    "    'champion' : users_champion,\n",
    "    'lane' : users_lane,\n",
    "    'kda' : users_kda,\n",
    "    'result_items' : users_items,\n",
    "    'result' : users_win\n",
    "    })\n",
    "    return df"
   ]
  },
  {
   "cell_type": "code",
   "execution_count": 19,
   "metadata": {},
   "outputs": [
    {
     "output_type": "execute_result",
     "data": {
      "text/plain": [
       "    nickname   champion    lane     kda  \\\n",
       "0  FT lSLAND        렉사이  JUNGLE  9/3/10   \n",
       "1   남들보다더딘아이  트위스티드 페이트  MIDDLE  5/2/15   \n",
       "2     Giyeom         나르     TOP  5/1/13   \n",
       "3    어서오세요버스        쓰레쉬  BOTTOM  0/5/13   \n",
       "4     부식먹을나이       이즈리얼  BOTTOM   5/3/6   \n",
       "5    지우의 강아지         럼블  MIDDLE   7/4/2   \n",
       "6    유노의 고양이         라칸  BOTTOM   1/3/8   \n",
       "7        릐제제      그레이브즈  JUNGLE   1/6/4   \n",
       "8       슈우프륌      트리스타나  BOTTOM   5/3/3   \n",
       "9        송군1        사이온     TOP   0/8/5   \n",
       "\n",
       "                                        result_items result  \n",
       "0                      자객의 발톱, 스테락의 도전, 수호 천사, 판금 장화     승리  \n",
       "1  만년서리, 존야의 모래시계, 부패 물약, 메자이의 영혼약탈자, 열정의 검, 명석함의...     승리  \n",
       "2         발걸음 분쇄기, 도란의 검, 판금 장화, 란두인의 예언, 루비 수정, 곡괭이     승리  \n",
       "3   강철의 솔라리 펜던트, 화이트록의 갑옷, 제어 와드, 점화석, 신속의 장화, 루비 수정     승리  \n",
       "4  도란의 검, 마나무네, 톱날 단검, 정수 약탈자, 콜필드의 전투 망치, 명석함의 아...     승리  \n",
       "5  도란의 방패, 망가진 초시계, 모렐로노미콘, 악마의 마법서, 밤의 수확자, 마법사의 신발     패배  \n",
       "6   강철의 솔라리 펜던트, 기동력의 장화, 점화석, 타곤 산의 방벽, 제어 와드, 천 갑옷     패배  \n",
       "7           돌풍, 충전형 물약, 판금 장화, 톱날 단검, 민첩성의 망토, 제어 와드     패배  \n",
       "8          유령 무희, 마법무효화의 망토, 도란의 검, 크라켄 학살자, 광전사의 군화     패배  \n",
       "9      비상의 월갑, 도란의 방패, 발걸음 분쇄기, 판금 장화, 쇠사슬 조끼, 루비 수정     패배  "
      ],
      "text/html": "<div>\n<style scoped>\n    .dataframe tbody tr th:only-of-type {\n        vertical-align: middle;\n    }\n\n    .dataframe tbody tr th {\n        vertical-align: top;\n    }\n\n    .dataframe thead th {\n        text-align: right;\n    }\n</style>\n<table border=\"1\" class=\"dataframe\">\n  <thead>\n    <tr style=\"text-align: right;\">\n      <th></th>\n      <th>nickname</th>\n      <th>champion</th>\n      <th>lane</th>\n      <th>kda</th>\n      <th>result_items</th>\n      <th>result</th>\n    </tr>\n  </thead>\n  <tbody>\n    <tr>\n      <th>0</th>\n      <td>FT lSLAND</td>\n      <td>렉사이</td>\n      <td>JUNGLE</td>\n      <td>9/3/10</td>\n      <td>자객의 발톱, 스테락의 도전, 수호 천사, 판금 장화</td>\n      <td>승리</td>\n    </tr>\n    <tr>\n      <th>1</th>\n      <td>남들보다더딘아이</td>\n      <td>트위스티드 페이트</td>\n      <td>MIDDLE</td>\n      <td>5/2/15</td>\n      <td>만년서리, 존야의 모래시계, 부패 물약, 메자이의 영혼약탈자, 열정의 검, 명석함의...</td>\n      <td>승리</td>\n    </tr>\n    <tr>\n      <th>2</th>\n      <td>Giyeom</td>\n      <td>나르</td>\n      <td>TOP</td>\n      <td>5/1/13</td>\n      <td>발걸음 분쇄기, 도란의 검, 판금 장화, 란두인의 예언, 루비 수정, 곡괭이</td>\n      <td>승리</td>\n    </tr>\n    <tr>\n      <th>3</th>\n      <td>어서오세요버스</td>\n      <td>쓰레쉬</td>\n      <td>BOTTOM</td>\n      <td>0/5/13</td>\n      <td>강철의 솔라리 펜던트, 화이트록의 갑옷, 제어 와드, 점화석, 신속의 장화, 루비 수정</td>\n      <td>승리</td>\n    </tr>\n    <tr>\n      <th>4</th>\n      <td>부식먹을나이</td>\n      <td>이즈리얼</td>\n      <td>BOTTOM</td>\n      <td>5/3/6</td>\n      <td>도란의 검, 마나무네, 톱날 단검, 정수 약탈자, 콜필드의 전투 망치, 명석함의 아...</td>\n      <td>승리</td>\n    </tr>\n    <tr>\n      <th>5</th>\n      <td>지우의 강아지</td>\n      <td>럼블</td>\n      <td>MIDDLE</td>\n      <td>7/4/2</td>\n      <td>도란의 방패, 망가진 초시계, 모렐로노미콘, 악마의 마법서, 밤의 수확자, 마법사의 신발</td>\n      <td>패배</td>\n    </tr>\n    <tr>\n      <th>6</th>\n      <td>유노의 고양이</td>\n      <td>라칸</td>\n      <td>BOTTOM</td>\n      <td>1/3/8</td>\n      <td>강철의 솔라리 펜던트, 기동력의 장화, 점화석, 타곤 산의 방벽, 제어 와드, 천 갑옷</td>\n      <td>패배</td>\n    </tr>\n    <tr>\n      <th>7</th>\n      <td>릐제제</td>\n      <td>그레이브즈</td>\n      <td>JUNGLE</td>\n      <td>1/6/4</td>\n      <td>돌풍, 충전형 물약, 판금 장화, 톱날 단검, 민첩성의 망토, 제어 와드</td>\n      <td>패배</td>\n    </tr>\n    <tr>\n      <th>8</th>\n      <td>슈우프륌</td>\n      <td>트리스타나</td>\n      <td>BOTTOM</td>\n      <td>5/3/3</td>\n      <td>유령 무희, 마법무효화의 망토, 도란의 검, 크라켄 학살자, 광전사의 군화</td>\n      <td>패배</td>\n    </tr>\n    <tr>\n      <th>9</th>\n      <td>송군1</td>\n      <td>사이온</td>\n      <td>TOP</td>\n      <td>0/8/5</td>\n      <td>비상의 월갑, 도란의 방패, 발걸음 분쇄기, 판금 장화, 쇠사슬 조끼, 루비 수정</td>\n      <td>패배</td>\n    </tr>\n  </tbody>\n</table>\n</div>"
     },
     "metadata": {},
     "execution_count": 19
    }
   ],
   "source": [
    "# 전적 test 1\n",
    "match_record(match_list[25])"
   ]
  },
  {
   "cell_type": "code",
   "execution_count": 20,
   "metadata": {},
   "outputs": [
    {
     "output_type": "execute_result",
     "data": {
      "text/plain": [
       "          nickname champion  lane     kda  \\\n",
       "0          그웬살면잡아줘      사미라  NONE   8/1/5   \n",
       "1           Giyeom      레넥톤  NONE   3/3/3   \n",
       "2     IndianaJones      레오나  NONE  2/0/10   \n",
       "3        착한 마음 정글러     다이애나  NONE   2/2/3   \n",
       "4              추 호       베인  NONE   1/1/4   \n",
       "5  jinjinjinjinjin     킨드레드  NONE   2/4/3   \n",
       "6         나가D지겠습니다       세나  NONE   0/5/2   \n",
       "7         봇에번쩍탑에번쩍      갈리오  NONE   2/1/2   \n",
       "8            IWIWI       자크  NONE   1/5/1   \n",
       "9      Guo zi chan        쉔  NONE   2/1/3   \n",
       "\n",
       "                                        result_items result  \n",
       "0                     징수의 총, 불멸의 철갑궁, 장화, 도란의 검, 롱소드     승리  \n",
       "1                   선혈포식자, 판금 장화, 롱소드, 도란의 검, 충전형 물약     승리  \n",
       "2        룬 강철 어깨 갑옷, 강철의 솔라리 펜던트, 제어 와드, 판금 장화, 천 갑옷     승리  \n",
       "3                                마법공학 로켓 벨트, 마법사의 신발     승리  \n",
       "4                  도란의 검, 롱소드, 롱소드, 광전사의 군화, 크라켄 학살자     승리  \n",
       "5                                            기동력의 장화     패배  \n",
       "6                 해로윙 초승달낫, 광휘의 검, 탐식의 망치, 약간 신비한 신발     패배  \n",
       "7  충전형 물약, 제어 와드, 마법공학 로켓 벨트, 명석함의 아이오니아 장화, 암흑의 ...     패배  \n",
       "8             판금 장화, 충전형 물약, 바미의 불씨, 마법무효화의 망토, 천 갑옷     패배  \n",
       "9    도란의 방패, 덤불 조끼, 바미의 불씨, 군단의 방패, 헤르메스의 발걸음, 제어 와드     패배  "
      ],
      "text/html": "<div>\n<style scoped>\n    .dataframe tbody tr th:only-of-type {\n        vertical-align: middle;\n    }\n\n    .dataframe tbody tr th {\n        vertical-align: top;\n    }\n\n    .dataframe thead th {\n        text-align: right;\n    }\n</style>\n<table border=\"1\" class=\"dataframe\">\n  <thead>\n    <tr style=\"text-align: right;\">\n      <th></th>\n      <th>nickname</th>\n      <th>champion</th>\n      <th>lane</th>\n      <th>kda</th>\n      <th>result_items</th>\n      <th>result</th>\n    </tr>\n  </thead>\n  <tbody>\n    <tr>\n      <th>0</th>\n      <td>그웬살면잡아줘</td>\n      <td>사미라</td>\n      <td>NONE</td>\n      <td>8/1/5</td>\n      <td>징수의 총, 불멸의 철갑궁, 장화, 도란의 검, 롱소드</td>\n      <td>승리</td>\n    </tr>\n    <tr>\n      <th>1</th>\n      <td>Giyeom</td>\n      <td>레넥톤</td>\n      <td>NONE</td>\n      <td>3/3/3</td>\n      <td>선혈포식자, 판금 장화, 롱소드, 도란의 검, 충전형 물약</td>\n      <td>승리</td>\n    </tr>\n    <tr>\n      <th>2</th>\n      <td>IndianaJones</td>\n      <td>레오나</td>\n      <td>NONE</td>\n      <td>2/0/10</td>\n      <td>룬 강철 어깨 갑옷, 강철의 솔라리 펜던트, 제어 와드, 판금 장화, 천 갑옷</td>\n      <td>승리</td>\n    </tr>\n    <tr>\n      <th>3</th>\n      <td>착한 마음 정글러</td>\n      <td>다이애나</td>\n      <td>NONE</td>\n      <td>2/2/3</td>\n      <td>마법공학 로켓 벨트, 마법사의 신발</td>\n      <td>승리</td>\n    </tr>\n    <tr>\n      <th>4</th>\n      <td>추 호</td>\n      <td>베인</td>\n      <td>NONE</td>\n      <td>1/1/4</td>\n      <td>도란의 검, 롱소드, 롱소드, 광전사의 군화, 크라켄 학살자</td>\n      <td>승리</td>\n    </tr>\n    <tr>\n      <th>5</th>\n      <td>jinjinjinjinjin</td>\n      <td>킨드레드</td>\n      <td>NONE</td>\n      <td>2/4/3</td>\n      <td>기동력의 장화</td>\n      <td>패배</td>\n    </tr>\n    <tr>\n      <th>6</th>\n      <td>나가D지겠습니다</td>\n      <td>세나</td>\n      <td>NONE</td>\n      <td>0/5/2</td>\n      <td>해로윙 초승달낫, 광휘의 검, 탐식의 망치, 약간 신비한 신발</td>\n      <td>패배</td>\n    </tr>\n    <tr>\n      <th>7</th>\n      <td>봇에번쩍탑에번쩍</td>\n      <td>갈리오</td>\n      <td>NONE</td>\n      <td>2/1/2</td>\n      <td>충전형 물약, 제어 와드, 마법공학 로켓 벨트, 명석함의 아이오니아 장화, 암흑의 ...</td>\n      <td>패배</td>\n    </tr>\n    <tr>\n      <th>8</th>\n      <td>IWIWI</td>\n      <td>자크</td>\n      <td>NONE</td>\n      <td>1/5/1</td>\n      <td>판금 장화, 충전형 물약, 바미의 불씨, 마법무효화의 망토, 천 갑옷</td>\n      <td>패배</td>\n    </tr>\n    <tr>\n      <th>9</th>\n      <td>Guo zi chan</td>\n      <td>쉔</td>\n      <td>NONE</td>\n      <td>2/1/3</td>\n      <td>도란의 방패, 덤불 조끼, 바미의 불씨, 군단의 방패, 헤르메스의 발걸음, 제어 와드</td>\n      <td>패배</td>\n    </tr>\n  </tbody>\n</table>\n</div>"
     },
     "metadata": {},
     "execution_count": 20
    }
   ],
   "source": [
    "# 전적 test 2\n",
    "match_record(match_list2[5])"
   ]
  },
  {
   "source": [
    "### 트롤러 잡아내기(아이템 팔기 or 같은 아이템 도배)"
   ],
   "cell_type": "markdown",
   "metadata": {}
  },
  {
   "source": [
    "### 아이템 파는 유저"
   ],
   "cell_type": "markdown",
   "metadata": {}
  },
  {
   "cell_type": "code",
   "execution_count": 21,
   "metadata": {},
   "outputs": [],
   "source": [
    "userId, userAccountId, userPuuid = searchUserId('아이번이니까렝가해주시면안될까요') \n",
    "match_list = searchChampMatchId(userAccountId, '아이번')"
   ]
  },
  {
   "cell_type": "code",
   "execution_count": 22,
   "metadata": {},
   "outputs": [
    {
     "output_type": "execute_result",
     "data": {
      "text/plain": [
       "           nickname champion    lane      kda  \\\n",
       "0            얼룩덜룩한말       그웬     TOP   9/2/11   \n",
       "1               토리5      리 신  JUNGLE  11/3/12   \n",
       "2            불구경 장인      비에고  MIDDLE    6/2/9   \n",
       "3             은정곤듀님      징크스  BOTTOM   7/2/10   \n",
       "4           내 인생은 고      쓰레쉬  BOTTOM    0/5/7   \n",
       "5    IlllIIIIllIlII     칼리스타  BOTTOM    1/5/8   \n",
       "6  아이번이니까렝가해주시면안될까요      아이번  JUNGLE    0/6/9   \n",
       "7              비타명재       제드  MIDDLE    6/8/2   \n",
       "8    LongStrongWard     노틸러스  BOTTOM    6/6/3   \n",
       "9           메우메우귀여움      스웨인     TOP    1/8/3   \n",
       "\n",
       "                                        result_items result  \n",
       "0  존야의 모래시계, 망각의 구, 균열 생성기, 명석함의 아이오니아 장화, 내셔의 이빨...     승리  \n",
       "1              곡괭이, 선혈포식자, 칠흑의 양날 도끼, 헤르메스의 발걸음, 롱소드     승리  \n",
       "2                  신성한 파괴자, 곡궁, 판금 장화, 도란의 방패, 흡혈의 낫     승리  \n",
       "3         도란의 검, 크라켄 학살자, 루난의 허리케인, B.F. 대검, 광전사의 군화     승리  \n",
       "4                강철의 솔라리 펜던트, 화이트록의 갑옷, 점화석, 기동력의 장화     승리  \n",
       "5              루난의 허리케인, 불멸의 철갑궁, 도란의 검, 광전사의 군화, 단검     패배  \n",
       "6                                                        패배  \n",
       "7   드락사르의 황혼검, 징수의 총, 제어 와드, 명석함의 아이오니아 장화, 롱소드, 롱소드     패배  \n",
       "8        타곤 산의 방벽, 강철의 솔라리 펜던트, 충전형 물약, 가시 갑옷, 판금 장화     패배  \n",
       "9                 도란의 반지, 리안드리의 고뇌, 장화, 망각의 구, 제어 와드     패배  "
      ],
      "text/html": "<div>\n<style scoped>\n    .dataframe tbody tr th:only-of-type {\n        vertical-align: middle;\n    }\n\n    .dataframe tbody tr th {\n        vertical-align: top;\n    }\n\n    .dataframe thead th {\n        text-align: right;\n    }\n</style>\n<table border=\"1\" class=\"dataframe\">\n  <thead>\n    <tr style=\"text-align: right;\">\n      <th></th>\n      <th>nickname</th>\n      <th>champion</th>\n      <th>lane</th>\n      <th>kda</th>\n      <th>result_items</th>\n      <th>result</th>\n    </tr>\n  </thead>\n  <tbody>\n    <tr>\n      <th>0</th>\n      <td>얼룩덜룩한말</td>\n      <td>그웬</td>\n      <td>TOP</td>\n      <td>9/2/11</td>\n      <td>존야의 모래시계, 망각의 구, 균열 생성기, 명석함의 아이오니아 장화, 내셔의 이빨...</td>\n      <td>승리</td>\n    </tr>\n    <tr>\n      <th>1</th>\n      <td>토리5</td>\n      <td>리 신</td>\n      <td>JUNGLE</td>\n      <td>11/3/12</td>\n      <td>곡괭이, 선혈포식자, 칠흑의 양날 도끼, 헤르메스의 발걸음, 롱소드</td>\n      <td>승리</td>\n    </tr>\n    <tr>\n      <th>2</th>\n      <td>불구경 장인</td>\n      <td>비에고</td>\n      <td>MIDDLE</td>\n      <td>6/2/9</td>\n      <td>신성한 파괴자, 곡궁, 판금 장화, 도란의 방패, 흡혈의 낫</td>\n      <td>승리</td>\n    </tr>\n    <tr>\n      <th>3</th>\n      <td>은정곤듀님</td>\n      <td>징크스</td>\n      <td>BOTTOM</td>\n      <td>7/2/10</td>\n      <td>도란의 검, 크라켄 학살자, 루난의 허리케인, B.F. 대검, 광전사의 군화</td>\n      <td>승리</td>\n    </tr>\n    <tr>\n      <th>4</th>\n      <td>내 인생은 고</td>\n      <td>쓰레쉬</td>\n      <td>BOTTOM</td>\n      <td>0/5/7</td>\n      <td>강철의 솔라리 펜던트, 화이트록의 갑옷, 점화석, 기동력의 장화</td>\n      <td>승리</td>\n    </tr>\n    <tr>\n      <th>5</th>\n      <td>IlllIIIIllIlII</td>\n      <td>칼리스타</td>\n      <td>BOTTOM</td>\n      <td>1/5/8</td>\n      <td>루난의 허리케인, 불멸의 철갑궁, 도란의 검, 광전사의 군화, 단검</td>\n      <td>패배</td>\n    </tr>\n    <tr>\n      <th>6</th>\n      <td>아이번이니까렝가해주시면안될까요</td>\n      <td>아이번</td>\n      <td>JUNGLE</td>\n      <td>0/6/9</td>\n      <td></td>\n      <td>패배</td>\n    </tr>\n    <tr>\n      <th>7</th>\n      <td>비타명재</td>\n      <td>제드</td>\n      <td>MIDDLE</td>\n      <td>6/8/2</td>\n      <td>드락사르의 황혼검, 징수의 총, 제어 와드, 명석함의 아이오니아 장화, 롱소드, 롱소드</td>\n      <td>패배</td>\n    </tr>\n    <tr>\n      <th>8</th>\n      <td>LongStrongWard</td>\n      <td>노틸러스</td>\n      <td>BOTTOM</td>\n      <td>6/6/3</td>\n      <td>타곤 산의 방벽, 강철의 솔라리 펜던트, 충전형 물약, 가시 갑옷, 판금 장화</td>\n      <td>패배</td>\n    </tr>\n    <tr>\n      <th>9</th>\n      <td>메우메우귀여움</td>\n      <td>스웨인</td>\n      <td>TOP</td>\n      <td>1/8/3</td>\n      <td>도란의 반지, 리안드리의 고뇌, 장화, 망각의 구, 제어 와드</td>\n      <td>패배</td>\n    </tr>\n  </tbody>\n</table>\n</div>"
     },
     "metadata": {},
     "execution_count": 22
    }
   ],
   "source": [
    "test_match = match_record(match_list[0])\n",
    "test_match"
   ]
  },
  {
   "cell_type": "code",
   "execution_count": 23,
   "metadata": {},
   "outputs": [],
   "source": [
    "test_match['trolling'] = test_match.apply(lambda r : True if str(r.result_items) == '' or str(r.result_items.split(', ')[0]) == str(r.result_items.split(', ')[-1]) else False, axis=1)"
   ]
  },
  {
   "cell_type": "code",
   "execution_count": 24,
   "metadata": {},
   "outputs": [
    {
     "output_type": "execute_result",
     "data": {
      "text/plain": [
       "           nickname champion    lane      kda  \\\n",
       "0            얼룩덜룩한말       그웬     TOP   9/2/11   \n",
       "1               토리5      리 신  JUNGLE  11/3/12   \n",
       "2            불구경 장인      비에고  MIDDLE    6/2/9   \n",
       "3             은정곤듀님      징크스  BOTTOM   7/2/10   \n",
       "4           내 인생은 고      쓰레쉬  BOTTOM    0/5/7   \n",
       "5    IlllIIIIllIlII     칼리스타  BOTTOM    1/5/8   \n",
       "6  아이번이니까렝가해주시면안될까요      아이번  JUNGLE    0/6/9   \n",
       "7              비타명재       제드  MIDDLE    6/8/2   \n",
       "8    LongStrongWard     노틸러스  BOTTOM    6/6/3   \n",
       "9           메우메우귀여움      스웨인     TOP    1/8/3   \n",
       "\n",
       "                                        result_items result  trolling  \n",
       "0  존야의 모래시계, 망각의 구, 균열 생성기, 명석함의 아이오니아 장화, 내셔의 이빨...     승리     False  \n",
       "1              곡괭이, 선혈포식자, 칠흑의 양날 도끼, 헤르메스의 발걸음, 롱소드     승리     False  \n",
       "2                  신성한 파괴자, 곡궁, 판금 장화, 도란의 방패, 흡혈의 낫     승리     False  \n",
       "3         도란의 검, 크라켄 학살자, 루난의 허리케인, B.F. 대검, 광전사의 군화     승리     False  \n",
       "4                강철의 솔라리 펜던트, 화이트록의 갑옷, 점화석, 기동력의 장화     승리     False  \n",
       "5              루난의 허리케인, 불멸의 철갑궁, 도란의 검, 광전사의 군화, 단검     패배     False  \n",
       "6                                                        패배      True  \n",
       "7   드락사르의 황혼검, 징수의 총, 제어 와드, 명석함의 아이오니아 장화, 롱소드, 롱소드     패배     False  \n",
       "8        타곤 산의 방벽, 강철의 솔라리 펜던트, 충전형 물약, 가시 갑옷, 판금 장화     패배     False  \n",
       "9                 도란의 반지, 리안드리의 고뇌, 장화, 망각의 구, 제어 와드     패배     False  "
      ],
      "text/html": "<div>\n<style scoped>\n    .dataframe tbody tr th:only-of-type {\n        vertical-align: middle;\n    }\n\n    .dataframe tbody tr th {\n        vertical-align: top;\n    }\n\n    .dataframe thead th {\n        text-align: right;\n    }\n</style>\n<table border=\"1\" class=\"dataframe\">\n  <thead>\n    <tr style=\"text-align: right;\">\n      <th></th>\n      <th>nickname</th>\n      <th>champion</th>\n      <th>lane</th>\n      <th>kda</th>\n      <th>result_items</th>\n      <th>result</th>\n      <th>trolling</th>\n    </tr>\n  </thead>\n  <tbody>\n    <tr>\n      <th>0</th>\n      <td>얼룩덜룩한말</td>\n      <td>그웬</td>\n      <td>TOP</td>\n      <td>9/2/11</td>\n      <td>존야의 모래시계, 망각의 구, 균열 생성기, 명석함의 아이오니아 장화, 내셔의 이빨...</td>\n      <td>승리</td>\n      <td>False</td>\n    </tr>\n    <tr>\n      <th>1</th>\n      <td>토리5</td>\n      <td>리 신</td>\n      <td>JUNGLE</td>\n      <td>11/3/12</td>\n      <td>곡괭이, 선혈포식자, 칠흑의 양날 도끼, 헤르메스의 발걸음, 롱소드</td>\n      <td>승리</td>\n      <td>False</td>\n    </tr>\n    <tr>\n      <th>2</th>\n      <td>불구경 장인</td>\n      <td>비에고</td>\n      <td>MIDDLE</td>\n      <td>6/2/9</td>\n      <td>신성한 파괴자, 곡궁, 판금 장화, 도란의 방패, 흡혈의 낫</td>\n      <td>승리</td>\n      <td>False</td>\n    </tr>\n    <tr>\n      <th>3</th>\n      <td>은정곤듀님</td>\n      <td>징크스</td>\n      <td>BOTTOM</td>\n      <td>7/2/10</td>\n      <td>도란의 검, 크라켄 학살자, 루난의 허리케인, B.F. 대검, 광전사의 군화</td>\n      <td>승리</td>\n      <td>False</td>\n    </tr>\n    <tr>\n      <th>4</th>\n      <td>내 인생은 고</td>\n      <td>쓰레쉬</td>\n      <td>BOTTOM</td>\n      <td>0/5/7</td>\n      <td>강철의 솔라리 펜던트, 화이트록의 갑옷, 점화석, 기동력의 장화</td>\n      <td>승리</td>\n      <td>False</td>\n    </tr>\n    <tr>\n      <th>5</th>\n      <td>IlllIIIIllIlII</td>\n      <td>칼리스타</td>\n      <td>BOTTOM</td>\n      <td>1/5/8</td>\n      <td>루난의 허리케인, 불멸의 철갑궁, 도란의 검, 광전사의 군화, 단검</td>\n      <td>패배</td>\n      <td>False</td>\n    </tr>\n    <tr>\n      <th>6</th>\n      <td>아이번이니까렝가해주시면안될까요</td>\n      <td>아이번</td>\n      <td>JUNGLE</td>\n      <td>0/6/9</td>\n      <td></td>\n      <td>패배</td>\n      <td>True</td>\n    </tr>\n    <tr>\n      <th>7</th>\n      <td>비타명재</td>\n      <td>제드</td>\n      <td>MIDDLE</td>\n      <td>6/8/2</td>\n      <td>드락사르의 황혼검, 징수의 총, 제어 와드, 명석함의 아이오니아 장화, 롱소드, 롱소드</td>\n      <td>패배</td>\n      <td>False</td>\n    </tr>\n    <tr>\n      <th>8</th>\n      <td>LongStrongWard</td>\n      <td>노틸러스</td>\n      <td>BOTTOM</td>\n      <td>6/6/3</td>\n      <td>타곤 산의 방벽, 강철의 솔라리 펜던트, 충전형 물약, 가시 갑옷, 판금 장화</td>\n      <td>패배</td>\n      <td>False</td>\n    </tr>\n    <tr>\n      <th>9</th>\n      <td>메우메우귀여움</td>\n      <td>스웨인</td>\n      <td>TOP</td>\n      <td>1/8/3</td>\n      <td>도란의 반지, 리안드리의 고뇌, 장화, 망각의 구, 제어 와드</td>\n      <td>패배</td>\n      <td>False</td>\n    </tr>\n  </tbody>\n</table>\n</div>"
     },
     "metadata": {},
     "execution_count": 24
    }
   ],
   "source": [
    "test_match"
   ]
  },
  {
   "source": [
    "### 같은 아이템 도배하는 유저"
   ],
   "cell_type": "markdown",
   "metadata": {}
  },
  {
   "cell_type": "code",
   "execution_count": 25,
   "metadata": {},
   "outputs": [
    {
     "output_type": "execute_result",
     "data": {
      "text/plain": [
       "         nickname champion  lane    kda  \\\n",
       "0            먹삼돌이       룰루  NONE  1/1/0   \n",
       "1         하울링 404      리 신  NONE  1/3/2   \n",
       "2             케이온      나서스  NONE  1/1/1   \n",
       "3        다이아는신비롭다       에코  NONE  1/3/0   \n",
       "4        할아버지의롤렉스      바루스  NONE  0/3/1   \n",
       "5       딜 서폿이면 탑감     이즈리얼  NONE  2/0/3   \n",
       "6          니칼라똥파워      카서스  NONE  4/0/4   \n",
       "7     rnldyalyuqi      카르마  NONE  1/1/7   \n",
       "8  Inversion user     다리우스  NONE  3/2/0   \n",
       "9        오늘 넌 뭐했어      피오라  NONE  1/1/1   \n",
       "\n",
       "                                        result_items result  \n",
       "0         타곤 산의 방패, 장화, 제어 와드, 체력 물약, 루비 수정, 밴들유리 거울     패배  \n",
       "1     요정의 부적, 요정의 부적, 요정의 부적, 요정의 부적, 요정의 부적, 요정의 부적     패배  \n",
       "2  원기 회복의 구슬, 원기 회복의 구슬, 원기 회복의 구슬, 원기 회복의 구슬, 원기...     패배  \n",
       "3  암흑의 인장, 충전형 물약, 마법사의 신발, 마법공학 교류 발전기, 루비 수정, 방...     패배  \n",
       "4  톱날 단검, 충전형 물약, 여신의 눈물, 도란의 방패, 롱소드, 명석함의 아이오니아 장화     패배  \n",
       "5  제어 와드, 콜필드의 전투 망치, 여신의 눈물, 신성한 파괴자, 도란의 검, 명석함...     승리  \n",
       "6      제어 와드, 충전형 물약, 초시계, 암흑의 인장, 리안드리의 고뇌, 마법사의 신발     승리  \n",
       "7         얼음 정수의 파편, 슈렐리아의 군가, 제어 와드, 신속의 장화, 충전형 물약     승리  \n",
       "8               루비 수정, 발걸음 분쇄기, 충전형 물약, 판금 장화, 도란의 검     승리  \n",
       "9                           충전형 물약, 선혈포식자, 도란의 검, 장화     승리  "
      ],
      "text/html": "<div>\n<style scoped>\n    .dataframe tbody tr th:only-of-type {\n        vertical-align: middle;\n    }\n\n    .dataframe tbody tr th {\n        vertical-align: top;\n    }\n\n    .dataframe thead th {\n        text-align: right;\n    }\n</style>\n<table border=\"1\" class=\"dataframe\">\n  <thead>\n    <tr style=\"text-align: right;\">\n      <th></th>\n      <th>nickname</th>\n      <th>champion</th>\n      <th>lane</th>\n      <th>kda</th>\n      <th>result_items</th>\n      <th>result</th>\n    </tr>\n  </thead>\n  <tbody>\n    <tr>\n      <th>0</th>\n      <td>먹삼돌이</td>\n      <td>룰루</td>\n      <td>NONE</td>\n      <td>1/1/0</td>\n      <td>타곤 산의 방패, 장화, 제어 와드, 체력 물약, 루비 수정, 밴들유리 거울</td>\n      <td>패배</td>\n    </tr>\n    <tr>\n      <th>1</th>\n      <td>하울링 404</td>\n      <td>리 신</td>\n      <td>NONE</td>\n      <td>1/3/2</td>\n      <td>요정의 부적, 요정의 부적, 요정의 부적, 요정의 부적, 요정의 부적, 요정의 부적</td>\n      <td>패배</td>\n    </tr>\n    <tr>\n      <th>2</th>\n      <td>케이온</td>\n      <td>나서스</td>\n      <td>NONE</td>\n      <td>1/1/1</td>\n      <td>원기 회복의 구슬, 원기 회복의 구슬, 원기 회복의 구슬, 원기 회복의 구슬, 원기...</td>\n      <td>패배</td>\n    </tr>\n    <tr>\n      <th>3</th>\n      <td>다이아는신비롭다</td>\n      <td>에코</td>\n      <td>NONE</td>\n      <td>1/3/0</td>\n      <td>암흑의 인장, 충전형 물약, 마법사의 신발, 마법공학 교류 발전기, 루비 수정, 방...</td>\n      <td>패배</td>\n    </tr>\n    <tr>\n      <th>4</th>\n      <td>할아버지의롤렉스</td>\n      <td>바루스</td>\n      <td>NONE</td>\n      <td>0/3/1</td>\n      <td>톱날 단검, 충전형 물약, 여신의 눈물, 도란의 방패, 롱소드, 명석함의 아이오니아 장화</td>\n      <td>패배</td>\n    </tr>\n    <tr>\n      <th>5</th>\n      <td>딜 서폿이면 탑감</td>\n      <td>이즈리얼</td>\n      <td>NONE</td>\n      <td>2/0/3</td>\n      <td>제어 와드, 콜필드의 전투 망치, 여신의 눈물, 신성한 파괴자, 도란의 검, 명석함...</td>\n      <td>승리</td>\n    </tr>\n    <tr>\n      <th>6</th>\n      <td>니칼라똥파워</td>\n      <td>카서스</td>\n      <td>NONE</td>\n      <td>4/0/4</td>\n      <td>제어 와드, 충전형 물약, 초시계, 암흑의 인장, 리안드리의 고뇌, 마법사의 신발</td>\n      <td>승리</td>\n    </tr>\n    <tr>\n      <th>7</th>\n      <td>rnldyalyuqi</td>\n      <td>카르마</td>\n      <td>NONE</td>\n      <td>1/1/7</td>\n      <td>얼음 정수의 파편, 슈렐리아의 군가, 제어 와드, 신속의 장화, 충전형 물약</td>\n      <td>승리</td>\n    </tr>\n    <tr>\n      <th>8</th>\n      <td>Inversion user</td>\n      <td>다리우스</td>\n      <td>NONE</td>\n      <td>3/2/0</td>\n      <td>루비 수정, 발걸음 분쇄기, 충전형 물약, 판금 장화, 도란의 검</td>\n      <td>승리</td>\n    </tr>\n    <tr>\n      <th>9</th>\n      <td>오늘 넌 뭐했어</td>\n      <td>피오라</td>\n      <td>NONE</td>\n      <td>1/1/1</td>\n      <td>충전형 물약, 선혈포식자, 도란의 검, 장화</td>\n      <td>승리</td>\n    </tr>\n  </tbody>\n</table>\n</div>"
     },
     "metadata": {},
     "execution_count": 25
    }
   ],
   "source": [
    "userId, userAccountId, userPuuid = searchUserId('케이온') \n",
    "match_list = searchChampMatchId(userAccountId, '나서스')\n",
    "test_match2 = match_record(match_list[0])\n",
    "test_match2"
   ]
  },
  {
   "cell_type": "code",
   "execution_count": 26,
   "metadata": {},
   "outputs": [
    {
     "output_type": "execute_result",
     "data": {
      "text/plain": [
       "         nickname champion  lane    kda  \\\n",
       "0            먹삼돌이       룰루  NONE  1/1/0   \n",
       "1         하울링 404      리 신  NONE  1/3/2   \n",
       "2             케이온      나서스  NONE  1/1/1   \n",
       "3        다이아는신비롭다       에코  NONE  1/3/0   \n",
       "4        할아버지의롤렉스      바루스  NONE  0/3/1   \n",
       "5       딜 서폿이면 탑감     이즈리얼  NONE  2/0/3   \n",
       "6          니칼라똥파워      카서스  NONE  4/0/4   \n",
       "7     rnldyalyuqi      카르마  NONE  1/1/7   \n",
       "8  Inversion user     다리우스  NONE  3/2/0   \n",
       "9        오늘 넌 뭐했어      피오라  NONE  1/1/1   \n",
       "\n",
       "                                        result_items result  trolling  \n",
       "0         타곤 산의 방패, 장화, 제어 와드, 체력 물약, 루비 수정, 밴들유리 거울     패배     False  \n",
       "1     요정의 부적, 요정의 부적, 요정의 부적, 요정의 부적, 요정의 부적, 요정의 부적     패배      True  \n",
       "2  원기 회복의 구슬, 원기 회복의 구슬, 원기 회복의 구슬, 원기 회복의 구슬, 원기...     패배      True  \n",
       "3  암흑의 인장, 충전형 물약, 마법사의 신발, 마법공학 교류 발전기, 루비 수정, 방...     패배     False  \n",
       "4  톱날 단검, 충전형 물약, 여신의 눈물, 도란의 방패, 롱소드, 명석함의 아이오니아 장화     패배     False  \n",
       "5  제어 와드, 콜필드의 전투 망치, 여신의 눈물, 신성한 파괴자, 도란의 검, 명석함...     승리     False  \n",
       "6      제어 와드, 충전형 물약, 초시계, 암흑의 인장, 리안드리의 고뇌, 마법사의 신발     승리     False  \n",
       "7         얼음 정수의 파편, 슈렐리아의 군가, 제어 와드, 신속의 장화, 충전형 물약     승리     False  \n",
       "8               루비 수정, 발걸음 분쇄기, 충전형 물약, 판금 장화, 도란의 검     승리     False  \n",
       "9                           충전형 물약, 선혈포식자, 도란의 검, 장화     승리     False  "
      ],
      "text/html": "<div>\n<style scoped>\n    .dataframe tbody tr th:only-of-type {\n        vertical-align: middle;\n    }\n\n    .dataframe tbody tr th {\n        vertical-align: top;\n    }\n\n    .dataframe thead th {\n        text-align: right;\n    }\n</style>\n<table border=\"1\" class=\"dataframe\">\n  <thead>\n    <tr style=\"text-align: right;\">\n      <th></th>\n      <th>nickname</th>\n      <th>champion</th>\n      <th>lane</th>\n      <th>kda</th>\n      <th>result_items</th>\n      <th>result</th>\n      <th>trolling</th>\n    </tr>\n  </thead>\n  <tbody>\n    <tr>\n      <th>0</th>\n      <td>먹삼돌이</td>\n      <td>룰루</td>\n      <td>NONE</td>\n      <td>1/1/0</td>\n      <td>타곤 산의 방패, 장화, 제어 와드, 체력 물약, 루비 수정, 밴들유리 거울</td>\n      <td>패배</td>\n      <td>False</td>\n    </tr>\n    <tr>\n      <th>1</th>\n      <td>하울링 404</td>\n      <td>리 신</td>\n      <td>NONE</td>\n      <td>1/3/2</td>\n      <td>요정의 부적, 요정의 부적, 요정의 부적, 요정의 부적, 요정의 부적, 요정의 부적</td>\n      <td>패배</td>\n      <td>True</td>\n    </tr>\n    <tr>\n      <th>2</th>\n      <td>케이온</td>\n      <td>나서스</td>\n      <td>NONE</td>\n      <td>1/1/1</td>\n      <td>원기 회복의 구슬, 원기 회복의 구슬, 원기 회복의 구슬, 원기 회복의 구슬, 원기...</td>\n      <td>패배</td>\n      <td>True</td>\n    </tr>\n    <tr>\n      <th>3</th>\n      <td>다이아는신비롭다</td>\n      <td>에코</td>\n      <td>NONE</td>\n      <td>1/3/0</td>\n      <td>암흑의 인장, 충전형 물약, 마법사의 신발, 마법공학 교류 발전기, 루비 수정, 방...</td>\n      <td>패배</td>\n      <td>False</td>\n    </tr>\n    <tr>\n      <th>4</th>\n      <td>할아버지의롤렉스</td>\n      <td>바루스</td>\n      <td>NONE</td>\n      <td>0/3/1</td>\n      <td>톱날 단검, 충전형 물약, 여신의 눈물, 도란의 방패, 롱소드, 명석함의 아이오니아 장화</td>\n      <td>패배</td>\n      <td>False</td>\n    </tr>\n    <tr>\n      <th>5</th>\n      <td>딜 서폿이면 탑감</td>\n      <td>이즈리얼</td>\n      <td>NONE</td>\n      <td>2/0/3</td>\n      <td>제어 와드, 콜필드의 전투 망치, 여신의 눈물, 신성한 파괴자, 도란의 검, 명석함...</td>\n      <td>승리</td>\n      <td>False</td>\n    </tr>\n    <tr>\n      <th>6</th>\n      <td>니칼라똥파워</td>\n      <td>카서스</td>\n      <td>NONE</td>\n      <td>4/0/4</td>\n      <td>제어 와드, 충전형 물약, 초시계, 암흑의 인장, 리안드리의 고뇌, 마법사의 신발</td>\n      <td>승리</td>\n      <td>False</td>\n    </tr>\n    <tr>\n      <th>7</th>\n      <td>rnldyalyuqi</td>\n      <td>카르마</td>\n      <td>NONE</td>\n      <td>1/1/7</td>\n      <td>얼음 정수의 파편, 슈렐리아의 군가, 제어 와드, 신속의 장화, 충전형 물약</td>\n      <td>승리</td>\n      <td>False</td>\n    </tr>\n    <tr>\n      <th>8</th>\n      <td>Inversion user</td>\n      <td>다리우스</td>\n      <td>NONE</td>\n      <td>3/2/0</td>\n      <td>루비 수정, 발걸음 분쇄기, 충전형 물약, 판금 장화, 도란의 검</td>\n      <td>승리</td>\n      <td>False</td>\n    </tr>\n    <tr>\n      <th>9</th>\n      <td>오늘 넌 뭐했어</td>\n      <td>피오라</td>\n      <td>NONE</td>\n      <td>1/1/1</td>\n      <td>충전형 물약, 선혈포식자, 도란의 검, 장화</td>\n      <td>승리</td>\n      <td>False</td>\n    </tr>\n  </tbody>\n</table>\n</div>"
     },
     "metadata": {},
     "execution_count": 26
    }
   ],
   "source": [
    "test_match2['trolling'] = test_match2.apply(lambda r : True if str(r.result_items) == '' or str(r.result_items.split(', ')[0]) == str(r.result_items.split(', ')[-1]) else False, axis=1)\n",
    "test_match2"
   ]
  },
  {
   "source": [
    "### 최근 10게임 전적구하기"
   ],
   "cell_type": "markdown",
   "metadata": {}
  },
  {
   "cell_type": "code",
   "execution_count": 30,
   "metadata": {},
   "outputs": [],
   "source": [
    "user = '케이온'\n",
    "userId, userAccountId, userPuuid = searchUserId(user)\n",
    "match_list = searchMatchId(userAccountId)[:30] # 30개 불러오기"
   ]
  },
  {
   "cell_type": "code",
   "execution_count": 31,
   "metadata": {},
   "outputs": [],
   "source": [
    "# 유저 인덱스 구하기\n",
    "def userIndex(users_info):\n",
    "    user_list = []\n",
    "    for user_info in users_info:\n",
    "        user_name = user_info['player']['summonerName']\n",
    "        user_list.append(user_name)\n",
    "    user_index = user_list.index(user)\n",
    "    return user_index"
   ]
  },
  {
   "cell_type": "code",
   "execution_count": 32,
   "metadata": {},
   "outputs": [
    {
     "output_type": "execute_result",
     "data": {
      "text/plain": [
       "   champion    lane      kda  \\\n",
       "0      말파이트     TOP   1/5/12   \n",
       "1        가렌    NONE    4/1/1   \n",
       "2        가렌     TOP    3/2/7   \n",
       "3        가렌     TOP    1/5/6   \n",
       "4       나서스    NONE    1/1/1   \n",
       "5      마오카이  MIDDLE   4/7/11   \n",
       "6        가렌    NONE    2/2/0   \n",
       "7      마오카이  MIDDLE    2/3/4   \n",
       "8      마오카이     TOP    1/4/1   \n",
       "9      마오카이  MIDDLE   4/6/13   \n",
       "10       가렌    NONE    2/3/0   \n",
       "11     마오카이  MIDDLE   2/7/16   \n",
       "12     마오카이  JUNGLE    3/3/3   \n",
       "13     마오카이     TOP  11/2/15   \n",
       "14     마오카이  MIDDLE   1/3/14   \n",
       "15      나서스     TOP    2/0/9   \n",
       "16        쉔  MIDDLE    1/5/5   \n",
       "17     마오카이    NONE    0/0/0   \n",
       "18        쉔     TOP    5/1/4   \n",
       "19     아트록스     TOP  1/13/12   \n",
       "20        쉔    NONE    2/0/6   \n",
       "21       가렌  MIDDLE    0/7/8   \n",
       "22      나서스     TOP    1/3/2   \n",
       "23     말파이트     TOP    3/3/7   \n",
       "24        쉔     TOP    2/1/5   \n",
       "25        쉔  JUNGLE  13/2/21   \n",
       "26     마오카이  MIDDLE    2/4/1   \n",
       "27     마오카이     TOP    3/6/1   \n",
       "28     마오카이  MIDDLE   2/7/16   \n",
       "29     마오카이  MIDDLE   2/4/12   \n",
       "\n",
       "                                         result_items result  trolling  \n",
       "0         부패 물약, 덤불 조끼, 증오의 사슬, 판금 장화, 태양불꽃 방패, 루비 수정     승리     False  \n",
       "1           도란의 방패, 충전형 물약, 헤르메스의 발걸음, 태양불꽃 방패, 루비 수정     승리     False  \n",
       "2               도란의 방패, 태양불꽃 방패, 판금 장화, 망자의 갑옷, 덤불 조끼     승리     False  \n",
       "3          점화석, 태양불꽃 방패, 망자의 갑옷, 판금 장화, 덤불 조끼, 대자연의 힘     승리     False  \n",
       "4   원기 회복의 구슬, 원기 회복의 구슬, 원기 회복의 구슬, 원기 회복의 구슬, 원기...     패배      True  \n",
       "5               가시 갑옷, 태양불꽃 방패, 판금 장화, 증오의 사슬, 음전자 망토     승리     False  \n",
       "6         도란의 방패, 바미의 불씨, 판금 장화, 망자의 갑옷, 점화석, 거인의 허리띠     패배     False  \n",
       "7            부패 물약, 태양불꽃 방패, 판금 장화, 덤불 조끼, 점화석, 루비 수정     패배     False  \n",
       "8           도란의 방패, 덤불 조끼, 판금 장화, 터보 화공 탱크, 초시계, 천 갑옷     패배     False  \n",
       "9   부패 물약, 헤르메스의 발걸음, 가시 갑옷, 태양불꽃 방패, 음전자 망토, 거인의 허리띠     패배     False  \n",
       "10                     도란의 방패, 광전사의 군화, 덤불 조끼, 비상의 월갑     패배     False  \n",
       "11               부패 물약, 판금 장화, 가시 갑옷, 태양불꽃 방패, 심연의 가면     패배     False  \n",
       "12       부패 물약, 덤불 조끼, 판금 장화, 태양불꽃 방패, 루비 수정, 파수꾼의 갑옷     승리     False  \n",
       "13     음전자 망토, 망자의 갑옷, 태양불꽃 방패, 파수꾼의 갑옷, 판금 장화, 가시 갑옷     승리     False  \n",
       "14   부패 물약, 망자의 갑옷, 헤르메스의 발걸음, 바미의 불씨, 비상의 월갑, 음전자 망토     승리     False  \n",
       "15                     덤불 조끼, 신성한 파괴자, 망자의 갑옷, 신속의 장화     승리     False  \n",
       "16                         정령의 형상, 태양불꽃 방패, 장화, 덤불 조끼     패배     False  \n",
       "17  원기 회복의 구슬, 원기 회복의 구슬, 원기 회복의 구슬, 원기 회복의 구슬, 원기...     패배      True  \n",
       "18        도란의 방패, 서리불꽃 건틀릿, 헤르메스의 발걸음, 란두인의 예언, 덤불 조끼     패배     False  \n",
       "19         명석함의 아이오니아 장화, 스테락의 도전, 정령의 형상, 선혈포식자, 점화석     패배     False  \n",
       "20          도란의 방패, 충전형 물약, 덤불 조끼, 장화, 서리불꽃 건틀릿, 천 갑옷     승리     False  \n",
       "21            망자의 갑옷, 판금 장화, 파수꾼의 갑옷, 터보 화공 탱크, 루비 수정     패배     False  \n",
       "22    도란의 반지, 명석함의 아이오니아 장화, 신성한 파괴자, 존야의 모래시계, 제어 와드     패배     False  \n",
       "23     모렐로노미콘, 밤의 수확자, 명석함의 아이오니아 장화, 존야의 모래시계, 제어 와드     승리     False  \n",
       "24         명석함의 아이오니아 장화, 충전형 물약, 태양불꽃 방패, 티아맷, 가시 갑옷     패배     False  \n",
       "25      도란의 방패, 파수꾼의 갑옷, 태양불꽃 방패, 판금 장화, 가시 갑옷, 루비 수정     승리     False  \n",
       "26  원기 회복의 구슬, 원기 회복의 구슬, 원기 회복의 구슬, 원기 회복의 구슬, 원기...     패배      True  \n",
       "27                    부패 물약, 태양불꽃 방패, 루비 수정, 천 갑옷, 장화     패배     False  \n",
       "28  부패 물약, 망자의 갑옷, 헤르메스의 발걸음, 음전자 망토, 제국의 명령, 방출의 마법봉     승리     False  \n",
       "29       부패 물약, 판금 장화, 가시 갑옷, 터보 화공 탱크, 심연의 가면, 루비 수정     승리     False  "
      ],
      "text/html": "<div>\n<style scoped>\n    .dataframe tbody tr th:only-of-type {\n        vertical-align: middle;\n    }\n\n    .dataframe tbody tr th {\n        vertical-align: top;\n    }\n\n    .dataframe thead th {\n        text-align: right;\n    }\n</style>\n<table border=\"1\" class=\"dataframe\">\n  <thead>\n    <tr style=\"text-align: right;\">\n      <th></th>\n      <th>champion</th>\n      <th>lane</th>\n      <th>kda</th>\n      <th>result_items</th>\n      <th>result</th>\n      <th>trolling</th>\n    </tr>\n  </thead>\n  <tbody>\n    <tr>\n      <th>0</th>\n      <td>말파이트</td>\n      <td>TOP</td>\n      <td>1/5/12</td>\n      <td>부패 물약, 덤불 조끼, 증오의 사슬, 판금 장화, 태양불꽃 방패, 루비 수정</td>\n      <td>승리</td>\n      <td>False</td>\n    </tr>\n    <tr>\n      <th>1</th>\n      <td>가렌</td>\n      <td>NONE</td>\n      <td>4/1/1</td>\n      <td>도란의 방패, 충전형 물약, 헤르메스의 발걸음, 태양불꽃 방패, 루비 수정</td>\n      <td>승리</td>\n      <td>False</td>\n    </tr>\n    <tr>\n      <th>2</th>\n      <td>가렌</td>\n      <td>TOP</td>\n      <td>3/2/7</td>\n      <td>도란의 방패, 태양불꽃 방패, 판금 장화, 망자의 갑옷, 덤불 조끼</td>\n      <td>승리</td>\n      <td>False</td>\n    </tr>\n    <tr>\n      <th>3</th>\n      <td>가렌</td>\n      <td>TOP</td>\n      <td>1/5/6</td>\n      <td>점화석, 태양불꽃 방패, 망자의 갑옷, 판금 장화, 덤불 조끼, 대자연의 힘</td>\n      <td>승리</td>\n      <td>False</td>\n    </tr>\n    <tr>\n      <th>4</th>\n      <td>나서스</td>\n      <td>NONE</td>\n      <td>1/1/1</td>\n      <td>원기 회복의 구슬, 원기 회복의 구슬, 원기 회복의 구슬, 원기 회복의 구슬, 원기...</td>\n      <td>패배</td>\n      <td>True</td>\n    </tr>\n    <tr>\n      <th>5</th>\n      <td>마오카이</td>\n      <td>MIDDLE</td>\n      <td>4/7/11</td>\n      <td>가시 갑옷, 태양불꽃 방패, 판금 장화, 증오의 사슬, 음전자 망토</td>\n      <td>승리</td>\n      <td>False</td>\n    </tr>\n    <tr>\n      <th>6</th>\n      <td>가렌</td>\n      <td>NONE</td>\n      <td>2/2/0</td>\n      <td>도란의 방패, 바미의 불씨, 판금 장화, 망자의 갑옷, 점화석, 거인의 허리띠</td>\n      <td>패배</td>\n      <td>False</td>\n    </tr>\n    <tr>\n      <th>7</th>\n      <td>마오카이</td>\n      <td>MIDDLE</td>\n      <td>2/3/4</td>\n      <td>부패 물약, 태양불꽃 방패, 판금 장화, 덤불 조끼, 점화석, 루비 수정</td>\n      <td>패배</td>\n      <td>False</td>\n    </tr>\n    <tr>\n      <th>8</th>\n      <td>마오카이</td>\n      <td>TOP</td>\n      <td>1/4/1</td>\n      <td>도란의 방패, 덤불 조끼, 판금 장화, 터보 화공 탱크, 초시계, 천 갑옷</td>\n      <td>패배</td>\n      <td>False</td>\n    </tr>\n    <tr>\n      <th>9</th>\n      <td>마오카이</td>\n      <td>MIDDLE</td>\n      <td>4/6/13</td>\n      <td>부패 물약, 헤르메스의 발걸음, 가시 갑옷, 태양불꽃 방패, 음전자 망토, 거인의 허리띠</td>\n      <td>패배</td>\n      <td>False</td>\n    </tr>\n    <tr>\n      <th>10</th>\n      <td>가렌</td>\n      <td>NONE</td>\n      <td>2/3/0</td>\n      <td>도란의 방패, 광전사의 군화, 덤불 조끼, 비상의 월갑</td>\n      <td>패배</td>\n      <td>False</td>\n    </tr>\n    <tr>\n      <th>11</th>\n      <td>마오카이</td>\n      <td>MIDDLE</td>\n      <td>2/7/16</td>\n      <td>부패 물약, 판금 장화, 가시 갑옷, 태양불꽃 방패, 심연의 가면</td>\n      <td>패배</td>\n      <td>False</td>\n    </tr>\n    <tr>\n      <th>12</th>\n      <td>마오카이</td>\n      <td>JUNGLE</td>\n      <td>3/3/3</td>\n      <td>부패 물약, 덤불 조끼, 판금 장화, 태양불꽃 방패, 루비 수정, 파수꾼의 갑옷</td>\n      <td>승리</td>\n      <td>False</td>\n    </tr>\n    <tr>\n      <th>13</th>\n      <td>마오카이</td>\n      <td>TOP</td>\n      <td>11/2/15</td>\n      <td>음전자 망토, 망자의 갑옷, 태양불꽃 방패, 파수꾼의 갑옷, 판금 장화, 가시 갑옷</td>\n      <td>승리</td>\n      <td>False</td>\n    </tr>\n    <tr>\n      <th>14</th>\n      <td>마오카이</td>\n      <td>MIDDLE</td>\n      <td>1/3/14</td>\n      <td>부패 물약, 망자의 갑옷, 헤르메스의 발걸음, 바미의 불씨, 비상의 월갑, 음전자 망토</td>\n      <td>승리</td>\n      <td>False</td>\n    </tr>\n    <tr>\n      <th>15</th>\n      <td>나서스</td>\n      <td>TOP</td>\n      <td>2/0/9</td>\n      <td>덤불 조끼, 신성한 파괴자, 망자의 갑옷, 신속의 장화</td>\n      <td>승리</td>\n      <td>False</td>\n    </tr>\n    <tr>\n      <th>16</th>\n      <td>쉔</td>\n      <td>MIDDLE</td>\n      <td>1/5/5</td>\n      <td>정령의 형상, 태양불꽃 방패, 장화, 덤불 조끼</td>\n      <td>패배</td>\n      <td>False</td>\n    </tr>\n    <tr>\n      <th>17</th>\n      <td>마오카이</td>\n      <td>NONE</td>\n      <td>0/0/0</td>\n      <td>원기 회복의 구슬, 원기 회복의 구슬, 원기 회복의 구슬, 원기 회복의 구슬, 원기...</td>\n      <td>패배</td>\n      <td>True</td>\n    </tr>\n    <tr>\n      <th>18</th>\n      <td>쉔</td>\n      <td>TOP</td>\n      <td>5/1/4</td>\n      <td>도란의 방패, 서리불꽃 건틀릿, 헤르메스의 발걸음, 란두인의 예언, 덤불 조끼</td>\n      <td>패배</td>\n      <td>False</td>\n    </tr>\n    <tr>\n      <th>19</th>\n      <td>아트록스</td>\n      <td>TOP</td>\n      <td>1/13/12</td>\n      <td>명석함의 아이오니아 장화, 스테락의 도전, 정령의 형상, 선혈포식자, 점화석</td>\n      <td>패배</td>\n      <td>False</td>\n    </tr>\n    <tr>\n      <th>20</th>\n      <td>쉔</td>\n      <td>NONE</td>\n      <td>2/0/6</td>\n      <td>도란의 방패, 충전형 물약, 덤불 조끼, 장화, 서리불꽃 건틀릿, 천 갑옷</td>\n      <td>승리</td>\n      <td>False</td>\n    </tr>\n    <tr>\n      <th>21</th>\n      <td>가렌</td>\n      <td>MIDDLE</td>\n      <td>0/7/8</td>\n      <td>망자의 갑옷, 판금 장화, 파수꾼의 갑옷, 터보 화공 탱크, 루비 수정</td>\n      <td>패배</td>\n      <td>False</td>\n    </tr>\n    <tr>\n      <th>22</th>\n      <td>나서스</td>\n      <td>TOP</td>\n      <td>1/3/2</td>\n      <td>도란의 반지, 명석함의 아이오니아 장화, 신성한 파괴자, 존야의 모래시계, 제어 와드</td>\n      <td>패배</td>\n      <td>False</td>\n    </tr>\n    <tr>\n      <th>23</th>\n      <td>말파이트</td>\n      <td>TOP</td>\n      <td>3/3/7</td>\n      <td>모렐로노미콘, 밤의 수확자, 명석함의 아이오니아 장화, 존야의 모래시계, 제어 와드</td>\n      <td>승리</td>\n      <td>False</td>\n    </tr>\n    <tr>\n      <th>24</th>\n      <td>쉔</td>\n      <td>TOP</td>\n      <td>2/1/5</td>\n      <td>명석함의 아이오니아 장화, 충전형 물약, 태양불꽃 방패, 티아맷, 가시 갑옷</td>\n      <td>패배</td>\n      <td>False</td>\n    </tr>\n    <tr>\n      <th>25</th>\n      <td>쉔</td>\n      <td>JUNGLE</td>\n      <td>13/2/21</td>\n      <td>도란의 방패, 파수꾼의 갑옷, 태양불꽃 방패, 판금 장화, 가시 갑옷, 루비 수정</td>\n      <td>승리</td>\n      <td>False</td>\n    </tr>\n    <tr>\n      <th>26</th>\n      <td>마오카이</td>\n      <td>MIDDLE</td>\n      <td>2/4/1</td>\n      <td>원기 회복의 구슬, 원기 회복의 구슬, 원기 회복의 구슬, 원기 회복의 구슬, 원기...</td>\n      <td>패배</td>\n      <td>True</td>\n    </tr>\n    <tr>\n      <th>27</th>\n      <td>마오카이</td>\n      <td>TOP</td>\n      <td>3/6/1</td>\n      <td>부패 물약, 태양불꽃 방패, 루비 수정, 천 갑옷, 장화</td>\n      <td>패배</td>\n      <td>False</td>\n    </tr>\n    <tr>\n      <th>28</th>\n      <td>마오카이</td>\n      <td>MIDDLE</td>\n      <td>2/7/16</td>\n      <td>부패 물약, 망자의 갑옷, 헤르메스의 발걸음, 음전자 망토, 제국의 명령, 방출의 마법봉</td>\n      <td>승리</td>\n      <td>False</td>\n    </tr>\n    <tr>\n      <th>29</th>\n      <td>마오카이</td>\n      <td>MIDDLE</td>\n      <td>2/4/12</td>\n      <td>부패 물약, 판금 장화, 가시 갑옷, 터보 화공 탱크, 심연의 가면, 루비 수정</td>\n      <td>승리</td>\n      <td>False</td>\n    </tr>\n  </tbody>\n</table>\n</div>"
     },
     "metadata": {},
     "execution_count": 32
    }
   ],
   "source": [
    "users_champion = []\n",
    "users_kda = []\n",
    "users_items = []\n",
    "users_lane = []\n",
    "users_win =[]\n",
    "for match in match_list:\n",
    "    match_info = requests.get('https://kr.api.riotgames.com/lol/match/v4/matches/' + str(match), headers=request_headers).json()\n",
    "    users_info = match_info['participantIdentities']\n",
    "    user_index = userIndex(users_info)\n",
    "    user_record = match_info['participants'][user_index]\n",
    "    user_champion = searchChampion(user_record['championId'])\n",
    "    user_kda = str(user_record['stats']['kills']) + '/' + str(user_record['stats']['deaths']) + '/' + str(user_record['stats']['assists'])\n",
    "    user_items = []\n",
    "    for i in range(6):\n",
    "        itemKey = user_record['stats']['item'+str(i)]\n",
    "        if itemKey == 0:\n",
    "            pass\n",
    "        else:\n",
    "            user_items.append(searchItem(user_record['stats']['item'+str(i)]))\n",
    "    user_items = ', '.join(user_items)\n",
    "    user_lane = user_record['timeline']['lane']\n",
    "    user_win = user_record['stats']['win']\n",
    "    if user_win == True:\n",
    "            user_win = '승리'\n",
    "    else :\n",
    "        user_win = '패배'\n",
    "    users_champion.append(user_champion)\n",
    "    users_kda.append(user_kda)\n",
    "    users_items.append(user_items)\n",
    "    users_lane.append(user_lane)\n",
    "    users_win.append(user_win)\n",
    "    \n",
    "df = pd.DataFrame({\n",
    "'champion' : users_champion,\n",
    "'lane' : users_lane,\n",
    "'kda' : users_kda,\n",
    "'result_items' : users_items,\n",
    "'result' : users_win\n",
    "})\n",
    "df['trolling'] = df.apply(lambda r : True if str(r.result_items) == '' or str(r.result_items.split(', ')[0]) == str(r.result_items.split(', ')[-1]) else False, axis=1)\n",
    "df"
   ]
  },
  {
   "cell_type": "code",
   "execution_count": null,
   "metadata": {},
   "outputs": [],
   "source": []
  }
 ]
}