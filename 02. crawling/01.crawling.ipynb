{
 "cells": [
  {
   "cell_type": "markdown",
   "metadata": {},
   "source": [
    "# Riot API로 받지 못하는 정보 OP.GG에서 크롤링하기"
   ]
  },
  {
   "cell_type": "code",
   "execution_count": 1,
   "metadata": {},
   "outputs": [],
   "source": [
    "from bs4 import BeautifulSoup\n",
    "import requests\n",
    "import pandas as pd\n",
    "import re"
   ]
  },
  {
   "cell_type": "markdown",
   "metadata": {},
   "source": [
    "### 각 라인의 탑 티어 챔피언 구하기"
   ]
  },
  {
   "cell_type": "code",
   "execution_count": 2,
   "metadata": {},
   "outputs": [],
   "source": [
    "headers = {'User-Agent':'Mozilla/5.0 (Windows NT 6.3; Win64; x64) AppleWebKit/537.36 (KHTML, like Gecko) Chrome/63.0.3239.132 Safari/537.36'}\n",
    "url = 'https://www.op.gg/champion/statistics'\n",
    "html = requests.get(url, headers = headers).text\n",
    "soup = BeautifulSoup(html, 'html.parser')"
   ]
  },
  {
   "cell_type": "markdown",
   "metadata": {},
   "source": [
    "- 필요한 함수들"
   ]
  },
  {
   "cell_type": "code",
   "execution_count": 3,
   "metadata": {},
   "outputs": [],
   "source": [
    "# 챔피언, 아이템, 스펠, 룬 데이터\n",
    "champion_df = pd.read_csv('../00. data/champions.csv', index_col = 0)\n",
    "champion_df['lower_name'] = champion_df['eng_name'].apply(lambda r : r.lower()) # OP.GG의 챔피언 찾기를 위해 소문자화\n",
    "item_df = pd.read_csv('../00. data/items.csv', index_col = 0)\n",
    "spell_df = pd.read_csv('../00. data/spell.csv', index_col = 0)\n",
    "rune_df = pd.read_csv('../00. data/runes.csv', index_col = 0)"
   ]
  },
  {
   "cell_type": "code",
   "execution_count": 4,
   "metadata": {},
   "outputs": [],
   "source": [
    "# 챔피언의 영문이름을 한글로 바꿔주는 함수\n",
    "def translation_champion(eng):\n",
    "    try :\n",
    "        if eng == 'Wukong' :\n",
    "            champion = '오공'\n",
    "        elif eng == 'Nunu &amp; Willump':\n",
    "            champion = '누누와 월럼프'\n",
    "        else :\n",
    "            eng = eng.lower().replace(' ','').replace('.','')\n",
    "            champion = champion_df['name'][champion_df['name'][champion_df['lower_name'] == eng].index[0]]\n",
    "    except:\n",
    "        champion = eng \n",
    "    return champion"
   ]
  },
  {
   "cell_type": "code",
   "execution_count": 5,
   "metadata": {},
   "outputs": [],
   "source": [
    "# 아이템키로 아이템 이름 불러오는 함수\n",
    "def searchItem(itemKey):\n",
    "    item = item_df['name'][item_df['name'][item_df['key'] == itemKey].index[0]]\n",
    "    return item "
   ]
  },
  {
   "cell_type": "code",
   "execution_count": 6,
   "metadata": {},
   "outputs": [],
   "source": [
    "# 영어이름의 스펠을 한글로 바꿔주는 함수\n",
    "def translation_spell(eng):\n",
    "    spell = spell_df['name'][spell_df['name'][spell_df['eng'] == eng].index[0]]\n",
    "    return spell"
   ]
  },
  {
   "cell_type": "code",
   "execution_count": 7,
   "metadata": {},
   "outputs": [],
   "source": [
    "# 룬키로 룬 이름 불러오는 함수\n",
    "def searchRune(runeKey):\n",
    "    rune = rune_df['name'][rune_df['name'][rune_df['key'] == runeKey].index[0]]\n",
    "    return rune"
   ]
  },
  {
   "cell_type": "code",
   "execution_count": 8,
   "metadata": {},
   "outputs": [],
   "source": [
    "# 태그 지우는 함수\n",
    "def removeTags(strings):\n",
    "    strings = re.sub('<.+?>', '', str(strings), 0).strip().replace('[','').replace(']','')\n",
    "    return strings"
   ]
  },
  {
   "cell_type": "code",
   "execution_count": 9,
   "metadata": {},
   "outputs": [],
   "source": [
    "# OP.GG 아이템이미지의 키를 구하는 함수 + 룬\n",
    "def findItem(itemLink):\n",
    "    items = re.findall(r'\\d\\d\\d\\d.png', str(itemLink))\n",
    "    items = [item.strip('.png') for item in items]\n",
    "    \n",
    "    return items"
   ]
  },
  {
   "cell_type": "code",
   "execution_count": 10,
   "metadata": {},
   "outputs": [],
   "source": [
    "# OP.GG 스킬이미지의 영문 이름을 구하는 함수\n",
    "def findSkill(link):\n",
    "    name = re.findall(r'spell/.*png', str(link))\n",
    "    name = ''.join(name).strip('spell/').strip('.png')\n",
    "    return name"
   ]
  },
  {
   "cell_type": "code",
   "execution_count": 11,
   "metadata": {},
   "outputs": [],
   "source": [
    "lanes = ['TOP', 'JUNGLE', 'MID', 'ADC', 'SUPPORT']"
   ]
  },
  {
   "cell_type": "code",
   "execution_count": 12,
   "metadata": {},
   "outputs": [
    {
     "name": "stdout",
     "output_type": "stream",
     "text": [
      "TOP의 최고티어 챔피언: 피오라, 카밀, 세트, 아트록스, 뽀삐, 이렐리아, 말파이트, 탐 켄치, 트린다미어, 오공\n",
      "JUNGLE의 최고티어 챔피언: 자르반 4세, 리 신, 탈론, 탈리야, 니달리, 그레이브즈, 렉사이, 에코, 피들스틱, 킨드레드\n",
      "MID의 최고티어 챔피언: 탈론, 르블랑, 카타리나, 아크샨, 벡스, 제드, 애니비아, 야스오, 신지드, 요네\n",
      "ADC의 최고티어 챔피언: 미스 포츈, 베인, 직스, 이즈리얼, 사미라, 애쉬, 루시안, 진, 드레이븐, 카이사\n",
      "SUPPORT의 최고티어 챔피언: 아무무, 블리츠크랭크, 레오나, 룰루, 쓰레쉬, 마오카이, 제라스, 파이크, 소라카, 노틸러스\n"
     ]
    }
   ],
   "source": [
    "for lane in lanes:\n",
    "    top10 = soup.find(attrs={'class':f'tabItem champion-trend-tier-{lane}'}).select('.champion-index-table__name')[:10] # 10개만 가져오기\n",
    "    top10 = removeTags(top10).replace(\"'\",'')\n",
    "    top10 = top10.split(', ')\n",
    "    kor_champions = [translation_champion(champ) for champ in top10]\n",
    "    kor_champions = ', '.join(kor_champions)\n",
    "    print(f'{lane}의 최고티어 챔피언:',kor_champions)"
   ]
  },
  {
   "cell_type": "markdown",
   "metadata": {},
   "source": [
    "### 원하는 챔피언의 기록 가져오기"
   ]
  },
  {
   "cell_type": "code",
   "execution_count": 13,
   "metadata": {},
   "outputs": [],
   "source": [
    "# 샘플은 탑라인의 이렐리아\n",
    "lane = 'top'\n",
    "champion ='irelia'\n",
    "url = f'https://www.op.gg/champion/{champion}/statistics/{lane}'\n",
    "html = requests.get(url, headers = headers).text\n",
    "soup = BeautifulSoup(html, 'html.parser')"
   ]
  },
  {
   "cell_type": "code",
   "execution_count": 14,
   "metadata": {},
   "outputs": [
    {
     "name": "stdout",
     "output_type": "stream",
     "text": [
      "승률 순위: 47/55 픽률 순위: 2/55\n"
     ]
    }
   ],
   "source": [
    "win_rank = soup.select('.champion-stats-trend-rank')[0].find('b').text + soup.select('.champion-stats-trend-rank')[0].find('span').text\n",
    "pick_rank = soup.select('.champion-stats-trend-rank')[1].find('b').text + soup.select('.champion-stats-trend-rank')[1].find('span').text\n",
    "print('승률 순위:', win_rank, '픽률 순위:', pick_rank)"
   ]
  },
  {
   "cell_type": "markdown",
   "metadata": {},
   "source": [
    "### 원하는 챔피언의 추천 세팅 "
   ]
  },
  {
   "cell_type": "markdown",
   "metadata": {},
   "source": [
    "- 스펠 , 스킬트리, 아이템 트리"
   ]
  },
  {
   "cell_type": "code",
   "execution_count": 15,
   "metadata": {},
   "outputs": [
    {
     "name": "stdout",
     "output_type": "stream",
     "text": [
      "추천 스펠 : 점멸 순간이동  | 픽률 : 77.72% 총표본 수 : 30,495 승률 : 48.2%\n",
      "추천 스펠 : 점멸 점화  | 픽률 : 21.08% 총표본 수 : 8,272 승률 : 49.36%\n",
      "스킬 트리:  Q -> W -> E  | 픽률: 41.55% 총표본 수 : 7,436 승률: 62.31%\n",
      "시작아이템 :도란의 검, 체력 물약 | 픽률 : 82.78% 총표본 수 : 31,655 승률 : 49.13%\n",
      "시작아이템 :부패 물약 | 픽률 : 8.87% 총표본 수 : 3,391 승률 : 44.88%\n",
      "추천 빌드 :몰락한 왕의 검, 선혈포식자, 스테락의 도전 | 픽률 : 30.5% 총표본 수 : 5,040 승률 : 60.93%\n",
      "추천 빌드 :몰락한 왕의 검, 불멸의 철갑궁, 구인수의 격노검 | 픽률 : 10.97% 총표본 수 : 1,812 승률 : 64.02%\n",
      "추천 빌드 :몰락한 왕의 검, 불멸의 철갑궁, 마법사의 최후 | 픽률 : 8.23% 총표본 수 : 1,360 승률 : 63.01%\n",
      "추천 빌드 :몰락한 왕의 검, 선혈포식자, 마법사의 최후 | 픽률 : 6.94% 총표본 수 : 1,146 승률 : 59.77%\n",
      "추천 빌드 :몰락한 왕의 검, 불멸의 철갑궁, 죽음의 무도 | 픽률 : 6.94% 총표본 수 : 1,146 승률 : 62.04%\n",
      "신발 :판금 장화 | 픽률 : 68.66% 총표본 수 : 24,125 승률 : 49.91%\n",
      "신발 :헤르메스의 발걸음 | 픽률 : 29.2% 총표본 수 : 10,261 승률 : 53.12%\n",
      "신발 :명석함의 아이오니아 장화 | 픽률 : 1.37% 총표본 수 : 481 승률 : 67.36%\n"
     ]
    }
   ],
   "source": [
    "for i in range(2):\n",
    "    tmp = soup.select('ul.champion-stats__list')[i].find_all('img')[0] \n",
    "    tmp2 = soup.select('ul.champion-stats__list')[i].find_all('img')[1]\n",
    "    pickRate = soup.select('.champion-overview__stats.champion-overview__stats--pick')[i].find('strong').text\n",
    "    pickTotal = soup.select('.champion-overview__stats.champion-overview__stats--pick')[i].find('span').text\n",
    "    winRate = soup.select('.champion-overview__stats.champion-overview__stats--win')[i].find('strong').text\n",
    "    print('추천 스펠 : '+ translation_spell(findSkill(tmp)), translation_spell(findSkill(tmp2)), ' | 픽률 : '+ pickRate, '총표본 수 : ' + pickTotal, '승률 : '+ winRate)\n",
    "skillSeq = []\n",
    "for i in range(3):\n",
    "    skill = findSkill(soup.select('ul.champion-stats__list')[2].find_all('img')[i*2])\n",
    "    skillSeq.append(skill.lower().split(champion)[1])\n",
    "pickRate = soup.select('.champion-overview__stats.champion-overview__stats--pick')[2].find('strong').text\n",
    "pickTotal = soup.select('.champion-overview__stats.champion-overview__stats--pick')[2].find('span').text\n",
    "winRate = soup.select('.champion-overview__stats.champion-overview__stats--win')[2].find('strong').text\n",
    "print('스킬 트리: ',' -> '.join(skillSeq).upper(),' | 픽률:', pickRate, '총표본 수 : ' + pickTotal, '승률:', winRate)    \n",
    "for i in range(10):\n",
    "    tmp = soup.select('td.champion-overview__data.champion-overview__border.champion-overview__border--first')[i].find_all('img')\n",
    "    keys = findItem(tmp)\n",
    "    items = [searchItem(int(key)) for key in keys]\n",
    "    items = ', '.join(items)\n",
    "    pickRate = soup.select('.champion-overview__stats.champion-overview__stats--pick.champion-overview__border')[i].find('strong').text\n",
    "    pickTotal = soup.select('.champion-overview__stats.champion-overview__stats--pick.champion-overview__border')[i].find('span').text\n",
    "    winRate = soup.select('.champion-overview__stats.champion-overview__stats--win.champion-overview__border')[i].find('strong').text\n",
    "    if i < 2:\n",
    "        msg = '시작아이템 :'\n",
    "    elif i >= 2 and i < 7:\n",
    "        msg = '추천 빌드 :'\n",
    "    else:\n",
    "        msg = '신발 :'\n",
    "    print(msg + items, '| 픽률 : '+ pickRate,'총표본 수 : ' + pickTotal, '승률 : '+ winRate)"
   ]
  },
  {
   "cell_type": "markdown",
   "metadata": {},
   "source": [
    "- 룬"
   ]
  },
  {
   "cell_type": "code",
   "execution_count": 16,
   "metadata": {},
   "outputs": [],
   "source": [
    "mainRune = {'Precision' : '정밀', 'Domination' : '지배', 'Sorcery' : '마법', 'Resolve' : '결의', 'Inspiration' : '영감'}"
   ]
  },
  {
   "cell_type": "code",
   "execution_count": 17,
   "metadata": {},
   "outputs": [
    {
     "name": "stdout",
     "output_type": "stream",
     "text": [
      "정밀 + 결의 | 픽률 : 81.37% 승률 : 48.44%\n",
      "추천룬 | 픽률 : 25.18% 승률 : 47.06% 총 표본수 : 9,878\n",
      "정밀\n",
      "정복자\n",
      "승전보\n",
      "전설: 민첩함\n",
      "최후의 저항\n",
      "결의\n",
      "뼈 방패\n",
      "소생\n",
      "공격속도 + 10%\n",
      "적응형 능력치 + 9\n",
      "방어력 + 9\n",
      "추천룬 | 픽률 : 10.36% 승률 : 49.77% 총 표본수 : 4,063\n",
      "정밀\n",
      "정복자\n",
      "승전보\n",
      "전설: 민첩함\n",
      "최후의 저항\n",
      "결의\n",
      "뼈 방패\n",
      "불굴의 의지\n",
      "공격속도 + 10%\n",
      "적응형 능력치 + 9\n",
      "방어력 + 9\n"
     ]
    }
   ],
   "source": [
    "# 첫번째 추천룬\n",
    "total_info = soup.select_one('.tabItem.ChampionKeystoneRune-1')\n",
    "rate_info = total_info.select('.champion-overview__stats.champion-overview__stats--pick')\n",
    "rec_runes = soup.select('.champion-stats-summary-rune__name')\n",
    "rune_info = soup.select('.champion-stats-summary-rune__rate')\n",
    "eng_rune = rec_runes[0].text.split(' + ')\n",
    "kor_rune = mainRune[eng_rune[0]] + ' + ' + mainRune[eng_rune[1]]\n",
    "pickRate = rune_info[0].find('strong').text\n",
    "winRate = rune_info[0].find_all('span')[-1].text\n",
    "print(kor_rune, '| 픽률 : ' + pickRate, '승률 : ' + winRate)\n",
    "for i in range(2): \n",
    "    pickRate = rate_info[i].find('strong').text\n",
    "    winRate= rate_info[i].find_all('strong')[-1].text\n",
    "    pickTotal = rate_info[i].find_all('span')[1].text\n",
    "    print('추천룬 | 픽률 : ' + pickRate, '승률 : ' + winRate, '총 표본수 : ' + pickTotal)\n",
    "    for k in range(33):\n",
    "        if i == 1:\n",
    "            k += 33\n",
    "        link = total_info.find_all('img')[k].attrs['src']\n",
    "        if 'e_grayscale' in str(link):\n",
    "            pass\n",
    "        else:\n",
    "            print(searchRune(int(''.join(findItem(link)))))"
   ]
  },
  {
   "cell_type": "code",
   "execution_count": 18,
   "metadata": {
    "tags": []
   },
   "outputs": [
    {
     "name": "stdout",
     "output_type": "stream",
     "text": [
      "정밀 + 영감 | 픽률 : 13.21% 승률 : 49.19%\n",
      "추천룬 | 픽률 : 2% 승률 : 46.69% 총 표본수 : 786\n",
      "정밀\n",
      "정복자\n",
      "승전보\n",
      "전설: 민첩함\n",
      "최후의 저항\n",
      "영감\n",
      "비스킷 배달\n",
      "시간 왜곡 물약\n",
      "공격속도 + 10%\n",
      "적응형 능력치 + 9\n",
      "방어력 + 9\n",
      "추천룬 | 픽률 : 1.33% 승률 : 52.58% 총 표본수 : 523\n",
      "정밀\n",
      "정복자\n",
      "승전보\n",
      "전설: 민첩함\n",
      "최후의 저항\n",
      "영감\n",
      "비스킷 배달\n",
      "우주적 통찰력\n",
      "공격속도 + 10%\n",
      "적응형 능력치 + 9\n",
      "방어력 + 9\n"
     ]
    }
   ],
   "source": [
    "# 두번째 추천 룬\n",
    "rate_info = soup.select_one('.ChampionKeystoneRune-2').select('.champion-overview__stats.champion-overview__stats--pick')\n",
    "eng_rune = rec_runes[1].text.split(' + ')\n",
    "kor_rune = mainRune[eng_rune[0]] + ' + ' + mainRune[eng_rune[1]]\n",
    "pickRate = rune_info[1].find('strong').text\n",
    "winRate = rune_info[1].find_all('span')[-1].text\n",
    "print(kor_rune, '| 픽률 : ' + pickRate, '승률 : ' + winRate)\n",
    "for i in range(2):\n",
    "    pickRate = rate_info[i].find('strong').text\n",
    "    winRate= rate_info[i].find_all('strong')[-1].text\n",
    "    pickTotal = rate_info[i].find_all('span')[1].text\n",
    "    print('추천룬 | 픽률 : ' + pickRate, '승률 : ' + winRate, '총 표본수 : ' + pickTotal)\n",
    "    for k in range(33):\n",
    "        if i == 1:\n",
    "                k += 33\n",
    "        link = soup.select_one('.ChampionKeystoneRune-2').find_all('img')[k].attrs['src']\n",
    "        if 'e_grayscale' in str(link):\n",
    "            pass\n",
    "        else:\n",
    "            print(searchRune(int(''.join(findItem(link)))))"
   ]
  },
  {
   "cell_type": "markdown",
   "metadata": {},
   "source": [
    "### 매치업"
   ]
  },
  {
   "cell_type": "code",
   "execution_count": 19,
   "metadata": {},
   "outputs": [],
   "source": [
    "url = f'https://www.op.gg/champion/{champion}/statistics/{lane}/matchup'\n",
    "html = requests.get(url, headers = headers).text\n",
    "soup = BeautifulSoup(html, 'html.parser')"
   ]
  },
  {
   "cell_type": "code",
   "execution_count": 20,
   "metadata": {},
   "outputs": [
    {
     "name": "stdout",
     "output_type": "stream",
     "text": [
      "이렐리아 vs 세트 상대승률 : 47.46%\n",
      "통계량: 13,451 통계 비율 7.54%\n",
      "이렐리아 vs 피오라 상대승률 : 46.54%\n",
      "통계량: 11,911 통계 비율 6.68%\n",
      "이렐리아 vs 아트록스 상대승률 : 52.74%\n",
      "통계량: 8,007 통계 비율 4.49%\n",
      "이렐리아 vs 카밀 상대승률 : 50.29%\n",
      "통계량: 7,753 통계 비율 4.35%\n",
      "이렐리아 vs 사일러스 상대승률 : 52.12%\n",
      "통계량: 6,535 통계 비율 3.66%\n",
      "이렐리아 vs 말파이트 상대승률 : 49.41%\n",
      "통계량: 6,134 통계 비율 3.44%\n",
      "이렐리아 vs 리븐 상대승률 : 48.22%\n",
      "통계량: 5,987 통계 비율 3.36%\n",
      "이렐리아 vs 다리우스 상대승률 : 51.73%\n",
      "통계량: 5,908 통계 비율 3.31%\n",
      "이렐리아 vs 잭스 상대승률 : 46.44%\n",
      "통계량: 5,470 통계 비율 3.07%\n",
      "이렐리아 vs 릴리아 상대승률 : 53%\n",
      "통계량: 5,208 통계 비율 2.92%\n",
      "이렐리아 vs 제이스 상대승률 : 56.7%\n",
      "통계량: 5,146 통계 비율 2.88%\n",
      "이렐리아 vs 가렌 상대승률 : 46.48%\n",
      "통계량: 4,989 통계 비율 2.80%\n",
      "이렐리아 vs 베인 상대승률 : 50.3%\n",
      "통계량: 4,674 통계 비율 2.62%\n",
      "이렐리아 vs 케넨 상대승률 : 53.67%\n",
      "통계량: 4,654 통계 비율 2.61%\n",
      "이렐리아 vs 트린다미어 상대승률 : 49.23%\n",
      "통계량: 4,625 통계 비율 2.59%\n",
      "이렐리아 vs 요네 상대승률 : 53.74%\n",
      "통계량: 4,075 통계 비율 2.28%\n",
      "이렐리아 vs 탐 켄치 상대승률 : 46.75%\n",
      "통계량: 3,929 통계 비율 2.20%\n",
      "이렐리아 vs 쉔 상대승률 : 47.38%\n",
      "통계량: 3,702 통계 비율 2.07%\n",
      "이렐리아 vs 티모 상대승률 : 50.41%\n",
      "통계량: 3,509 통계 비율 1.97%\n",
      "이렐리아 vs 모데카이저 상대승률 : 49.67%\n",
      "통계량: 3,179 통계 비율 1.78%\n",
      "이렐리아 vs 아칼리 상대승률 : 53.58%\n",
      "통계량: 3,173 통계 비율 1.78%\n",
      "이렐리아 vs 오른 상대승률 : 48.63%\n",
      "통계량: 3,002 통계 비율 1.68%\n",
      "이렐리아 vs 뽀삐 상대승률 : 46.49%\n",
      "통계량: 2,809 통계 비율 1.57%\n",
      "이렐리아 vs 레넥톤 상대승률 : 52.71%\n",
      "통계량: 2,453 통계 비율 1.37%\n",
      "이렐리아 vs 오공 상대승률 : 45.9%\n",
      "통계량: 2,427 통계 비율 1.36%\n",
      "이렐리아 vs 야스오 상대승률 : 50%\n",
      "통계량: 2,400 통계 비율 1.35%\n",
      "이렐리아 vs 트런들 상대승률 : 48.48%\n",
      "통계량: 2,370 통계 비율 1.33%\n",
      "이렐리아 vs 나르 상대승률 : 54.37%\n",
      "통계량: 2,036 통계 비율 1.14%\n",
      "이렐리아 vs 나서스 상대승률 : 47.32%\n",
      "통계량: 2,018 통계 비율 1.13%\n",
      "이렐리아 vs 그웬 상대승률 : 52.98%\n",
      "통계량: 1,944 통계 비율 1.09%\n",
      "이렐리아 vs 갱플랭크 상대승률 : 54.41%\n",
      "통계량: 1,937 통계 비율 1.09%\n",
      "이렐리아 vs 볼리베어 상대승률 : 48.41%\n",
      "통계량: 1,822 통계 비율 1.02%\n",
      "이렐리아 vs 일라오이 상대승률 : 51.58%\n",
      "통계량: 1,679 통계 비율 0.94%\n",
      "이렐리아 vs 라이즈 상대승률 : 59.94%\n",
      "통계량: 1,670 통계 비율 0.94%\n",
      "이렐리아 vs 클레드 상대승률 : 48.15%\n",
      "통계량: 1,564 통계 비율 0.88%\n",
      "이렐리아 vs 신지드 상대승률 : 47.6%\n",
      "통계량: 1,498 통계 비율 0.84%\n",
      "이렐리아 vs 워윅 상대승률 : 44.91%\n",
      "통계량: 1,494 통계 비율 0.84%\n",
      "이렐리아 vs 우르곳 상대승률 : 49.77%\n",
      "통계량: 1,318 통계 비율 0.74%\n",
      "이렐리아 vs 케일 상대승률 : 53.44%\n",
      "통계량: 1,119 통계 비율 0.63%\n",
      "이렐리아 vs 퀸 상대승률 : 50.58%\n",
      "통계량: 1,113 통계 비율 0.62%\n",
      "이렐리아 vs 렝가 상대승률 : 50.98%\n",
      "통계량: 965 통계 비율 0.54%\n",
      "이렐리아 vs 문도 박사 상대승률 : 52.54%\n",
      "통계량: 963 통계 비율 0.54%\n",
      "이렐리아 vs 마오카이 상대승률 : 49.16%\n",
      "통계량: 950 통계 비율 0.53%\n",
      "이렐리아 vs 블라디미르 상대승률 : 54.05%\n",
      "통계량: 803 통계 비율 0.45%\n",
      "이렐리아 vs 하이머딩거 상대승률 : 56.24%\n",
      "통계량: 761 통계 비율 0.43%\n",
      "이렐리아 vs 요릭 상대승률 : 57.62%\n",
      "통계량: 715 통계 비율 0.40%\n",
      "이렐리아 vs 아크샨 상대승률 : 54.72%\n",
      "통계량: 709 통계 비율 0.40%\n",
      "이렐리아 vs 사이온 상대승률 : 50.57%\n",
      "통계량: 696 통계 비율 0.39%\n",
      "이렐리아 vs cho'gath 상대승률 : 51.52%\n",
      "통계량: 691 통계 비율 0.39%\n",
      "이렐리아 vs 판테온 상대승률 : 51.38%\n",
      "통계량: 687 통계 비율 0.39%\n"
     ]
    }
   ],
   "source": [
    "for i in range(50):\n",
    "    champ = soup.select('.champion-matchup-list__champion')[i].find('span').text\n",
    "    winRate = soup.select('.champion-matchup-list__champion')[i].find_all('span')[1].string\n",
    "    winRate = [item.strip() for item in winRate if str(item)]\n",
    "    winRate = ''.join(winRate)\n",
    "    play_rate = soup.select('.champion-matchup-list__totalplayed')[i].find('span').text\n",
    "    play_num = soup.select('.champion-matchup-list__totalplayed')[i].find('small').text\n",
    "    print(f'{translation_champion(champion)} vs {translation_champion(champ)} 상대승률 :',winRate)\n",
    "    print(f'통계량: {play_num} 통계 비율 {play_rate}')"
   ]
  },
  {
   "cell_type": "code",
   "execution_count": null,
   "metadata": {},
   "outputs": [],
   "source": []
  }
 ],
 "metadata": {
  "interpreter": {
   "hash": "aa83fc8303128615b1abe691064b0065fe178ce594ae448a9e882ceda0a279cb"
  },
  "kernelspec": {
   "display_name": "Python 3.8.5 64-bit ('base': conda)",
   "name": "python3"
  },
  "language_info": {
   "codemirror_mode": {
    "name": "ipython",
    "version": 3
   },
   "file_extension": ".py",
   "mimetype": "text/x-python",
   "name": "python",
   "nbconvert_exporter": "python",
   "pygments_lexer": "ipython3",
   "version": "3.8.5"
  },
  "orig_nbformat": 4
 },
 "nbformat": 4,
 "nbformat_minor": 2
}
