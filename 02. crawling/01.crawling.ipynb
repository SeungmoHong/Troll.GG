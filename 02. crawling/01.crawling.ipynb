{
 "metadata": {
  "language_info": {
   "codemirror_mode": {
    "name": "ipython",
    "version": 3
   },
   "file_extension": ".py",
   "mimetype": "text/x-python",
   "name": "python",
   "nbconvert_exporter": "python",
   "pygments_lexer": "ipython3",
   "version": "3.8.5"
  },
  "orig_nbformat": 4,
  "kernelspec": {
   "name": "python3",
   "display_name": "Python 3.8.5 64-bit ('base': conda)"
  },
  "interpreter": {
   "hash": "c0d5580a4e4b3d156e9f2f74585f52a17152e2e761e06671a15aac4fe32d0ddb"
  }
 },
 "nbformat": 4,
 "nbformat_minor": 2,
 "cells": [
  {
   "source": [
    "# Riot API로 받지 못하는 정보 OP.GG에서 크롤링하기"
   ],
   "cell_type": "markdown",
   "metadata": {}
  },
  {
   "cell_type": "code",
   "execution_count": 1,
   "metadata": {},
   "outputs": [],
   "source": [
    "from bs4 import BeautifulSoup\n",
    "import requests\n",
    "import pandas as pd\n",
    "import re"
   ]
  },
  {
   "source": [
    "### 각 라인의 탑 티어 챔피언 구하기"
   ],
   "cell_type": "markdown",
   "metadata": {}
  },
  {
   "cell_type": "code",
   "execution_count": 2,
   "metadata": {},
   "outputs": [],
   "source": [
    "url = 'https://www.op.gg/champion/statistics'\n",
    "html = requests.get(url).text\n",
    "soup = BeautifulSoup(html, 'html.parser')"
   ]
  },
  {
   "cell_type": "code",
   "execution_count": 90,
   "metadata": {},
   "outputs": [],
   "source": [
    "item_df = pd.read_csv('../00. data/items.csv', index_col = 0)\n",
    "spell_df = pd.read_csv('../00. data/spell.csv', index_col = 0)"
   ]
  },
  {
   "cell_type": "code",
   "execution_count": 72,
   "metadata": {},
   "outputs": [],
   "source": [
    "# 아이템키로 아이템 이름 불러오는 함수\n",
    "def searchItem(itemKey):\n",
    "    item = item_df['name'][item_df['name'][item_df['key'] == itemKey].index[0]]\n",
    "    return item "
   ]
  },
  {
   "cell_type": "code",
   "execution_count": 93,
   "metadata": {},
   "outputs": [],
   "source": [
    "# 영어이름의 스펠을 한글로 바꿔주는 함수\n",
    "def translation_spell(eng):\n",
    "    spell = spell_df['name'][spell_df['name'][spell_df['eng'] == eng].index[0]]"
   ]
  },
  {
   "cell_type": "code",
   "execution_count": 3,
   "metadata": {},
   "outputs": [],
   "source": [
    "# 태그 지우는 함수\n",
    "def removeTags(strings):\n",
    "    strings = re.sub('<.+?>', '', str(strings), 0).strip().replace(\"'\",'')\n",
    "    return strings"
   ]
  },
  {
   "cell_type": "code",
   "execution_count": 77,
   "metadata": {},
   "outputs": [],
   "source": [
    "# OP.GG 아이템이미지의 키를 구하는 함수\n",
    "def findItem(itemLink):\n",
    "    items = re.findall(r'\\d\\d\\d\\d.png', str(itemLink))\n",
    "    items = [item.strip('.png') for item in items]\n",
    "    \n",
    "    return items"
   ]
  },
  {
   "cell_type": "code",
   "execution_count": 4,
   "metadata": {},
   "outputs": [],
   "source": [
    "lanes = ['TOP', 'JUNGLE', 'MID', 'ADC', 'SUPPORT']"
   ]
  },
  {
   "cell_type": "code",
   "execution_count": 5,
   "metadata": {},
   "outputs": [
    {
     "output_type": "stream",
     "name": "stdout",
     "text": [
      "TOP의 최고티어 챔피언: [Irelia, Camille, Fiora, Sett, Sylas, Jax, Wukong, Aatrox, Viego, Shen]\nJUNGLE의 최고티어 챔피언: [Lee Sin, Xin Zhao, Elise, Karthus, Viego, Nocturne, Kindred, RekSai, Shaco, Fiddlesticks]\nMID의 최고티어 챔피언: [Katarina, Talon, LeBlanc, Zed, Anivia, Sylas, Yasuo, Viego, Aurelion Sol, Galio]\nADC의 최고티어 챔피언: [Ezreal, Ziggs, Vayne, Samira, KogMaw, Ashe, Jinx, Swain, KaiSa, Jhin]\nSUPPORT의 최고티어 챔피언: [Leona, Lulu, Thresh, Senna, Xerath, Maokai, Nautilus, Blitzcrank, Karma, Shaco]\n"
     ]
    }
   ],
   "source": [
    "for lane in lanes:\n",
    "    top5 = soup.find(attrs={'class':f'tabItem champion-trend-tier-{lane}'}).select('.champion-index-table__name')[:10] # 10개만 가져오기\n",
    "    print(f'{lane}의 최고티어 챔피언:',removeTags(top5))"
   ]
  },
  {
   "source": [
    "### 원하는 챔피언의 기록 가져오기"
   ],
   "cell_type": "markdown",
   "metadata": {}
  },
  {
   "cell_type": "code",
   "execution_count": 6,
   "metadata": {},
   "outputs": [],
   "source": [
    "# 샘플은 탑라인의 이렐리아\n",
    "lane = 'top'\n",
    "champion ='irelia'\n",
    "url = f'https://www.op.gg/champion/{champion}/statistics/{lane}'\n",
    "html = requests.get(url).text\n",
    "soup = BeautifulSoup(html, 'html.parser')"
   ]
  },
  {
   "cell_type": "code",
   "execution_count": 7,
   "metadata": {},
   "outputs": [
    {
     "output_type": "stream",
     "name": "stdout",
     "text": [
      "승률 순위: 20/55 픽률 순위: 1/55\n"
     ]
    }
   ],
   "source": [
    "win_rank = soup.select('.champion-stats-trend-rank')[0].find('b').text + soup.select('.champion-stats-trend-rank')[0].find('span').text\n",
    "pick_rank = soup.select('.champion-stats-trend-rank')[1].find('b').text + soup.select('.champion-stats-trend-rank')[1].find('span').text\n",
    "print('승률 순위:', win_rank, '픽률 순위:', pick_rank)"
   ]
  },
  {
   "source": [
    "### 원하는 챔피언의 추천 세팅 "
   ],
   "cell_type": "markdown",
   "metadata": {}
  },
  {
   "cell_type": "code",
   "execution_count": 89,
   "metadata": {},
   "outputs": [
    {
     "output_type": "stream",
     "name": "stdout",
     "text": [
      "시작아이템 :도란의 검, 체력 물약\n시작아이템 :부패 물약\n추천 빌드 :몰락한 왕의 검, 불멸의 철갑궁, 구인수의 격노검\n추천 빌드 :몰락한 왕의 검, 불멸의 철갑궁, 마법사의 최후\n추천 빌드 :몰락한 왕의 검, 신성한 파괴자, 스테락의 도전\n추천 빌드 :몰락한 왕의 검, 선혈포식자, 스테락의 도전\n추천 빌드 :몰락한 왕의 검, 불멸의 철갑궁, 죽음의 무도\n신발 :판금 장화\n신발 :헤르메스의 발걸음\n신발 :명석함의 아이오니아 장화\n"
     ]
    }
   ],
   "source": [
    "for i in range(10):\n",
    "    tmp = soup.select('td.champion-overview__data.champion-overview__border.champion-overview__border--first')[i].find_all('img')\n",
    "    keys = findItem(tmp)\n",
    "    items = [searchItem(int(key)) for key in keys]\n",
    "    items = ', '.join(items)\n",
    "    if i < 2:\n",
    "        msg = '시작아이템 :'\n",
    "    elif i >= 2 and i < 7:\n",
    "        msg = '추천 빌드 :'\n",
    "    else:\n",
    "        msg = '신발 :'\n",
    "    print(msg + items)\n",
    "        "
   ]
  },
  {
   "source": [
    "### 매치업"
   ],
   "cell_type": "markdown",
   "metadata": {}
  },
  {
   "cell_type": "code",
   "execution_count": 171,
   "metadata": {},
   "outputs": [],
   "source": [
    "url = f'https://www.op.gg/champion/{champion}/statistics/{lane}/matchup'\n",
    "html = requests.get(url).text\n",
    "soup = BeautifulSoup(html, 'html.parser')"
   ]
  },
  {
   "cell_type": "code",
   "execution_count": 170,
   "metadata": {},
   "outputs": [
    {
     "output_type": "stream",
     "name": "stdout",
     "text": [
      "irelia vs Sett 상대승률 : 49.91%\n",
      "통계량: 13,177 통계 비율 7.94%\n",
      "irelia vs Fiora 상대승률 : 49.18%\n",
      "통계량: 10,612 통계 비율 6.39%\n",
      "irelia vs Sylas 상대승률 : 51.3%\n",
      "통계량: 9,532 통계 비율 5.74%\n",
      "irelia vs Camille 상대승률 : 50.31%\n",
      "통계량: 6,611 통계 비율 3.98%\n",
      "irelia vs Renekton 상대승률 : 52.46%\n",
      "통계량: 6,184 통계 비율 3.72%\n",
      "irelia vs Malphite 상대승률 : 51.19%\n",
      "통계량: 5,956 통계 비율 3.59%\n",
      "irelia vs Jax 상대승률 : 48.89%\n",
      "통계량: 5,835 통계 비율 3.51%\n",
      "irelia vs Gwen 상대승률 : 54.13%\n",
      "통계량: 5,792 통계 비율 3.49%\n",
      "irelia vs Aatrox 상대승률 : 54.17%\n",
      "통계량: 5,773 통계 비율 3.48%\n",
      "irelia vs Garen 상대승률 : 48.16%\n",
      "통계량: 5,224 통계 비율 3.15%\n",
      "irelia vs Jayce 상대승률 : 56.68%\n",
      "통계량: 4,522 통계 비율 2.72%\n",
      "irelia vs Darius 상대승률 : 52.97%\n",
      "통계량: 4,489 통계 비율 2.70%\n",
      "irelia vs Riven 상대승률 : 48.95%\n",
      "통계량: 4,202 통계 비율 2.53%\n",
      "irelia vs Akali 상대승률 : 56.17%\n",
      "통계량: 4,011 통계 비율 2.42%\n",
      "irelia vs Wukong 상대승률 : 48.17%\n",
      "통계량: 3,471 통계 비율 2.09%\n",
      "irelia vs Shen 상대승률 : 49%\n",
      "통계량: 3,284 통계 비율 1.98%\n",
      "irelia vs Viego 상대승률 : 53.18%\n",
      "통계량: 3,189 통계 비율 1.92%\n",
      "irelia vs Ornn 상대승률 : 50.25%\n",
      "통계량: 3,146 통계 비율 1.89%\n",
      "irelia vs Volibear 상대승률 : 51.49%\n",
      "통계량: 3,051 통계 비율 1.84%\n",
      "irelia vs Vayne 상대승률 : 52.25%\n",
      "통계량: 2,913 통계 비율 1.75%\n",
      "irelia vs Tahm Kench 상대승률 : 47.35%\n",
      "통계량: 2,864 통계 비율 1.72%\n",
      "irelia vs Mordekaiser 상대승률 : 52.85%\n",
      "통계량: 2,810 통계 비율 1.69%\n",
      "irelia vs Teemo 상대승률 : 52.58%\n",
      "통계량: 2,790 통계 비율 1.68%\n",
      "irelia vs Dr. Mundo 상대승률 : 54.17%\n",
      "통계량: 2,734 통계 비율 1.65%\n",
      "irelia vs Lee Sin 상대승률 : 54.93%\n",
      "통계량: 2,452 통계 비율 1.48%\n",
      "irelia vs Gnar 상대승률 : 56.34%\n",
      "통계량: 2,396 통계 비율 1.44%\n",
      "irelia vs Nasus 상대승률 : 50.63%\n",
      "통계량: 2,062 통계 비율 1.24%\n",
      "irelia vs Tryndamere 상대승률 : 50.46%\n",
      "통계량: 1,855 통계 비율 1.12%\n",
      "irelia vs Trundle 상대승률 : 50.2%\n",
      "통계량: 1,753 통계 비율 1.06%\n",
      "irelia vs Kled 상대승률 : 47.21%\n",
      "통계량: 1,741 통계 비율 1.05%\n"
     ]
    }
   ],
   "source": [
    "for i in range(30):\n",
    "    champ = soup.select('.champion-matchup-list__champion')[i].find('span').text\n",
    "    winRate = soup.select('.champion-matchup-list__champion')[i].find_all('span')[1].string\n",
    "    winRate = [item.strip() for item in winRate if str(item)]\n",
    "    winRate = ''.join(winRate)\n",
    "    play_rate = soup.select('.champion-matchup-list__totalplayed')[i].find('span').text\n",
    "    play_num = soup.select('.champion-matchup-list__totalplayed')[i].find('small').text\n",
    "    print(f'{champion} vs {champ} 상대승률 :',winRate)\n",
    "    print(f'통계량: {play_num} 통계 비율 {play_rate}')"
   ]
  },
  {
   "cell_type": "code",
   "execution_count": null,
   "metadata": {},
   "outputs": [],
   "source": []
  }
 ]
}