{
 "metadata": {
  "language_info": {
   "codemirror_mode": {
    "name": "ipython",
    "version": 3
   },
   "file_extension": ".py",
   "mimetype": "text/x-python",
   "name": "python",
   "nbconvert_exporter": "python",
   "pygments_lexer": "ipython3",
   "version": "3.8.5"
  },
  "orig_nbformat": 4,
  "kernelspec": {
   "name": "python3",
   "display_name": "Python 3.8.5 64-bit ('base': conda)"
  },
  "interpreter": {
   "hash": "c0d5580a4e4b3d156e9f2f74585f52a17152e2e761e06671a15aac4fe32d0ddb"
  }
 },
 "nbformat": 4,
 "nbformat_minor": 2,
 "cells": [
  {
   "source": [
    "# Riot API로 받지 못하는 정보 OP.GG에서 크롤링하기"
   ],
   "cell_type": "markdown",
   "metadata": {}
  },
  {
   "cell_type": "code",
   "execution_count": 21,
   "metadata": {},
   "outputs": [],
   "source": [
    "from bs4 import BeautifulSoup\n",
    "import requests\n",
    "import pandas as pd\n",
    "import re"
   ]
  },
  {
   "source": [
    "### 각 라인의 탑 티어 챔피언 구하기"
   ],
   "cell_type": "markdown",
   "metadata": {}
  },
  {
   "cell_type": "code",
   "execution_count": 22,
   "metadata": {},
   "outputs": [],
   "source": [
    "url = 'https://www.op.gg/champion/statistics'\n",
    "html = requests.get(url).text\n",
    "soup = BeautifulSoup(html, 'html.parser')"
   ]
  },
  {
   "source": [
    "- 필요한 함수들"
   ],
   "cell_type": "markdown",
   "metadata": {}
  },
  {
   "cell_type": "code",
   "execution_count": 23,
   "metadata": {},
   "outputs": [],
   "source": [
    "# 챔피언, 아이템, 스펠, 룬 데이터\n",
    "champion_df = pd.read_csv('../00. data/champions.csv', index_col = 0)\n",
    "champion_df['lower_name'] = champion_df['eng_name'].apply(lambda r : r.lower()) # OP.GG의 챔피언 찾기를 위해 소문자화\n",
    "item_df = pd.read_csv('../00. data/items.csv', index_col = 0)\n",
    "spell_df = pd.read_csv('../00. data/spell.csv', index_col = 0)\n",
    "rune_df = pd.read_csv('../00. data/runes.csv', index_col = 0)"
   ]
  },
  {
   "cell_type": "code",
   "execution_count": 24,
   "metadata": {},
   "outputs": [],
   "source": [
    "# 챔피언의 영문이름을 한글로 바꿔주는 함수\n",
    "def translation_champion(eng):\n",
    "    try :\n",
    "        if eng == 'Wukong' :\n",
    "            champion = '오공'\n",
    "        elif eng == 'Nunu &amp; Willump':\n",
    "            champion = '누누와 월럼프'\n",
    "        else :\n",
    "            eng = eng.lower().replace(' ','').replace('.','')\n",
    "            champion = champion_df['name'][champion_df['name'][champion_df['lower_name'] == eng].index[0]]\n",
    "    except:\n",
    "        champion = eng \n",
    "    return champion"
   ]
  },
  {
   "cell_type": "code",
   "execution_count": 25,
   "metadata": {},
   "outputs": [],
   "source": [
    "# 아이템키로 아이템 이름 불러오는 함수\n",
    "def searchItem(itemKey):\n",
    "    item = item_df['name'][item_df['name'][item_df['key'] == itemKey].index[0]]\n",
    "    return item "
   ]
  },
  {
   "cell_type": "code",
   "execution_count": 26,
   "metadata": {},
   "outputs": [],
   "source": [
    "# 영어이름의 스펠을 한글로 바꿔주는 함수\n",
    "def translation_spell(eng):\n",
    "    spell = spell_df['name'][spell_df['name'][spell_df['eng'] == eng].index[0]]\n",
    "    return spell"
   ]
  },
  {
   "cell_type": "code",
   "execution_count": 27,
   "metadata": {},
   "outputs": [],
   "source": [
    "# 룬키로 룬 이름 불러오는 함수\n",
    "def searchRune(runeKey):\n",
    "    rune = rune_df['name'][rune_df['name'][rune_df['key'] == runeKey].index[0]]\n",
    "    return rune"
   ]
  },
  {
   "cell_type": "code",
   "execution_count": 28,
   "metadata": {},
   "outputs": [],
   "source": [
    "# 태그 지우는 함수\n",
    "def removeTags(strings):\n",
    "    strings = re.sub('<.+?>', '', str(strings), 0).strip().replace('[','').replace(']','')\n",
    "    return strings"
   ]
  },
  {
   "cell_type": "code",
   "execution_count": 29,
   "metadata": {},
   "outputs": [],
   "source": [
    "# OP.GG 아이템이미지의 키를 구하는 함수 + 룬\n",
    "def findItem(itemLink):\n",
    "    items = re.findall(r'\\d\\d\\d\\d.png', str(itemLink))\n",
    "    items = [item.strip('.png') for item in items]\n",
    "    \n",
    "    return items"
   ]
  },
  {
   "cell_type": "code",
   "execution_count": 30,
   "metadata": {},
   "outputs": [],
   "source": [
    "# OP.GG 스킬이미지의 영문 이름을 구하는 함수\n",
    "def findSkill(link):\n",
    "    name = re.findall(r'spell/.*png', str(link))\n",
    "    name = ''.join(name).strip('spell/').strip('.png')\n",
    "    return name"
   ]
  },
  {
   "cell_type": "code",
   "execution_count": 31,
   "metadata": {},
   "outputs": [],
   "source": [
    "lanes = ['TOP', 'JUNGLE', 'MID', 'ADC', 'SUPPORT']"
   ]
  },
  {
   "cell_type": "code",
   "execution_count": 32,
   "metadata": {},
   "outputs": [
    {
     "output_type": "stream",
     "name": "stdout",
     "text": [
      "TOP의 최고티어 챔피언: 카밀, 이렐리아, 피오라, 세트, 사일러스, 오공, 탐 켄치, 잭스, 비에고, 아트록스\nJUNGLE의 최고티어 챔피언: 리 신, 신 짜오, 비에고, 엘리스, 카서스, 녹턴, 킨드레드, 샤코, 렉사이, 피들스틱\nMID의 최고티어 챔피언: 카타리나, 르블랑, 탈론, 제드, 사일러스, 애니비아, 야스오, 판테온, 비에고, 이렐리아\nADC의 최고티어 챔피언: 직스, 이즈리얼, 베인, 애쉬, 사미라, 코그모, 스웨인, 징크스, 카이사, 진\nSUPPORT의 최고티어 챔피언: 레오나, 룰루, 쓰레쉬, 세나, 제라스, 마오카이, 블리츠크랭크, 노틸러스, 질리언, 알리스타\n"
     ]
    }
   ],
   "source": [
    "for lane in lanes:\n",
    "    top10 = soup.find(attrs={'class':f'tabItem champion-trend-tier-{lane}'}).select('.champion-index-table__name')[:10] # 10개만 가져오기\n",
    "    top10 = removeTags(top10).replace(\"'\",'')\n",
    "    top10 = top10.split(', ')\n",
    "    kor_champions = [translation_champion(champ) for champ in top10]\n",
    "    kor_champions = ', '.join(kor_champions)\n",
    "    print(f'{lane}의 최고티어 챔피언:',kor_champions)"
   ]
  },
  {
   "source": [
    "### 원하는 챔피언의 기록 가져오기"
   ],
   "cell_type": "markdown",
   "metadata": {}
  },
  {
   "cell_type": "code",
   "execution_count": 33,
   "metadata": {},
   "outputs": [],
   "source": [
    "# 샘플은 탑라인의 이렐리아\n",
    "lane = 'top'\n",
    "champion ='irelia'\n",
    "url = f'https://www.op.gg/champion/{champion}/statistics/{lane}'\n",
    "html = requests.get(url).text\n",
    "soup = BeautifulSoup(html, 'html.parser')"
   ]
  },
  {
   "cell_type": "code",
   "execution_count": 34,
   "metadata": {},
   "outputs": [
    {
     "output_type": "stream",
     "name": "stdout",
     "text": [
      "승률 순위: 27/55 픽률 순위: 1/55\n"
     ]
    }
   ],
   "source": [
    "win_rank = soup.select('.champion-stats-trend-rank')[0].find('b').text + soup.select('.champion-stats-trend-rank')[0].find('span').text\n",
    "pick_rank = soup.select('.champion-stats-trend-rank')[1].find('b').text + soup.select('.champion-stats-trend-rank')[1].find('span').text\n",
    "print('승률 순위:', win_rank, '픽률 순위:', pick_rank)"
   ]
  },
  {
   "source": [
    "### 원하는 챔피언의 추천 세팅 "
   ],
   "cell_type": "markdown",
   "metadata": {}
  },
  {
   "source": [
    "- 스펠 , 스킬트리, 아이템 트리"
   ],
   "cell_type": "markdown",
   "metadata": {}
  },
  {
   "cell_type": "code",
   "execution_count": 35,
   "metadata": {},
   "outputs": [
    {
     "output_type": "stream",
     "name": "stdout",
     "text": [
      "추천 스펠 : 점멸 순간이동  | 픽률 : 80.83% 총표본 수 : 56,171 승률 : 50.41%\n",
      "추천 스펠 : 점멸 점화  | 픽률 : 17.99% 총표본 수 : 12,505 승률 : 49.78%\n",
      "스킬 트리:  Q -> E -> W  | 픽률: 42.43% 총표본 수 : 13,721 승률: 62.22%\n",
      "시작아이템 :도란의 검, 체력 물약 | 픽률 : 80.68% 총표본 수 : 54,936 승률 : 50.87%\n",
      "시작아이템 :부패 물약 | 픽률 : 14.67% 총표본 수 : 9,990 승률 : 47.45%\n",
      "추천 빌드 :몰락한 왕의 검, 불멸의 철갑궁, 구인수의 격노검 | 픽률 : 20.5% 총표본 수 : 6,123 승률 : 62.57%\n",
      "추천 빌드 :몰락한 왕의 검, 선혈포식자, 스테락의 도전 | 픽률 : 11.27% 총표본 수 : 3,366 승률 : 63.96%\n",
      "추천 빌드 :몰락한 왕의 검, 신성한 파괴자, 스테락의 도전 | 픽률 : 10.57% 총표본 수 : 3,158 승률 : 62.6%\n",
      "추천 빌드 :몰락한 왕의 검, 불멸의 철갑궁, 마법사의 최후 | 픽률 : 8.82% 총표본 수 : 2,636 승률 : 62.52%\n",
      "추천 빌드 :몰락한 왕의 검, 불멸의 철갑궁, 죽음의 무도 | 픽률 : 6.4% 총표본 수 : 1,911 승률 : 59.55%\n",
      "신발 :판금 장화 | 픽률 : 69.13% 총표본 수 : 43,005 승률 : 51.98%\n",
      "신발 :헤르메스의 발걸음 | 픽률 : 27.88% 총표본 수 : 17,343 승률 : 54.87%\n",
      "신발 :명석함의 아이오니아 장화 | 픽률 : 2.19% 총표본 수 : 1,364 승률 : 61.14%\n"
     ]
    }
   ],
   "source": [
    "for i in range(2):\n",
    "    tmp = soup.select('ul.champion-stats__list')[i].find_all('img')[0] \n",
    "    tmp2 = soup.select('ul.champion-stats__list')[i].find_all('img')[1]\n",
    "    pickRate = soup.select('.champion-overview__stats.champion-overview__stats--pick')[i].find('strong').text\n",
    "    pickTotal = soup.select('.champion-overview__stats.champion-overview__stats--pick')[i].find('span').text\n",
    "    winRate = soup.select('.champion-overview__stats.champion-overview__stats--win')[i].find('strong').text\n",
    "    print('추천 스펠 : '+ translation_spell(findSkill(tmp)), translation_spell(findSkill(tmp2)), ' | 픽률 : '+ pickRate, '총표본 수 : ' + pickTotal, '승률 : '+ winRate)\n",
    "skillSeq = []\n",
    "for i in range(3):\n",
    "    skill = findSkill(soup.select('ul.champion-stats__list')[2].find_all('img')[i*2])\n",
    "    skillSeq.append(skill.lower().split(champion)[1])\n",
    "pickRate = soup.select('.champion-overview__stats.champion-overview__stats--pick')[2].find('strong').text\n",
    "pickTotal = soup.select('.champion-overview__stats.champion-overview__stats--pick')[2].find('span').text\n",
    "winRate = soup.select('.champion-overview__stats.champion-overview__stats--win')[2].find('strong').text\n",
    "print('스킬 트리: ',' -> '.join(skillSeq).upper(),' | 픽률:', pickRate, '총표본 수 : ' + pickTotal, '승률:', winRate)    \n",
    "for i in range(10):\n",
    "    tmp = soup.select('td.champion-overview__data.champion-overview__border.champion-overview__border--first')[i].find_all('img')\n",
    "    keys = findItem(tmp)\n",
    "    items = [searchItem(int(key)) for key in keys]\n",
    "    items = ', '.join(items)\n",
    "    pickRate = soup.select('.champion-overview__stats.champion-overview__stats--pick.champion-overview__border')[i].find('strong').text\n",
    "    pickTotal = soup.select('.champion-overview__stats.champion-overview__stats--pick.champion-overview__border')[i].find('span').text\n",
    "    winRate = soup.select('.champion-overview__stats.champion-overview__stats--win.champion-overview__border')[i].find('strong').text\n",
    "    if i < 2:\n",
    "        msg = '시작아이템 :'\n",
    "    elif i >= 2 and i < 7:\n",
    "        msg = '추천 빌드 :'\n",
    "    else:\n",
    "        msg = '신발 :'\n",
    "    print(msg + items, '| 픽률 : '+ pickRate,'총표본 수 : ' + pickTotal, '승률 : '+ winRate)"
   ]
  },
  {
   "source": [
    "- 룬"
   ],
   "cell_type": "markdown",
   "metadata": {}
  },
  {
   "cell_type": "code",
   "execution_count": 36,
   "metadata": {},
   "outputs": [],
   "source": [
    "mainRune = {'Precision' : '정밀', 'Domination' : '지배', 'Sorcery' : '마법', 'Resolve' : '결의', 'Inspiration' : '영감'}"
   ]
  },
  {
   "cell_type": "code",
   "execution_count": 37,
   "metadata": {},
   "outputs": [
    {
     "output_type": "stream",
     "name": "stdout",
     "text": [
      "정밀 + 결의 | 픽률 : 73.64% 승률 : 50.54%\n추천룬 | 픽률 : 23.98% 승률 : 48.75% 총 표본수 : 16,666\n정밀\n정복자\n승전보\n전설: 민첩함\n최후의 저항\n결의\n뼈 방패\n소생\n공격속도 + 10%\n적응형 능력치 + 9\n방어력 + 9\n추천룬 | 픽률 : 8.45% 승률 : 51.69% 총 표본수 : 5,872\n정밀\n정복자\n승전보\n전설: 민첩함\n최후의 저항\n결의\n뼈 방패\n불굴의 의지\n공격속도 + 10%\n적응형 능력치 + 9\n방어력 + 9\n"
     ]
    }
   ],
   "source": [
    "# 첫번째 추천룬\n",
    "total_info = soup.select_one('.tabItem.ChampionKeystoneRune-1')\n",
    "rate_info = total_info.select('.champion-overview__stats.champion-overview__stats--pick')\n",
    "rec_runes = soup.select('.champion-stats-summary-rune__name')\n",
    "rune_info = soup.select('.champion-stats-summary-rune__rate')\n",
    "eng_rune = rec_runes[0].text.split(' + ')\n",
    "kor_rune = mainRune[eng_rune[0]] + ' + ' + mainRune[eng_rune[1]]\n",
    "pickRate = rune_info[0].find('strong').text\n",
    "winRate = rune_info[0].find_all('span')[-1].text\n",
    "print(kor_rune, '| 픽률 : ' + pickRate, '승률 : ' + winRate)\n",
    "for i in range(2): \n",
    "    pickRate = rate_info[i].find('strong').text\n",
    "    winRate= rate_info[i].find_all('strong')[-1].text\n",
    "    pickTotal = rate_info[i].find_all('span')[1].text\n",
    "    print('추천룬 | 픽률 : ' + pickRate, '승률 : ' + winRate, '총 표본수 : ' + pickTotal)\n",
    "    for k in range(33):\n",
    "        if i == 1:\n",
    "            k += 33\n",
    "        link = total_info.find_all('img')[k].attrs['src']\n",
    "        if 'e_grayscale' in str(link):\n",
    "            pass\n",
    "        else:\n",
    "            print(searchRune(int(''.join(findItem(link)))))"
   ]
  },
  {
   "cell_type": "code",
   "execution_count": 38,
   "metadata": {
    "tags": []
   },
   "outputs": [
    {
     "output_type": "stream",
     "name": "stdout",
     "text": [
      "정밀 + 영감 | 픽률 : 15.34% 승률 : 48.63%\n",
      "추천룬 | 픽률 : 3.6% 승률 : 47.12% 총 표본수 : 2,504\n",
      "정밀\n",
      "정복자\n",
      "승전보\n",
      "전설: 민첩함\n",
      "최후의 저항\n",
      "영감\n",
      "비스킷 배달\n",
      "시간 왜곡 물약\n",
      "공격속도 + 10%\n",
      "적응형 능력치 + 9\n",
      "방어력 + 9\n",
      "추천룬 | 픽률 : 1.54% 승률 : 46.35% 총 표본수 : 1,068\n",
      "정밀\n",
      "정복자\n",
      "승전보\n",
      "전설: 민첩함\n",
      "최후의 저항\n",
      "영감\n",
      "비스킷 배달\n",
      "시간 왜곡 물약\n",
      "공격속도 + 10%\n",
      "적응형 능력치 + 9\n",
      "마법저항력 + 8\n"
     ]
    }
   ],
   "source": [
    "# 두번째 추천 룬\n",
    "rate_info = soup.select_one('.ChampionKeystoneRune-2').select('.champion-overview__stats.champion-overview__stats--pick')\n",
    "eng_rune = rec_runes[1].text.split(' + ')\n",
    "kor_rune = mainRune[eng_rune[0]] + ' + ' + mainRune[eng_rune[1]]\n",
    "pickRate = rune_info[1].find('strong').text\n",
    "winRate = rune_info[1].find_all('span')[-1].text\n",
    "print(kor_rune, '| 픽률 : ' + pickRate, '승률 : ' + winRate)\n",
    "for i in range(2):\n",
    "    pickRate = rate_info[i].find('strong').text\n",
    "    winRate= rate_info[i].find_all('strong')[-1].text\n",
    "    pickTotal = rate_info[i].find_all('span')[1].text\n",
    "    print('추천룬 | 픽률 : ' + pickRate, '승률 : ' + winRate, '총 표본수 : ' + pickTotal)\n",
    "    for k in range(33):\n",
    "        if i == 1:\n",
    "                k += 33\n",
    "        link = soup.select_one('.ChampionKeystoneRune-2').find_all('img')[k].attrs['src']\n",
    "        if 'e_grayscale' in str(link):\n",
    "            pass\n",
    "        else:\n",
    "            print(searchRune(int(''.join(findItem(link)))))"
   ]
  },
  {
   "source": [
    "### 매치업"
   ],
   "cell_type": "markdown",
   "metadata": {}
  },
  {
   "cell_type": "code",
   "execution_count": 39,
   "metadata": {},
   "outputs": [],
   "source": [
    "url = f'https://www.op.gg/champion/{champion}/statistics/{lane}/matchup'\n",
    "html = requests.get(url).text\n",
    "soup = BeautifulSoup(html, 'html.parser')"
   ]
  },
  {
   "cell_type": "code",
   "execution_count": 42,
   "metadata": {},
   "outputs": [
    {
     "output_type": "stream",
     "name": "stdout",
     "text": [
      "이렐리아 vs 세트 상대승률 : 49.69%\n",
      "통계량: 27,259 통계 비율 8.12%\n",
      "이렐리아 vs 피오라 상대승률 : 48.57%\n",
      "통계량: 22,298 통계 비율 6.64%\n",
      "이렐리아 vs 사일러스 상대승률 : 51.47%\n",
      "통계량: 18,353 통계 비율 5.47%\n",
      "이렐리아 vs 카밀 상대승률 : 49.94%\n",
      "통계량: 13,387 통계 비율 3.99%\n",
      "이렐리아 vs 레넥톤 상대승률 : 52.51%\n",
      "통계량: 12,769 통계 비율 3.80%\n",
      "이렐리아 vs 잭스 상대승률 : 48.02%\n",
      "통계량: 12,622 통계 비율 3.76%\n",
      "이렐리아 vs 말파이트 상대승률 : 51.27%\n",
      "통계량: 12,123 통계 비율 3.61%\n",
      "이렐리아 vs 아트록스 상대승률 : 54.33%\n",
      "통계량: 11,211 통계 비율 3.34%\n",
      "이렐리아 vs 가렌 상대승률 : 48.06%\n",
      "통계량: 11,006 통계 비율 3.28%\n",
      "이렐리아 vs 그웬 상대승률 : 54.13%\n",
      "통계량: 10,205 통계 비율 3.04%\n",
      "이렐리아 vs 제이스 상대승률 : 56.55%\n",
      "통계량: 9,211 통계 비율 2.74%\n",
      "이렐리아 vs 리븐 상대승률 : 49.55%\n",
      "통계량: 8,757 통계 비율 2.61%\n",
      "이렐리아 vs 다리우스 상대승률 : 53.45%\n",
      "통계량: 8,715 통계 비율 2.60%\n",
      "이렐리아 vs 아칼리 상대승률 : 55.83%\n",
      "통계량: 7,380 통계 비율 2.20%\n",
      "이렐리아 vs 탐 켄치 상대승률 : 47.42%\n",
      "통계량: 7,215 통계 비율 2.15%\n",
      "이렐리아 vs 오공 상대승률 : 47.8%\n",
      "통계량: 6,956 통계 비율 2.07%\n",
      "이렐리아 vs 쉔 상대승률 : 48.79%\n",
      "통계량: 6,645 통계 비율 1.98%\n",
      "이렐리아 vs 오른 상대승률 : 50.01%\n",
      "통계량: 6,323 통계 비율 1.88%\n",
      "이렐리아 vs 볼리베어 상대승률 : 50.48%\n",
      "통계량: 6,080 통계 비율 1.81%\n",
      "이렐리아 vs 베인 상대승률 : 52.65%\n",
      "통계량: 6,000 통계 비율 1.79%\n",
      "이렐리아 vs 모데카이저 상대승률 : 53.44%\n",
      "통계량: 5,885 통계 비율 1.75%\n",
      "이렐리아 vs 티모 상대승률 : 53.5%\n",
      "통계량: 5,850 통계 비율 1.74%\n",
      "이렐리아 vs 비에고 상대승률 : 52.65%\n",
      "통계량: 5,343 통계 비율 1.59%\n",
      "이렐리아 vs 문도 박사 상대승률 : 54.79%\n",
      "통계량: 4,842 통계 비율 1.44%\n",
      "이렐리아 vs 나르 상대승률 : 55.96%\n",
      "통계량: 4,653 통계 비율 1.39%\n",
      "이렐리아 vs 리 신 상대승률 : 53.33%\n",
      "통계량: 4,418 통계 비율 1.32%\n",
      "이렐리아 vs 나서스 상대승률 : 50.9%\n",
      "통계량: 4,238 통계 비율 1.26%\n",
      "이렐리아 vs 트린다미어 상대승률 : 49.82%\n",
      "통계량: 3,812 통계 비율 1.14%\n",
      "이렐리아 vs 트런들 상대승률 : 50.17%\n",
      "통계량: 3,580 통계 비율 1.07%\n",
      "이렐리아 vs 클레드 상대승률 : 49.32%\n",
      "통계량: 3,544 통계 비율 1.06%\n"
     ]
    }
   ],
   "source": [
    "for i in range(30):\n",
    "    champ = soup.select('.champion-matchup-list__champion')[i].find('span').text\n",
    "    winRate = soup.select('.champion-matchup-list__champion')[i].find_all('span')[1].string\n",
    "    winRate = [item.strip() for item in winRate if str(item)]\n",
    "    winRate = ''.join(winRate)\n",
    "    play_rate = soup.select('.champion-matchup-list__totalplayed')[i].find('span').text\n",
    "    play_num = soup.select('.champion-matchup-list__totalplayed')[i].find('small').text\n",
    "    print(f'{translation_champion(champion)} vs {translation_champion(champ)} 상대승률 :',winRate)\n",
    "    print(f'통계량: {play_num} 통계 비율 {play_rate}')"
   ]
  },
  {
   "cell_type": "code",
   "execution_count": null,
   "metadata": {},
   "outputs": [],
   "source": []
  }
 ]
}