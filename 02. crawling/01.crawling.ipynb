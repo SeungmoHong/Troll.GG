{
 "metadata": {
  "language_info": {
   "codemirror_mode": {
    "name": "ipython",
    "version": 3
   },
   "file_extension": ".py",
   "mimetype": "text/x-python",
   "name": "python",
   "nbconvert_exporter": "python",
   "pygments_lexer": "ipython3",
   "version": "3.8.5"
  },
  "orig_nbformat": 4,
  "kernelspec": {
   "name": "python3",
   "display_name": "Python 3.8.5 64-bit ('base': conda)"
  },
  "interpreter": {
   "hash": "aa83fc8303128615b1abe691064b0065fe178ce594ae448a9e882ceda0a279cb"
  }
 },
 "nbformat": 4,
 "nbformat_minor": 2,
 "cells": [
  {
   "cell_type": "markdown",
   "source": [
    "# Riot API로 받지 못하는 정보 OP.GG에서 크롤링하기"
   ],
   "metadata": {}
  },
  {
   "cell_type": "code",
   "execution_count": 1,
   "source": [
    "from bs4 import BeautifulSoup\r\n",
    "import requests\r\n",
    "import pandas as pd\r\n",
    "import re"
   ],
   "outputs": [],
   "metadata": {}
  },
  {
   "cell_type": "markdown",
   "source": [
    "### 각 라인의 탑 티어 챔피언 구하기"
   ],
   "metadata": {}
  },
  {
   "cell_type": "code",
   "execution_count": 2,
   "source": [
    "headers = {'User-Agent':'Mozilla/5.0 (Windows NT 6.3; Win64; x64) AppleWebKit/537.36 (KHTML, like Gecko) Chrome/63.0.3239.132 Safari/537.36'}\r\n",
    "url = 'https://www.op.gg/champion/statistics'\r\n",
    "html = requests.get(url, headers = headers).text\r\n",
    "soup = BeautifulSoup(html, 'html.parser')"
   ],
   "outputs": [],
   "metadata": {}
  },
  {
   "cell_type": "markdown",
   "source": [
    "- 필요한 함수들"
   ],
   "metadata": {}
  },
  {
   "cell_type": "code",
   "execution_count": 3,
   "source": [
    "# 챔피언, 아이템, 스펠, 룬 데이터\r\n",
    "champion_df = pd.read_csv('../00. data/champions.csv', index_col = 0)\r\n",
    "champion_df['lower_name'] = champion_df['eng_name'].apply(lambda r : r.lower()) # OP.GG의 챔피언 찾기를 위해 소문자화\r\n",
    "item_df = pd.read_csv('../00. data/items.csv', index_col = 0)\r\n",
    "spell_df = pd.read_csv('../00. data/spell.csv', index_col = 0)\r\n",
    "rune_df = pd.read_csv('../00. data/runes.csv', index_col = 0)"
   ],
   "outputs": [],
   "metadata": {}
  },
  {
   "cell_type": "code",
   "execution_count": 4,
   "source": [
    "# 챔피언의 영문이름을 한글로 바꿔주는 함수\r\n",
    "def translation_champion(eng):\r\n",
    "    try :\r\n",
    "        if eng == 'Wukong' :\r\n",
    "            champion = '오공'\r\n",
    "        elif eng == 'Nunu &amp; Willump':\r\n",
    "            champion = '누누와 월럼프'\r\n",
    "        else :\r\n",
    "            eng = eng.lower().replace(' ','').replace('.','')\r\n",
    "            champion = champion_df['name'][champion_df['name'][champion_df['lower_name'] == eng].index[0]]\r\n",
    "    except:\r\n",
    "        champion = eng \r\n",
    "    return champion"
   ],
   "outputs": [],
   "metadata": {}
  },
  {
   "cell_type": "code",
   "execution_count": 5,
   "source": [
    "# 아이템키로 아이템 이름 불러오는 함수\r\n",
    "def searchItem(itemKey):\r\n",
    "    item = item_df['name'][item_df['name'][item_df['key'] == itemKey].index[0]]\r\n",
    "    return item "
   ],
   "outputs": [],
   "metadata": {}
  },
  {
   "cell_type": "code",
   "execution_count": 6,
   "source": [
    "# 영어이름의 스펠을 한글로 바꿔주는 함수\r\n",
    "def translation_spell(eng):\r\n",
    "    spell = spell_df['name'][spell_df['name'][spell_df['eng'] == eng].index[0]]\r\n",
    "    return spell"
   ],
   "outputs": [],
   "metadata": {}
  },
  {
   "cell_type": "code",
   "execution_count": 7,
   "source": [
    "# 룬키로 룬 이름 불러오는 함수\r\n",
    "def searchRune(runeKey):\r\n",
    "    rune = rune_df['name'][rune_df['name'][rune_df['key'] == runeKey].index[0]]\r\n",
    "    return rune"
   ],
   "outputs": [],
   "metadata": {}
  },
  {
   "cell_type": "code",
   "execution_count": 8,
   "source": [
    "# 태그 지우는 함수\r\n",
    "def removeTags(strings):\r\n",
    "    strings = re.sub('<.+?>', '', str(strings), 0).strip().replace('[','').replace(']','')\r\n",
    "    return strings"
   ],
   "outputs": [],
   "metadata": {}
  },
  {
   "cell_type": "code",
   "execution_count": 9,
   "source": [
    "# OP.GG 아이템이미지의 키를 구하는 함수 + 룬\r\n",
    "def findItem(itemLink):\r\n",
    "    items = re.findall(r'\\d\\d\\d\\d.png', str(itemLink))\r\n",
    "    items = [item.strip('.png') for item in items]\r\n",
    "    \r\n",
    "    return items"
   ],
   "outputs": [],
   "metadata": {}
  },
  {
   "cell_type": "code",
   "execution_count": 10,
   "source": [
    "# OP.GG 스킬이미지의 영문 이름을 구하는 함수\r\n",
    "def findSkill(link):\r\n",
    "    name = re.findall(r'spell/.*png', str(link))\r\n",
    "    name = ''.join(name).strip('spell/').strip('.png')\r\n",
    "    return name"
   ],
   "outputs": [],
   "metadata": {}
  },
  {
   "cell_type": "code",
   "execution_count": 11,
   "source": [
    "lanes = ['TOP', 'JUNGLE', 'MID', 'ADC', 'SUPPORT']"
   ],
   "outputs": [],
   "metadata": {}
  },
  {
   "cell_type": "code",
   "execution_count": 12,
   "source": [
    "for lane in lanes:\r\n",
    "    top10 = soup.find(attrs={'class':f'tabItem champion-trend-tier-{lane}'}).select('.champion-index-table__name')[:10] # 10개만 가져오기\r\n",
    "    top10 = removeTags(top10).replace(\"'\",'')\r\n",
    "    top10 = top10.split(', ')\r\n",
    "    kor_champions = [translation_champion(champ) for champ in top10]\r\n",
    "    kor_champions = ', '.join(kor_champions)\r\n",
    "    print(f'{lane}의 최고티어 챔피언:',kor_champions)"
   ],
   "outputs": [
    {
     "output_type": "stream",
     "name": "stdout",
     "text": [
      "TOP의 최고티어 챔피언: 피오라, 카밀, 세트, 아트록스, 뽀삐, 이렐리아, 말파이트, 탐 켄치, 트린다미어, 오공\n",
      "JUNGLE의 최고티어 챔피언: 자르반 4세, 리 신, 탈론, 탈리야, 니달리, 그레이브즈, 렉사이, 에코, 피들스틱, 킨드레드\n",
      "MID의 최고티어 챔피언: 탈론, 르블랑, 카타리나, 아크샨, 벡스, 제드, 애니비아, 야스오, 신지드, 요네\n",
      "ADC의 최고티어 챔피언: 미스 포츈, 베인, 직스, 이즈리얼, 사미라, 애쉬, 루시안, 진, 드레이븐, 카이사\n",
      "SUPPORT의 최고티어 챔피언: 아무무, 블리츠크랭크, 레오나, 룰루, 쓰레쉬, 마오카이, 제라스, 파이크, 소라카, 노틸러스\n"
     ]
    }
   ],
   "metadata": {}
  },
  {
   "cell_type": "markdown",
   "source": [
    "### 원하는 챔피언의 기록 가져오기"
   ],
   "metadata": {}
  },
  {
   "cell_type": "code",
   "execution_count": 13,
   "source": [
    "# 샘플은 탑라인의 이렐리아\r\n",
    "lane = 'top'\r\n",
    "champion ='irelia'\r\n",
    "url = f'https://www.op.gg/champion/{champion}/statistics/{lane}'\r\n",
    "html = requests.get(url, headers = headers).text\r\n",
    "soup = BeautifulSoup(html, 'html.parser')"
   ],
   "outputs": [],
   "metadata": {}
  },
  {
   "cell_type": "code",
   "execution_count": 14,
   "source": [
    "win_rank = soup.select('.champion-stats-trend-rank')[0].find('b').text + soup.select('.champion-stats-trend-rank')[0].find('span').text\r\n",
    "pick_rank = soup.select('.champion-stats-trend-rank')[1].find('b').text + soup.select('.champion-stats-trend-rank')[1].find('span').text\r\n",
    "print('승률 순위:', win_rank, '픽률 순위:', pick_rank)"
   ],
   "outputs": [
    {
     "output_type": "stream",
     "name": "stdout",
     "text": [
      "승률 순위: 47/55 픽률 순위: 2/55\n"
     ]
    }
   ],
   "metadata": {}
  },
  {
   "cell_type": "markdown",
   "source": [
    "### 원하는 챔피언의 추천 세팅 "
   ],
   "metadata": {}
  },
  {
   "cell_type": "markdown",
   "source": [
    "- 스펠 , 스킬트리, 아이템 트리"
   ],
   "metadata": {}
  },
  {
   "cell_type": "code",
   "execution_count": 15,
   "source": [
    "for i in range(2):\r\n",
    "    tmp = soup.select('ul.champion-stats__list')[i].find_all('img')[0] \r\n",
    "    tmp2 = soup.select('ul.champion-stats__list')[i].find_all('img')[1]\r\n",
    "    pickRate = soup.select('.champion-overview__stats.champion-overview__stats--pick')[i].find('strong').text\r\n",
    "    pickTotal = soup.select('.champion-overview__stats.champion-overview__stats--pick')[i].find('span').text\r\n",
    "    winRate = soup.select('.champion-overview__stats.champion-overview__stats--win')[i].find('strong').text\r\n",
    "    print('추천 스펠 : '+ translation_spell(findSkill(tmp)), translation_spell(findSkill(tmp2)), ' | 픽률 : '+ pickRate, '총표본 수 : ' + pickTotal, '승률 : '+ winRate)\r\n",
    "skillSeq = []\r\n",
    "for i in range(3):\r\n",
    "    skill = findSkill(soup.select('ul.champion-stats__list')[2].find_all('img')[i*2])\r\n",
    "    skillSeq.append(skill.lower().split(champion)[1])\r\n",
    "pickRate = soup.select('.champion-overview__stats.champion-overview__stats--pick')[2].find('strong').text\r\n",
    "pickTotal = soup.select('.champion-overview__stats.champion-overview__stats--pick')[2].find('span').text\r\n",
    "winRate = soup.select('.champion-overview__stats.champion-overview__stats--win')[2].find('strong').text\r\n",
    "print('스킬 트리: ',' -> '.join(skillSeq).upper(),' | 픽률:', pickRate, '총표본 수 : ' + pickTotal, '승률:', winRate)    \r\n",
    "for i in range(10):\r\n",
    "    tmp = soup.select('td.champion-overview__data.champion-overview__border.champion-overview__border--first')[i].find_all('img')\r\n",
    "    keys = findItem(tmp)\r\n",
    "    items = [searchItem(int(key)) for key in keys]\r\n",
    "    items = ', '.join(items)\r\n",
    "    pickRate = soup.select('.champion-overview__stats.champion-overview__stats--pick.champion-overview__border')[i].find('strong').text\r\n",
    "    pickTotal = soup.select('.champion-overview__stats.champion-overview__stats--pick.champion-overview__border')[i].find('span').text\r\n",
    "    winRate = soup.select('.champion-overview__stats.champion-overview__stats--win.champion-overview__border')[i].find('strong').text\r\n",
    "    if i < 2:\r\n",
    "        msg = '시작아이템 :'\r\n",
    "    elif i >= 2 and i < 7:\r\n",
    "        msg = '추천 빌드 :'\r\n",
    "    else:\r\n",
    "        msg = '신발 :'\r\n",
    "    print(msg + items, '| 픽률 : '+ pickRate,'총표본 수 : ' + pickTotal, '승률 : '+ winRate)"
   ],
   "outputs": [
    {
     "output_type": "stream",
     "name": "stdout",
     "text": [
      "추천 스펠 : 점멸 순간이동  | 픽률 : 77.72% 총표본 수 : 30,495 승률 : 48.2%\n",
      "추천 스펠 : 점멸 점화  | 픽률 : 21.08% 총표본 수 : 8,272 승률 : 49.36%\n",
      "스킬 트리:  Q -> W -> E  | 픽률: 41.55% 총표본 수 : 7,436 승률: 62.31%\n",
      "시작아이템 :도란의 검, 체력 물약 | 픽률 : 82.78% 총표본 수 : 31,655 승률 : 49.13%\n",
      "시작아이템 :부패 물약 | 픽률 : 8.87% 총표본 수 : 3,391 승률 : 44.88%\n",
      "추천 빌드 :몰락한 왕의 검, 선혈포식자, 스테락의 도전 | 픽률 : 30.5% 총표본 수 : 5,040 승률 : 60.93%\n",
      "추천 빌드 :몰락한 왕의 검, 불멸의 철갑궁, 구인수의 격노검 | 픽률 : 10.97% 총표본 수 : 1,812 승률 : 64.02%\n",
      "추천 빌드 :몰락한 왕의 검, 불멸의 철갑궁, 마법사의 최후 | 픽률 : 8.23% 총표본 수 : 1,360 승률 : 63.01%\n",
      "추천 빌드 :몰락한 왕의 검, 선혈포식자, 마법사의 최후 | 픽률 : 6.94% 총표본 수 : 1,146 승률 : 59.77%\n",
      "추천 빌드 :몰락한 왕의 검, 불멸의 철갑궁, 죽음의 무도 | 픽률 : 6.94% 총표본 수 : 1,146 승률 : 62.04%\n",
      "신발 :판금 장화 | 픽률 : 68.66% 총표본 수 : 24,125 승률 : 49.91%\n",
      "신발 :헤르메스의 발걸음 | 픽률 : 29.2% 총표본 수 : 10,261 승률 : 53.12%\n",
      "신발 :명석함의 아이오니아 장화 | 픽률 : 1.37% 총표본 수 : 481 승률 : 67.36%\n"
     ]
    }
   ],
   "metadata": {}
  },
  {
   "cell_type": "markdown",
   "source": [
    "- 룬"
   ],
   "metadata": {}
  },
  {
   "cell_type": "code",
   "execution_count": 16,
   "source": [
    "mainRune = {'Precision' : '정밀', 'Domination' : '지배', 'Sorcery' : '마법', 'Resolve' : '결의', 'Inspiration' : '영감'}"
   ],
   "outputs": [],
   "metadata": {}
  },
  {
   "cell_type": "code",
   "execution_count": 17,
   "source": [
    "# 첫번째 추천룬\r\n",
    "total_info = soup.select_one('.tabItem.ChampionKeystoneRune-1')\r\n",
    "rate_info = total_info.select('.champion-overview__stats.champion-overview__stats--pick')\r\n",
    "rec_runes = soup.select('.champion-stats-summary-rune__name')\r\n",
    "rune_info = soup.select('.champion-stats-summary-rune__rate')\r\n",
    "eng_rune = rec_runes[0].text.split(' + ')\r\n",
    "kor_rune = mainRune[eng_rune[0]] + ' + ' + mainRune[eng_rune[1]]\r\n",
    "pickRate = rune_info[0].find('strong').text\r\n",
    "winRate = rune_info[0].find_all('span')[-1].text\r\n",
    "print(kor_rune, '| 픽률 : ' + pickRate, '승률 : ' + winRate)\r\n",
    "for i in range(2): \r\n",
    "    pickRate = rate_info[i].find('strong').text\r\n",
    "    winRate= rate_info[i].find_all('strong')[-1].text\r\n",
    "    pickTotal = rate_info[i].find_all('span')[1].text\r\n",
    "    print('추천룬 | 픽률 : ' + pickRate, '승률 : ' + winRate, '총 표본수 : ' + pickTotal)\r\n",
    "    for k in range(33):\r\n",
    "        if i == 1:\r\n",
    "            k += 33\r\n",
    "        link = total_info.find_all('img')[k].attrs['src']\r\n",
    "        if 'e_grayscale' in str(link):\r\n",
    "            pass\r\n",
    "        else:\r\n",
    "            print(searchRune(int(''.join(findItem(link)))))"
   ],
   "outputs": [
    {
     "output_type": "stream",
     "name": "stdout",
     "text": [
      "정밀 + 결의 | 픽률 : 81.37% 승률 : 48.44%\n",
      "추천룬 | 픽률 : 25.18% 승률 : 47.06% 총 표본수 : 9,878\n",
      "정밀\n",
      "정복자\n",
      "승전보\n",
      "전설: 민첩함\n",
      "최후의 저항\n",
      "결의\n",
      "뼈 방패\n",
      "소생\n",
      "공격속도 + 10%\n",
      "적응형 능력치 + 9\n",
      "방어력 + 9\n",
      "추천룬 | 픽률 : 10.36% 승률 : 49.77% 총 표본수 : 4,063\n",
      "정밀\n",
      "정복자\n",
      "승전보\n",
      "전설: 민첩함\n",
      "최후의 저항\n",
      "결의\n",
      "뼈 방패\n",
      "불굴의 의지\n",
      "공격속도 + 10%\n",
      "적응형 능력치 + 9\n",
      "방어력 + 9\n"
     ]
    }
   ],
   "metadata": {}
  },
  {
   "cell_type": "code",
   "execution_count": 18,
   "source": [
    "# 두번째 추천 룬\r\n",
    "rate_info = soup.select_one('.ChampionKeystoneRune-2').select('.champion-overview__stats.champion-overview__stats--pick')\r\n",
    "eng_rune = rec_runes[1].text.split(' + ')\r\n",
    "kor_rune = mainRune[eng_rune[0]] + ' + ' + mainRune[eng_rune[1]]\r\n",
    "pickRate = rune_info[1].find('strong').text\r\n",
    "winRate = rune_info[1].find_all('span')[-1].text\r\n",
    "print(kor_rune, '| 픽률 : ' + pickRate, '승률 : ' + winRate)\r\n",
    "for i in range(2):\r\n",
    "    pickRate = rate_info[i].find('strong').text\r\n",
    "    winRate= rate_info[i].find_all('strong')[-1].text\r\n",
    "    pickTotal = rate_info[i].find_all('span')[1].text\r\n",
    "    print('추천룬 | 픽률 : ' + pickRate, '승률 : ' + winRate, '총 표본수 : ' + pickTotal)\r\n",
    "    for k in range(33):\r\n",
    "        if i == 1:\r\n",
    "                k += 33\r\n",
    "        link = soup.select_one('.ChampionKeystoneRune-2').find_all('img')[k].attrs['src']\r\n",
    "        if 'e_grayscale' in str(link):\r\n",
    "            pass\r\n",
    "        else:\r\n",
    "            print(searchRune(int(''.join(findItem(link)))))"
   ],
   "outputs": [
    {
     "output_type": "stream",
     "name": "stdout",
     "text": [
      "정밀 + 영감 | 픽률 : 13.21% 승률 : 49.19%\n",
      "추천룬 | 픽률 : 2% 승률 : 46.69% 총 표본수 : 786\n",
      "정밀\n",
      "정복자\n",
      "승전보\n",
      "전설: 민첩함\n",
      "최후의 저항\n",
      "영감\n",
      "비스킷 배달\n",
      "시간 왜곡 물약\n",
      "공격속도 + 10%\n",
      "적응형 능력치 + 9\n",
      "방어력 + 9\n",
      "추천룬 | 픽률 : 1.33% 승률 : 52.58% 총 표본수 : 523\n",
      "정밀\n",
      "정복자\n",
      "승전보\n",
      "전설: 민첩함\n",
      "최후의 저항\n",
      "영감\n",
      "비스킷 배달\n",
      "우주적 통찰력\n",
      "공격속도 + 10%\n",
      "적응형 능력치 + 9\n",
      "방어력 + 9\n"
     ]
    }
   ],
   "metadata": {
    "tags": []
   }
  },
  {
   "cell_type": "markdown",
   "source": [
    "### 매치업"
   ],
   "metadata": {}
  },
  {
   "cell_type": "code",
   "execution_count": 19,
   "source": [
    "url = f'https://www.op.gg/champion/{champion}/statistics/{lane}/matchup'\r\n",
    "html = requests.get(url, headers = headers).text\r\n",
    "soup = BeautifulSoup(html, 'html.parser')"
   ],
   "outputs": [],
   "metadata": {}
  },
  {
   "cell_type": "code",
   "execution_count": 20,
   "source": [
    "for i in range(50):\r\n",
    "    champ = soup.select('.champion-matchup-list__champion')[i].find('span').text\r\n",
    "    winRate = soup.select('.champion-matchup-list__champion')[i].find_all('span')[1].string\r\n",
    "    winRate = [item.strip() for item in winRate if str(item)]\r\n",
    "    winRate = ''.join(winRate)\r\n",
    "    play_rate = soup.select('.champion-matchup-list__totalplayed')[i].find('span').text\r\n",
    "    play_num = soup.select('.champion-matchup-list__totalplayed')[i].find('small').text\r\n",
    "    print(f'{translation_champion(champion)} vs {translation_champion(champ)} 상대승률 :',winRate)\r\n",
    "    print(f'통계량: {play_num} 통계 비율 {play_rate}')"
   ],
   "outputs": [
    {
     "output_type": "stream",
     "name": "stdout",
     "text": [
      "이렐리아 vs 세트 상대승률 : 47.46%\n",
      "통계량: 13,451 통계 비율 7.54%\n",
      "이렐리아 vs 피오라 상대승률 : 46.54%\n",
      "통계량: 11,911 통계 비율 6.68%\n",
      "이렐리아 vs 아트록스 상대승률 : 52.74%\n",
      "통계량: 8,007 통계 비율 4.49%\n",
      "이렐리아 vs 카밀 상대승률 : 50.29%\n",
      "통계량: 7,753 통계 비율 4.35%\n",
      "이렐리아 vs 사일러스 상대승률 : 52.12%\n",
      "통계량: 6,535 통계 비율 3.66%\n",
      "이렐리아 vs 말파이트 상대승률 : 49.41%\n",
      "통계량: 6,134 통계 비율 3.44%\n",
      "이렐리아 vs 리븐 상대승률 : 48.22%\n",
      "통계량: 5,987 통계 비율 3.36%\n",
      "이렐리아 vs 다리우스 상대승률 : 51.73%\n",
      "통계량: 5,908 통계 비율 3.31%\n",
      "이렐리아 vs 잭스 상대승률 : 46.44%\n",
      "통계량: 5,470 통계 비율 3.07%\n",
      "이렐리아 vs 릴리아 상대승률 : 53%\n",
      "통계량: 5,208 통계 비율 2.92%\n",
      "이렐리아 vs 제이스 상대승률 : 56.7%\n",
      "통계량: 5,146 통계 비율 2.88%\n",
      "이렐리아 vs 가렌 상대승률 : 46.48%\n",
      "통계량: 4,989 통계 비율 2.80%\n",
      "이렐리아 vs 베인 상대승률 : 50.3%\n",
      "통계량: 4,674 통계 비율 2.62%\n",
      "이렐리아 vs 케넨 상대승률 : 53.67%\n",
      "통계량: 4,654 통계 비율 2.61%\n",
      "이렐리아 vs 트린다미어 상대승률 : 49.23%\n",
      "통계량: 4,625 통계 비율 2.59%\n",
      "이렐리아 vs 요네 상대승률 : 53.74%\n",
      "통계량: 4,075 통계 비율 2.28%\n",
      "이렐리아 vs 탐 켄치 상대승률 : 46.75%\n",
      "통계량: 3,929 통계 비율 2.20%\n",
      "이렐리아 vs 쉔 상대승률 : 47.38%\n",
      "통계량: 3,702 통계 비율 2.07%\n",
      "이렐리아 vs 티모 상대승률 : 50.41%\n",
      "통계량: 3,509 통계 비율 1.97%\n",
      "이렐리아 vs 모데카이저 상대승률 : 49.67%\n",
      "통계량: 3,179 통계 비율 1.78%\n",
      "이렐리아 vs 아칼리 상대승률 : 53.58%\n",
      "통계량: 3,173 통계 비율 1.78%\n",
      "이렐리아 vs 오른 상대승률 : 48.63%\n",
      "통계량: 3,002 통계 비율 1.68%\n",
      "이렐리아 vs 뽀삐 상대승률 : 46.49%\n",
      "통계량: 2,809 통계 비율 1.57%\n",
      "이렐리아 vs 레넥톤 상대승률 : 52.71%\n",
      "통계량: 2,453 통계 비율 1.37%\n",
      "이렐리아 vs 오공 상대승률 : 45.9%\n",
      "통계량: 2,427 통계 비율 1.36%\n",
      "이렐리아 vs 야스오 상대승률 : 50%\n",
      "통계량: 2,400 통계 비율 1.35%\n",
      "이렐리아 vs 트런들 상대승률 : 48.48%\n",
      "통계량: 2,370 통계 비율 1.33%\n",
      "이렐리아 vs 나르 상대승률 : 54.37%\n",
      "통계량: 2,036 통계 비율 1.14%\n",
      "이렐리아 vs 나서스 상대승률 : 47.32%\n",
      "통계량: 2,018 통계 비율 1.13%\n",
      "이렐리아 vs 그웬 상대승률 : 52.98%\n",
      "통계량: 1,944 통계 비율 1.09%\n",
      "이렐리아 vs 갱플랭크 상대승률 : 54.41%\n",
      "통계량: 1,937 통계 비율 1.09%\n",
      "이렐리아 vs 볼리베어 상대승률 : 48.41%\n",
      "통계량: 1,822 통계 비율 1.02%\n",
      "이렐리아 vs 일라오이 상대승률 : 51.58%\n",
      "통계량: 1,679 통계 비율 0.94%\n",
      "이렐리아 vs 라이즈 상대승률 : 59.94%\n",
      "통계량: 1,670 통계 비율 0.94%\n",
      "이렐리아 vs 클레드 상대승률 : 48.15%\n",
      "통계량: 1,564 통계 비율 0.88%\n",
      "이렐리아 vs 신지드 상대승률 : 47.6%\n",
      "통계량: 1,498 통계 비율 0.84%\n",
      "이렐리아 vs 워윅 상대승률 : 44.91%\n",
      "통계량: 1,494 통계 비율 0.84%\n",
      "이렐리아 vs 우르곳 상대승률 : 49.77%\n",
      "통계량: 1,318 통계 비율 0.74%\n",
      "이렐리아 vs 케일 상대승률 : 53.44%\n",
      "통계량: 1,119 통계 비율 0.63%\n",
      "이렐리아 vs 퀸 상대승률 : 50.58%\n",
      "통계량: 1,113 통계 비율 0.62%\n",
      "이렐리아 vs 렝가 상대승률 : 50.98%\n",
      "통계량: 965 통계 비율 0.54%\n",
      "이렐리아 vs 문도 박사 상대승률 : 52.54%\n",
      "통계량: 963 통계 비율 0.54%\n",
      "이렐리아 vs 마오카이 상대승률 : 49.16%\n",
      "통계량: 950 통계 비율 0.53%\n",
      "이렐리아 vs 블라디미르 상대승률 : 54.05%\n",
      "통계량: 803 통계 비율 0.45%\n",
      "이렐리아 vs 하이머딩거 상대승률 : 56.24%\n",
      "통계량: 761 통계 비율 0.43%\n",
      "이렐리아 vs 요릭 상대승률 : 57.62%\n",
      "통계량: 715 통계 비율 0.40%\n",
      "이렐리아 vs 아크샨 상대승률 : 54.72%\n",
      "통계량: 709 통계 비율 0.40%\n",
      "이렐리아 vs 사이온 상대승률 : 50.57%\n",
      "통계량: 696 통계 비율 0.39%\n",
      "이렐리아 vs cho'gath 상대승률 : 51.52%\n",
      "통계량: 691 통계 비율 0.39%\n",
      "이렐리아 vs 판테온 상대승률 : 51.38%\n",
      "통계량: 687 통계 비율 0.39%\n"
     ]
    }
   ],
   "metadata": {}
  },
  {
   "cell_type": "code",
   "execution_count": null,
   "source": [],
   "outputs": [],
   "metadata": {}
  }
 ]
}