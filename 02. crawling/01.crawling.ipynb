{
 "metadata": {
  "language_info": {
   "codemirror_mode": {
    "name": "ipython",
    "version": 3
   },
   "file_extension": ".py",
   "mimetype": "text/x-python",
   "name": "python",
   "nbconvert_exporter": "python",
   "pygments_lexer": "ipython3",
   "version": "3.8.5"
  },
  "orig_nbformat": 4,
  "kernelspec": {
   "name": "python3",
   "display_name": "Python 3.8.5 64-bit ('base': conda)"
  },
  "interpreter": {
   "hash": "c0d5580a4e4b3d156e9f2f74585f52a17152e2e761e06671a15aac4fe32d0ddb"
  }
 },
 "nbformat": 4,
 "nbformat_minor": 2,
 "cells": [
  {
   "source": [
    "# Riot API로 받지 못하는 정보 OP.GG에서 크롤링하기"
   ],
   "cell_type": "markdown",
   "metadata": {}
  },
  {
   "cell_type": "code",
   "execution_count": 1,
   "metadata": {},
   "outputs": [],
   "source": [
    "from bs4 import BeautifulSoup\n",
    "import requests\n",
    "import pandas as pd\n",
    "import re"
   ]
  },
  {
   "source": [
    "### 각 라인의 탑 티어 챔피언 구하기"
   ],
   "cell_type": "markdown",
   "metadata": {}
  },
  {
   "cell_type": "code",
   "execution_count": 2,
   "metadata": {},
   "outputs": [],
   "source": [
    "url = 'https://www.op.gg/champion/statistics'\n",
    "html = requests.get(url).text\n",
    "soup = BeautifulSoup(html, 'html.parser')"
   ]
  },
  {
   "cell_type": "code",
   "execution_count": 3,
   "metadata": {},
   "outputs": [],
   "source": [
    "item_df = pd.read_csv('../00. data/items.csv', index_col = 0)\n",
    "spell_df = pd.read_csv('../00. data/spell.csv', index_col = 0)\n",
    "rune_df = pd.read_csv('../00. data/runes.csv', index_col = 0)"
   ]
  },
  {
   "cell_type": "code",
   "execution_count": 4,
   "metadata": {},
   "outputs": [],
   "source": [
    "# 아이템키로 아이템 이름 불러오는 함수\n",
    "def searchItem(itemKey):\n",
    "    item = item_df['name'][item_df['name'][item_df['key'] == itemKey].index[0]]\n",
    "    return item "
   ]
  },
  {
   "cell_type": "code",
   "execution_count": 5,
   "metadata": {},
   "outputs": [],
   "source": [
    "# 영어이름의 스펠을 한글로 바꿔주는 함수\n",
    "def translation_spell(eng):\n",
    "    spell = spell_df['name'][spell_df['name'][spell_df['eng'] == eng].index[0]]\n",
    "    return spell"
   ]
  },
  {
   "cell_type": "code",
   "execution_count": 6,
   "metadata": {},
   "outputs": [],
   "source": [
    "# 룬키로 룬 이름 불러오는 함수\n",
    "def searchRune(runeKey):\n",
    "    rune = rune_df['name'][rune_df['name'][rune_df['key'] == runeKey].index[0]]\n",
    "    return rune"
   ]
  },
  {
   "cell_type": "code",
   "execution_count": 7,
   "metadata": {},
   "outputs": [],
   "source": [
    "# 태그 지우는 함수\n",
    "def removeTags(strings):\n",
    "    strings = re.sub('<.+?>', '', str(strings), 0).strip().replace(\"'\",'')\n",
    "    return strings"
   ]
  },
  {
   "cell_type": "code",
   "execution_count": 8,
   "metadata": {},
   "outputs": [],
   "source": [
    "# OP.GG 아이템이미지의 키를 구하는 함수 + 룬\n",
    "def findItem(itemLink):\n",
    "    items = re.findall(r'\\d\\d\\d\\d.png', str(itemLink))\n",
    "    items = [item.strip('.png') for item in items]\n",
    "    \n",
    "    return items"
   ]
  },
  {
   "cell_type": "code",
   "execution_count": 9,
   "metadata": {},
   "outputs": [],
   "source": [
    "# OP.GG 스킬이미지의 영문 이름을 구하는 함수\n",
    "def findSkill(link):\n",
    "    name = re.findall(r'spell/.*png', str(link))\n",
    "    name = ''.join(name).strip('spell/').strip('.png')\n",
    "    return name"
   ]
  },
  {
   "cell_type": "code",
   "execution_count": 10,
   "metadata": {},
   "outputs": [],
   "source": [
    "lanes = ['TOP', 'JUNGLE', 'MID', 'ADC', 'SUPPORT']"
   ]
  },
  {
   "cell_type": "code",
   "execution_count": 11,
   "metadata": {},
   "outputs": [
    {
     "output_type": "stream",
     "name": "stdout",
     "text": [
      "TOP의 최고티어 챔피언: [Irelia, Camille, Fiora, Sett, Sylas, Jax, Aatrox, Wukong, Viego, Tahm Kench]\nJUNGLE의 최고티어 챔피언: [Lee Sin, Xin Zhao, Elise, Viego, Karthus, Nocturne, Kindred, RekSai, Shaco, Fiddlesticks]\nMID의 최고티어 챔피언: [Katarina, LeBlanc, Talon, Zed, Yasuo, Sylas, Anivia, Aurelion Sol, Pantheon, Viego]\nADC의 최고티어 챔피언: [Ezreal, Ziggs, Vayne, Samira, KogMaw, Ashe, Jinx, Swain, KaiSa, Jhin]\nSUPPORT의 최고티어 챔피언: [Leona, Lulu, Thresh, Senna, Xerath, Blitzcrank, Nautilus, Maokai, Karma, Pyke]\n"
     ]
    }
   ],
   "source": [
    "for lane in lanes:\n",
    "    top5 = soup.find(attrs={'class':f'tabItem champion-trend-tier-{lane}'}).select('.champion-index-table__name')[:10] # 10개만 가져오기\n",
    "    print(f'{lane}의 최고티어 챔피언:',removeTags(top5))"
   ]
  },
  {
   "source": [
    "### 원하는 챔피언의 기록 가져오기"
   ],
   "cell_type": "markdown",
   "metadata": {}
  },
  {
   "cell_type": "code",
   "execution_count": 12,
   "metadata": {},
   "outputs": [],
   "source": [
    "# 샘플은 탑라인의 이렐리아\n",
    "lane = 'top'\n",
    "champion ='irelia'\n",
    "url = f'https://www.op.gg/champion/{champion}/statistics/{lane}'\n",
    "html = requests.get(url).text\n",
    "soup = BeautifulSoup(html, 'html.parser')"
   ]
  },
  {
   "cell_type": "code",
   "execution_count": 13,
   "metadata": {},
   "outputs": [
    {
     "output_type": "stream",
     "name": "stdout",
     "text": [
      "승률 순위: 28/55 픽률 순위: 1/55\n"
     ]
    }
   ],
   "source": [
    "win_rank = soup.select('.champion-stats-trend-rank')[0].find('b').text + soup.select('.champion-stats-trend-rank')[0].find('span').text\n",
    "pick_rank = soup.select('.champion-stats-trend-rank')[1].find('b').text + soup.select('.champion-stats-trend-rank')[1].find('span').text\n",
    "print('승률 순위:', win_rank, '픽률 순위:', pick_rank)"
   ]
  },
  {
   "source": [
    "### 원하는 챔피언의 추천 세팅 "
   ],
   "cell_type": "markdown",
   "metadata": {}
  },
  {
   "source": [
    "- 스펠 , 스킬트리, 아이템 트리"
   ],
   "cell_type": "markdown",
   "metadata": {}
  },
  {
   "cell_type": "code",
   "execution_count": 14,
   "metadata": {},
   "outputs": [
    {
     "output_type": "stream",
     "name": "stdout",
     "text": [
      "추천 스펠 : 점멸 순간이동  | 픽률 : 80.62% 총표본 수 : 32,784 승률 : 50.59%\n",
      "추천 스펠 : 점멸 점화  | 픽률 : 18.19% 총표본 수 : 7,396 승률 : 50%\n",
      "스킬 트리:  Q -> E -> W  | 픽률: 49.07% 총표본 수 : 9,388 승률: 62.39%\n",
      "시작아이템 :도란의 검, 체력 물약 | 픽률 : 79.86% 총표본 수 : 31,783 승률 : 50.98%\n",
      "시작아이템 :부패 물약 | 픽률 : 15.65% 총표본 수 : 6,228 승률 : 47.93%\n",
      "추천 빌드 :몰락한 왕의 검, 불멸의 철갑궁, 구인수의 격노검 | 픽률 : 21.83% 총표본 수 : 3,847 승률 : 63.89%\n",
      "추천 빌드 :몰락한 왕의 검, 선혈포식자, 스테락의 도전 | 픽률 : 9.95% 총표본 수 : 1,753 승률 : 64.29%\n",
      "추천 빌드 :몰락한 왕의 검, 신성한 파괴자, 스테락의 도전 | 픽률 : 9.48% 총표본 수 : 1,670 승률 : 61.86%\n",
      "추천 빌드 :몰락한 왕의 검, 불멸의 철갑궁, 마법사의 최후 | 픽률 : 9.1% 총표본 수 : 1,603 승률 : 62.45%\n",
      "추천 빌드 :몰락한 왕의 검, 불멸의 철갑궁, 죽음의 무도 | 픽률 : 6.51% 총표본 수 : 1,148 승률 : 59.32%\n",
      "신발 :판금 장화 | 픽률 : 68.94% 총표본 수 : 25,099 승률 : 52.24%\n",
      "신발 :헤르메스의 발걸음 | 픽률 : 27.94% 총표본 수 : 10,171 승률 : 54.85%\n",
      "신발 :명석함의 아이오니아 장화 | 픽률 : 2.37% 총표본 수 : 862 승률 : 60.32%\n"
     ]
    }
   ],
   "source": [
    "for i in range(2):\n",
    "    tmp = soup.select('ul.champion-stats__list')[i].find_all('img')[0] \n",
    "    tmp2 = soup.select('ul.champion-stats__list')[i].find_all('img')[1]\n",
    "    pickRate = soup.select('.champion-overview__stats.champion-overview__stats--pick')[i].find('strong').text\n",
    "    pickTotal = soup.select('.champion-overview__stats.champion-overview__stats--pick')[i].find('span').text\n",
    "    winRate = soup.select('.champion-overview__stats.champion-overview__stats--win')[i].find('strong').text\n",
    "    print('추천 스펠 : '+ translation_spell(findSkill(tmp)), translation_spell(findSkill(tmp2)), ' | 픽률 : '+ pickRate, '총표본 수 : ' + pickTotal, '승률 : '+ winRate)\n",
    "skillSeq = []\n",
    "for i in range(3):\n",
    "    skill = findSkill(soup.select('ul.champion-stats__list')[2].find_all('img')[i*2])\n",
    "    skillSeq.append(skill.lower().split(champion)[1])\n",
    "pickRate = soup.select('.champion-overview__stats.champion-overview__stats--pick')[2].find('strong').text\n",
    "pickTotal = soup.select('.champion-overview__stats.champion-overview__stats--pick')[2].find('span').text\n",
    "winRate = soup.select('.champion-overview__stats.champion-overview__stats--win')[2].find('strong').text\n",
    "print('스킬 트리: ',' -> '.join(skillSeq).upper(),' | 픽률:', pickRate, '총표본 수 : ' + pickTotal, '승률:', winRate)    \n",
    "for i in range(10):\n",
    "    tmp = soup.select('td.champion-overview__data.champion-overview__border.champion-overview__border--first')[i].find_all('img')\n",
    "    keys = findItem(tmp)\n",
    "    items = [searchItem(int(key)) for key in keys]\n",
    "    items = ', '.join(items)\n",
    "    pickRate = soup.select('.champion-overview__stats.champion-overview__stats--pick.champion-overview__border')[i].find('strong').text\n",
    "    pickTotal = soup.select('.champion-overview__stats.champion-overview__stats--pick.champion-overview__border')[i].find('span').text\n",
    "    winRate = soup.select('.champion-overview__stats.champion-overview__stats--win.champion-overview__border')[i].find('strong').text\n",
    "    if i < 2:\n",
    "        msg = '시작아이템 :'\n",
    "    elif i >= 2 and i < 7:\n",
    "        msg = '추천 빌드 :'\n",
    "    else:\n",
    "        msg = '신발 :'\n",
    "    print(msg + items, '| 픽률 : '+ pickRate,'총표본 수 : ' + pickTotal, '승률 : '+ winRate)"
   ]
  },
  {
   "source": [
    "- 룬"
   ],
   "cell_type": "markdown",
   "metadata": {}
  },
  {
   "cell_type": "code",
   "execution_count": 15,
   "metadata": {},
   "outputs": [],
   "source": [
    "mainRune = {'Precision' : '정밀', 'Domination' : '지배', 'Sorcery' : '마법', 'Resolve' : '결의', 'Inspiration' : '영감'}"
   ]
  },
  {
   "cell_type": "code",
   "execution_count": 16,
   "metadata": {},
   "outputs": [
    {
     "output_type": "stream",
     "name": "stdout",
     "text": [
      "정밀 + 결의 | 픽률 : 71.08% 승률 : 50.71%\n",
      "추천룬 | 픽률 : 22.82% 승률 : 49.09% 총 표본수 : 9,278\n",
      "정밀\n",
      "정복자\n",
      "승전보\n",
      "전설: 민첩함\n",
      "최후의 저항\n",
      "결의\n",
      "뼈 방패\n",
      "소생\n",
      "공격속도 + 10%\n",
      "적응형 능력치 + 9\n",
      "방어력 + 9\n",
      "추천룬 | 픽률 : 8.01% 승률 : 51.9% 총 표본수 : 3,256\n",
      "정밀\n",
      "정복자\n",
      "승전보\n",
      "전설: 민첩함\n",
      "최후의 저항\n",
      "결의\n",
      "뼈 방패\n",
      "불굴의 의지\n",
      "공격속도 + 10%\n",
      "적응형 능력치 + 9\n",
      "방어력 + 9\n"
     ]
    }
   ],
   "source": [
    "# 첫번째 추천룬\n",
    "total_info = soup.select_one('.tabItem.ChampionKeystoneRune-1')\n",
    "rate_info = total_info.select('.champion-overview__stats.champion-overview__stats--pick')\n",
    "rec_runes = soup.select('.champion-stats-summary-rune__name')\n",
    "rune_info = soup.select('.champion-stats-summary-rune__rate')\n",
    "eng_rune = rec_runes[0].text.split(' + ')\n",
    "kor_rune = mainRune[eng_rune[0]] + ' + ' + mainRune[eng_rune[1]]\n",
    "pickRate = rune_info[0].find('strong').text\n",
    "winRate = rune_info[0].find_all('span')[-1].text\n",
    "print(kor_rune, '| 픽률 : ' + pickRate, '승률 : ' + winRate)\n",
    "for i in range(2): \n",
    "    pickRate = rate_info[i].find('strong').text\n",
    "    winRate= rate_info[i].find_all('strong')[-1].text\n",
    "    pickTotal = rate_info[i].find_all('span')[1].text\n",
    "    print('추천룬 | 픽률 : ' + pickRate, '승률 : ' + winRate, '총 표본수 : ' + pickTotal)\n",
    "    for k in range(33):\n",
    "        if i == 1:\n",
    "            k += 33\n",
    "        link = total_info.find_all('img')[k].attrs['src']\n",
    "        if 'e_grayscale' in str(link):\n",
    "            pass\n",
    "        else:\n",
    "            print(searchRune(int(''.join(findItem(link)))))"
   ]
  },
  {
   "cell_type": "code",
   "execution_count": 17,
   "metadata": {
    "tags": []
   },
   "outputs": [
    {
     "output_type": "stream",
     "name": "stdout",
     "text": [
      "정밀 + 영감 | 픽률 : 16.59% 승률 : 49.12%\n",
      "추천룬 | 픽률 : 3.9% 승률 : 46.53% 총 표본수 : 1,584\n",
      "정밀\n",
      "정복자\n",
      "승전보\n",
      "전설: 민첩함\n",
      "최후의 저항\n",
      "영감\n",
      "비스킷 배달\n",
      "시간 왜곡 물약\n",
      "공격속도 + 10%\n",
      "적응형 능력치 + 9\n",
      "방어력 + 9\n",
      "추천룬 | 픽률 : 1.62% 승률 : 48.03% 총 표본수 : 660\n",
      "정밀\n",
      "정복자\n",
      "승전보\n",
      "전설: 민첩함\n",
      "최후의 저항\n",
      "영감\n",
      "비스킷 배달\n",
      "시간 왜곡 물약\n",
      "공격속도 + 10%\n",
      "적응형 능력치 + 9\n",
      "마법저항력 + 8\n"
     ]
    }
   ],
   "source": [
    "# 두번째 추천 룬\n",
    "rate_info = soup.select_one('.ChampionKeystoneRune-2').select('.champion-overview__stats.champion-overview__stats--pick')\n",
    "eng_rune = rec_runes[1].text.split(' + ')\n",
    "kor_rune = mainRune[eng_rune[0]] + ' + ' + mainRune[eng_rune[1]]\n",
    "pickRate = rune_info[1].find('strong').text\n",
    "winRate = rune_info[1].find_all('span')[-1].text\n",
    "print(kor_rune, '| 픽률 : ' + pickRate, '승률 : ' + winRate)\n",
    "for i in range(2):\n",
    "    pickRate = rate_info[i].find('strong').text\n",
    "    winRate= rate_info[i].find_all('strong')[-1].text\n",
    "    pickTotal = rate_info[i].find_all('span')[1].text\n",
    "    print('추천룬 | 픽률 : ' + pickRate, '승률 : ' + winRate, '총 표본수 : ' + pickTotal)\n",
    "    for k in range(33):\n",
    "        if i == 1:\n",
    "                k += 33\n",
    "        link = soup.select_one('.ChampionKeystoneRune-2').find_all('img')[k].attrs['src']\n",
    "        if 'e_grayscale' in str(link):\n",
    "            pass\n",
    "        else:\n",
    "            print(searchRune(int(''.join(findItem(link)))))"
   ]
  },
  {
   "source": [
    "### 매치업"
   ],
   "cell_type": "markdown",
   "metadata": {}
  },
  {
   "cell_type": "code",
   "execution_count": 18,
   "metadata": {},
   "outputs": [],
   "source": [
    "url = f'https://www.op.gg/champion/{champion}/statistics/{lane}/matchup'\n",
    "html = requests.get(url).text\n",
    "soup = BeautifulSoup(html, 'html.parser')"
   ]
  },
  {
   "cell_type": "code",
   "execution_count": 19,
   "metadata": {},
   "outputs": [
    {
     "output_type": "stream",
     "name": "stdout",
     "text": [
      "Irelia vs Sett 상대승률 : 49.5%\n",
      "통계량: 20,845 통계 비율 8.02%\n",
      "Irelia vs Fiora 상대승률 : 48.42%\n",
      "통계량: 16,942 통계 비율 6.52%\n",
      "Irelia vs Sylas 상대승률 : 51.19%\n",
      "통계량: 14,620 통계 비율 5.62%\n",
      "Irelia vs Camille 상대승률 : 50.35%\n",
      "통계량: 10,317 통계 비율 3.97%\n",
      "Irelia vs Renekton 상대승률 : 52.76%\n",
      "통계량: 9,881 통계 비율 3.80%\n",
      "Irelia vs Jax 상대승률 : 48.48%\n",
      "통계량: 9,647 통계 비율 3.71%\n",
      "Irelia vs Malphite 상대승률 : 51.22%\n",
      "통계량: 9,327 통계 비율 3.59%\n",
      "Irelia vs Aatrox 상대승률 : 54.29%\n",
      "통계량: 8,944 통계 비율 3.44%\n",
      "Irelia vs Gwen 상대승률 : 54.15%\n",
      "통계량: 8,388 통계 비율 3.23%\n",
      "Irelia vs Garen 상대승률 : 48.09%\n",
      "통계량: 8,330 통계 비율 3.20%\n",
      "Irelia vs Jayce 상대승률 : 56.47%\n",
      "통계량: 7,117 통계 비율 2.74%\n",
      "Irelia vs Darius 상대승률 : 53%\n",
      "통계량: 6,849 통계 비율 2.63%\n",
      "Irelia vs Riven 상대승률 : 49.33%\n",
      "통계량: 6,749 통계 비율 2.60%\n",
      "Irelia vs Akali 상대승률 : 56.53%\n",
      "통계량: 5,921 통계 비율 2.28%\n",
      "Irelia vs Wukong 상대승률 : 47.85%\n",
      "통계량: 5,317 통계 비율 2.05%\n",
      "Irelia vs Shen 상대승률 : 49.3%\n",
      "통계량: 5,136 통계 비율 1.98%\n",
      "Irelia vs Tahm Kench 상대승률 : 47.26%\n",
      "통계량: 5,021 통계 비율 1.93%\n",
      "Irelia vs Ornn 상대승률 : 50.16%\n",
      "통계량: 4,892 통계 비율 1.88%\n",
      "Irelia vs Volibear 상대승률 : 50.82%\n",
      "통계량: 4,709 통계 비율 1.81%\n",
      "Irelia vs Vayne 상대승률 : 52.7%\n",
      "통계량: 4,607 통계 비율 1.77%\n",
      "Irelia vs Mordekaiser 상대승률 : 53.57%\n",
      "통계량: 4,529 통계 비율 1.74%\n",
      "Irelia vs Viego 상대승률 : 53.21%\n",
      "통계량: 4,473 통계 비율 1.72%\n",
      "Irelia vs Teemo 상대승률 : 53.04%\n",
      "통계량: 4,408 통계 비율 1.70%\n",
      "Irelia vs Dr. Mundo 상대승률 : 54.7%\n",
      "통계량: 3,903 통계 비율 1.50%\n",
      "Irelia vs Gnar 상대승률 : 56.25%\n",
      "통계량: 3,714 통계 비율 1.43%\n",
      "Irelia vs Lee Sin 상대승률 : 53.81%\n",
      "통계량: 3,566 통계 비율 1.37%\n",
      "Irelia vs Nasus 상대승률 : 51.26%\n",
      "통계량: 3,223 통계 비율 1.24%\n",
      "Irelia vs Tryndamere 상대승률 : 49.63%\n",
      "통계량: 2,952 통계 비율 1.14%\n",
      "Irelia vs Kled 상대승률 : 48.91%\n",
      "통계량: 2,791 통계 비율 1.07%\n",
      "Irelia vs Trundle 상대승률 : 49.58%\n",
      "통계량: 2,723 통계 비율 1.05%\n"
     ]
    }
   ],
   "source": [
    "for i in range(30):\n",
    "    champ = soup.select('.champion-matchup-list__champion')[i].find('span').text\n",
    "    winRate = soup.select('.champion-matchup-list__champion')[i].find_all('span')[1].string\n",
    "    winRate = [item.strip() for item in winRate if str(item)]\n",
    "    winRate = ''.join(winRate)\n",
    "    play_rate = soup.select('.champion-matchup-list__totalplayed')[i].find('span').text\n",
    "    play_num = soup.select('.champion-matchup-list__totalplayed')[i].find('small').text\n",
    "    print(f'{champion.capitalize()} vs {champ} 상대승률 :',winRate)\n",
    "    print(f'통계량: {play_num} 통계 비율 {play_rate}')"
   ]
  },
  {
   "cell_type": "code",
   "execution_count": null,
   "metadata": {},
   "outputs": [],
   "source": []
  }
 ]
}